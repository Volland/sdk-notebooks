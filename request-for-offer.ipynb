{
 "cells": [
  {
   "cell_type": "code",
   "execution_count": null,
   "id": "57d5bb06-1c7b-433f-9e73-2ef552a637be",
   "metadata": {},
   "outputs": [],
   "source": [
    "const plantuml = require('plantuml');\n",
    "const tslab = require(\"tslab\");"
   ]
  },
  {
   "cell_type": "markdown",
   "id": "4773fa24-e2ed-471d-afaa-ba4a062feecc",
   "metadata": {
    "tags": []
   },
   "source": [
    "## Howto offer VC to Holder"
   ]
  },
  {
   "cell_type": "code",
   "execution_count": 11,
   "id": "dbe9e566-feb3-4764-9d8d-4cff790e97fc",
   "metadata": {
    "jupyter": {
     "source_hidden": true
    },
    "tags": []
   },
   "outputs": [
    {
     "data": {
      "image/svg+xml": [
       "<?xml version=\"1.0\" encoding=\"UTF-8\" standalone=\"no\"?><svg xmlns=\"http://www.w3.org/2000/svg\" xmlns:xlink=\"http://www.w3.org/1999/xlink\" contentScriptType=\"application/ecmascript\" contentStyleType=\"text/css\" height=\"770px\" preserveAspectRatio=\"none\" style=\"width:1025px;height:770px;\" version=\"1.1\" viewBox=\"0 0 1025 770\" width=\"1025px\" zoomAndPan=\"magnify\"><defs><filter height=\"300%\" id=\"fki0l40nzu1o2\" width=\"300%\" x=\"-1\" y=\"-1\"><feGaussianBlur result=\"blurOut\" stdDeviation=\"2.0\"/><feColorMatrix in=\"blurOut\" result=\"blurOut2\" type=\"matrix\" values=\"0 0 0 0 0 0 0 0 0 0 0 0 0 0 0 0 0 0 .4 0\"/><feOffset dx=\"4.0\" dy=\"4.0\" in=\"blurOut2\" result=\"blurOut3\"/><feBlend in=\"SourceGraphic\" in2=\"blurOut3\" mode=\"normal\"/></filter></defs><g><text fill=\"#000000\" font-family=\"sans-serif\" font-size=\"14\" font-weight=\"bold\" lengthAdjust=\"spacingAndGlyphs\" textLength=\"228\" x=\"399\" y=\"23.5352\">Affinidi: Affinidi: Offer VC Flow</text><line style=\"stroke: #A80036; stroke-width: 1.0; stroke-dasharray: 5.0,5.0;\" x1=\"107\" x2=\"107\" y1=\"116.9766\" y2=\"683.1875\"/><line style=\"stroke: #A80036; stroke-width: 1.0; stroke-dasharray: 5.0,5.0;\" x1=\"398.5\" x2=\"398.5\" y1=\"116.9766\" y2=\"683.1875\"/><line style=\"stroke: #A80036; stroke-width: 1.0; stroke-dasharray: 5.0,5.0;\" x1=\"798\" x2=\"798\" y1=\"116.9766\" y2=\"683.1875\"/><line style=\"stroke: #A80036; stroke-width: 1.0; stroke-dasharray: 5.0,5.0;\" x1=\"941\" x2=\"941\" y1=\"116.9766\" y2=\"683.1875\"/><text fill=\"#000000\" font-family=\"sans-serif\" font-size=\"14\" lengthAdjust=\"spacingAndGlyphs\" textLength=\"87\" x=\"61\" y=\"114.0234\">SDK (Holder)</text><ellipse cx=\"107.5\" cy=\"43.4883\" fill=\"#FEFECE\" filter=\"url(#fki0l40nzu1o2)\" rx=\"8\" ry=\"8\" style=\"stroke: #A80036; stroke-width: 2.0;\"/><path d=\"M107.5,51.4883 L107.5,78.4883 M94.5,59.4883 L120.5,59.4883 M107.5,78.4883 L94.5,93.4883 M107.5,78.4883 L120.5,93.4883 \" fill=\"none\" filter=\"url(#fki0l40nzu1o2)\" style=\"stroke: #A80036; stroke-width: 2.0;\"/><text fill=\"#000000\" font-family=\"sans-serif\" font-size=\"14\" lengthAdjust=\"spacingAndGlyphs\" textLength=\"87\" x=\"61\" y=\"695.7227\">SDK (Holder)</text><ellipse cx=\"107.5\" cy=\"708.6758\" fill=\"#FEFECE\" filter=\"url(#fki0l40nzu1o2)\" rx=\"8\" ry=\"8\" style=\"stroke: #A80036; stroke-width: 2.0;\"/><path d=\"M107.5,716.6758 L107.5,743.6758 M94.5,724.6758 L120.5,724.6758 M107.5,743.6758 L94.5,758.6758 M107.5,743.6758 L120.5,758.6758 \" fill=\"none\" filter=\"url(#fki0l40nzu1o2)\" style=\"stroke: #A80036; stroke-width: 2.0;\"/><text fill=\"#000000\" font-family=\"sans-serif\" font-size=\"14\" lengthAdjust=\"spacingAndGlyphs\" textLength=\"82\" x=\"354.5\" y=\"114.0234\">SDK (Issuer)</text><ellipse cx=\"398.5\" cy=\"43.4883\" fill=\"#FEFECE\" filter=\"url(#fki0l40nzu1o2)\" rx=\"8\" ry=\"8\" style=\"stroke: #A80036; stroke-width: 2.0;\"/><path d=\"M398.5,51.4883 L398.5,78.4883 M385.5,59.4883 L411.5,59.4883 M398.5,78.4883 L385.5,93.4883 M398.5,78.4883 L411.5,93.4883 \" fill=\"none\" filter=\"url(#fki0l40nzu1o2)\" style=\"stroke: #A80036; stroke-width: 2.0;\"/><text fill=\"#000000\" font-family=\"sans-serif\" font-size=\"14\" lengthAdjust=\"spacingAndGlyphs\" textLength=\"82\" x=\"354.5\" y=\"695.7227\">SDK (Issuer)</text><ellipse cx=\"398.5\" cy=\"708.6758\" fill=\"#FEFECE\" filter=\"url(#fki0l40nzu1o2)\" rx=\"8\" ry=\"8\" style=\"stroke: #A80036; stroke-width: 2.0;\"/><path d=\"M398.5,716.6758 L398.5,743.6758 M385.5,724.6758 L411.5,724.6758 M398.5,743.6758 L385.5,758.6758 M398.5,743.6758 L411.5,758.6758 \" fill=\"none\" filter=\"url(#fki0l40nzu1o2)\" style=\"stroke: #A80036; stroke-width: 2.0;\"/><rect fill=\"#FEFECE\" filter=\"url(#fki0l40nzu1o2)\" height=\"30.4883\" style=\"stroke: #A80036; stroke-width: 1.5;\" width=\"107\" x=\"743\" y=\"81.4883\"/><text fill=\"#000000\" font-family=\"sans-serif\" font-size=\"14\" lengthAdjust=\"spacingAndGlyphs\" textLength=\"93\" x=\"750\" y=\"102.0234\">Issuer Service</text><rect fill=\"#FEFECE\" filter=\"url(#fki0l40nzu1o2)\" height=\"30.4883\" style=\"stroke: #A80036; stroke-width: 1.5;\" width=\"107\" x=\"743\" y=\"682.1875\"/><text fill=\"#000000\" font-family=\"sans-serif\" font-size=\"14\" lengthAdjust=\"spacingAndGlyphs\" textLength=\"93\" x=\"750\" y=\"702.7227\">Issuer Service</text><rect fill=\"#FEFECE\" filter=\"url(#fki0l40nzu1o2)\" height=\"30.4883\" style=\"stroke: #A80036; stroke-width: 1.5;\" width=\"150\" x=\"864\" y=\"81.4883\"/><text fill=\"#000000\" font-family=\"sans-serif\" font-size=\"14\" lengthAdjust=\"spacingAndGlyphs\" textLength=\"136\" x=\"871\" y=\"102.0234\">Registry abstraction</text><rect fill=\"#FEFECE\" filter=\"url(#fki0l40nzu1o2)\" height=\"30.4883\" style=\"stroke: #A80036; stroke-width: 1.5;\" width=\"150\" x=\"864\" y=\"682.1875\"/><text fill=\"#000000\" font-family=\"sans-serif\" font-size=\"14\" lengthAdjust=\"spacingAndGlyphs\" textLength=\"136\" x=\"871\" y=\"702.7227\">Registry abstraction</text><polygon fill=\"#A80036\" points=\"386.5,144.2871,396.5,148.2871,386.5,152.2871,390.5,148.2871\" style=\"stroke: #A80036; stroke-width: 1.0;\"/><line style=\"stroke: #A80036; stroke-width: 1.0;\" x1=\"107.5\" x2=\"392.5\" y1=\"148.2871\" y2=\"148.2871\"/><text fill=\"#000000\" font-family=\"sans-serif\" font-size=\"13\" lengthAdjust=\"spacingAndGlyphs\" textLength=\"113\" x=\"114.5\" y=\"143.5449\">request credential</text><polygon fill=\"#A80036\" points=\"786.5,173.5977,796.5,177.5977,786.5,181.5977,790.5,177.5977\" style=\"stroke: #A80036; stroke-width: 1.0;\"/><line style=\"stroke: #A80036; stroke-width: 1.0;\" x1=\"398.5\" x2=\"792.5\" y1=\"177.5977\" y2=\"177.5977\"/><text fill=\"#000000\" font-family=\"sans-serif\" font-size=\"13\" lengthAdjust=\"spacingAndGlyphs\" textLength=\"251\" x=\"405.5\" y=\"172.8555\">BuildCredentialOffer(offeredCredentials)</text><polygon fill=\"#A80036\" points=\"409.5,202.9082,399.5,206.9082,409.5,210.9082,405.5,206.9082\" style=\"stroke: #A80036; stroke-width: 1.0;\"/><line style=\"stroke: #A80036; stroke-width: 1.0;\" x1=\"403.5\" x2=\"797.5\" y1=\"206.9082\" y2=\"206.9082\"/><text fill=\"#000000\" font-family=\"sans-serif\" font-size=\"13\" lengthAdjust=\"spacingAndGlyphs\" textLength=\"274\" x=\"415.5\" y=\"202.166\">Issuer Service: 200 [credentialOfferRequest]</text><path d=\"M348,219.9082 L348,244.9082 L844,244.9082 L844,229.9082 L834,219.9082 L348,219.9082 \" fill=\"#FBFB77\" filter=\"url(#fki0l40nzu1o2)\" style=\"stroke: #A80036; stroke-width: 1.0;\"/><path d=\"M834,219.9082 L834,229.9082 L844,229.9082 L834,219.9082 \" fill=\"#FBFB77\" style=\"stroke: #A80036; stroke-width: 1.0;\"/><text fill=\"#000000\" font-family=\"sans-serif\" font-size=\"13\" lengthAdjust=\"spacingAndGlyphs\" textLength=\"475\" x=\"354\" y=\"237.4766\">credentialOfferRequest signing and credentialOfferRequestToken generated</text><polygon fill=\"#A80036\" points=\"118.5,271.5293,108.5,275.5293,118.5,279.5293,114.5,275.5293\" style=\"stroke: #A80036; stroke-width: 1.0;\"/><line style=\"stroke: #A80036; stroke-width: 1.0;\" x1=\"112.5\" x2=\"797.5\" y1=\"275.5293\" y2=\"275.5293\"/><text fill=\"#000000\" font-family=\"sans-serif\" font-size=\"13\" lengthAdjust=\"spacingAndGlyphs\" textLength=\"215\" x=\"124.5\" y=\"270.7871\">200[credentialOfferRequestToken]</text><path d=\"M16,288.5293 L16,359.5293 L486,359.5293 L486,298.5293 L476,288.5293 L16,288.5293 \" fill=\"#FBFB77\" filter=\"url(#fki0l40nzu1o2)\" style=\"stroke: #A80036; stroke-width: 1.0;\"/><path d=\"M476,288.5293 L476,298.5293 L486,298.5293 L476,288.5293 \" fill=\"#FBFB77\" style=\"stroke: #A80036; stroke-width: 1.0;\"/><text fill=\"#000000\" font-family=\"sans-serif\" font-size=\"13\" lengthAdjust=\"spacingAndGlyphs\" textLength=\"39\" x=\"22\" y=\"306.0977\">NOTE:</text><text fill=\"#000000\" font-family=\"sans-serif\" font-size=\"13\" lengthAdjust=\"spacingAndGlyphs\" textLength=\"449\" x=\"22\" y=\"321.4082\">Verification of the Issuer signature on the credentialOfferRequestToken</text><text fill=\"#000000\" font-family=\"sans-serif\" font-size=\"13\" lengthAdjust=\"spacingAndGlyphs\" textLength=\"231\" x=\"22\" y=\"336.7188\">1. Resolve Issuer DID (get publicKey)</text><text fill=\"#000000\" font-family=\"sans-serif\" font-size=\"13\" lengthAdjust=\"spacingAndGlyphs\" textLength=\"269\" x=\"22\" y=\"352.0293\">2. Verify Issuer signature (using publicKey)</text><polygon fill=\"#A80036\" points=\"929,386.082,939,390.082,929,394.082,933,390.082\" style=\"stroke: #A80036; stroke-width: 1.0;\"/><line style=\"stroke: #A80036; stroke-width: 1.0;\" x1=\"107.5\" x2=\"935\" y1=\"390.082\" y2=\"390.082\"/><text fill=\"#000000\" font-family=\"sans-serif\" font-size=\"13\" lengthAdjust=\"spacingAndGlyphs\" textLength=\"135\" x=\"114.5\" y=\"385.3398\">resolveDid(IssuerDid)</text><polygon fill=\"#A80036\" points=\"118.5,415.3926,108.5,419.3926,118.5,423.3926,114.5,419.3926\" style=\"stroke: #A80036; stroke-width: 1.0;\"/><line style=\"stroke: #A80036; stroke-width: 1.0;\" x1=\"112.5\" x2=\"940\" y1=\"419.3926\" y2=\"419.3926\"/><text fill=\"#000000\" font-family=\"sans-serif\" font-size=\"13\" lengthAdjust=\"spacingAndGlyphs\" textLength=\"123\" x=\"124.5\" y=\"414.6504\">200 [DidDocument]</text><polygon fill=\"#A80036\" points=\"386.5,444.7031,396.5,448.7031,386.5,452.7031,390.5,448.7031\" style=\"stroke: #A80036; stroke-width: 1.0;\"/><line style=\"stroke: #A80036; stroke-width: 1.0;\" x1=\"107.5\" x2=\"392.5\" y1=\"448.7031\" y2=\"448.7031\"/><text fill=\"#000000\" font-family=\"sans-serif\" font-size=\"13\" lengthAdjust=\"spacingAndGlyphs\" textLength=\"267\" x=\"114.5\" y=\"443.9609\">send back(CredentialOfferResponseToken)</text><path d=\"M8,461.7031 L8,516.7031 L494,516.7031 L494,471.7031 L484,461.7031 L8,461.7031 \" fill=\"#FBFB77\" filter=\"url(#fki0l40nzu1o2)\" style=\"stroke: #A80036; stroke-width: 1.0;\"/><path d=\"M484,461.7031 L484,471.7031 L494,471.7031 L484,461.7031 \" fill=\"#FBFB77\" style=\"stroke: #A80036; stroke-width: 1.0;\"/><text fill=\"#000000\" font-family=\"sans-serif\" font-size=\"13\" lengthAdjust=\"spacingAndGlyphs\" textLength=\"465\" x=\"14\" y=\"479.2715\">Verification of the Holder signature on the CredentialOfferResponseToken</text><text fill=\"#000000\" font-family=\"sans-serif\" font-size=\"13\" lengthAdjust=\"spacingAndGlyphs\" textLength=\"235\" x=\"14\" y=\"494.582\">1. Resolve Holder DID (get publicKey)</text><text fill=\"#000000\" font-family=\"sans-serif\" font-size=\"13\" lengthAdjust=\"spacingAndGlyphs\" textLength=\"273\" x=\"14\" y=\"509.8926\">2. Verify Holder signature (using publicKey)</text><polygon fill=\"#A80036\" points=\"929,543.9453,939,547.9453,929,551.9453,933,547.9453\" style=\"stroke: #A80036; stroke-width: 1.0;\"/><line style=\"stroke: #A80036; stroke-width: 1.0;\" x1=\"398.5\" x2=\"935\" y1=\"547.9453\" y2=\"547.9453\"/><text fill=\"#000000\" font-family=\"sans-serif\" font-size=\"13\" lengthAdjust=\"spacingAndGlyphs\" textLength=\"139\" x=\"405.5\" y=\"543.2031\">resolveDid(HolderDid)</text><polygon fill=\"#A80036\" points=\"409.5,573.2559,399.5,577.2559,409.5,581.2559,405.5,577.2559\" style=\"stroke: #A80036; stroke-width: 1.0;\"/><line style=\"stroke: #A80036; stroke-width: 1.0;\" x1=\"403.5\" x2=\"940\" y1=\"577.2559\" y2=\"577.2559\"/><text fill=\"#000000\" font-family=\"sans-serif\" font-size=\"13\" lengthAdjust=\"spacingAndGlyphs\" textLength=\"119\" x=\"415.5\" y=\"572.5137\">200[DidDocument]</text><polygon fill=\"#A80036\" points=\"786.5,602.5664,796.5,606.5664,786.5,610.5664,790.5,606.5664\" style=\"stroke: #A80036; stroke-width: 1.0;\"/><line style=\"stroke: #A80036; stroke-width: 1.0;\" x1=\"398.5\" x2=\"792.5\" y1=\"606.5664\" y2=\"606.5664\"/><text fill=\"#000000\" font-family=\"sans-serif\" font-size=\"13\" lengthAdjust=\"spacingAndGlyphs\" textLength=\"376\" x=\"405.5\" y=\"601.8242\">CreateSignedCredential(claim, claimMetadata, requesterDid)</text><polygon fill=\"#A80036\" points=\"409.5,631.877,399.5,635.877,409.5,639.877,405.5,635.877\" style=\"stroke: #A80036; stroke-width: 1.0;\"/><line style=\"stroke: #A80036; stroke-width: 1.0;\" x1=\"403.5\" x2=\"797.5\" y1=\"635.877\" y2=\"635.877\"/><text fill=\"#000000\" font-family=\"sans-serif\" font-size=\"13\" lengthAdjust=\"spacingAndGlyphs\" textLength=\"145\" x=\"415.5\" y=\"631.1348\">200[signedCredentials]</text><polygon fill=\"#A80036\" points=\"118.5,661.1875,108.5,665.1875,118.5,669.1875,114.5,665.1875\" style=\"stroke: #A80036; stroke-width: 1.0;\"/><line style=\"stroke: #A80036; stroke-width: 1.0;\" x1=\"112.5\" x2=\"397.5\" y1=\"665.1875\" y2=\"665.1875\"/><text fill=\"#000000\" font-family=\"sans-serif\" font-size=\"13\" lengthAdjust=\"spacingAndGlyphs\" textLength=\"226\" x=\"124.5\" y=\"660.4453\">200 [Token wirth credentials inside]</text></g></svg>"
      ]
     },
     "metadata": {},
     "output_type": "display_data"
    }
   ],
   "source": [
    "const ShareOfferDiagram = await plantuml(`\n",
    "@startuml\n",
    "title Affinidi: Affinidi: Offer VC Flow\n",
    "actor \"SDK (Holder)\" as holder\n",
    "actor  \"SDK (Issuer)\" as client\n",
    "participant  \"Issuer Service\" as issuer\n",
    "participant \"Registry abstraction\" as registry\n",
    "holder -> client: request credential\n",
    "client -> issuer: BuildCredentialOffer(offeredCredentials)\n",
    "issuer -> client : Issuer Service: 200 [credentialOfferRequest]\n",
    "note over client, issuer: credentialOfferRequest signing and credentialOfferRequestToken generated\n",
    "issuer -> holder: 200[credentialOfferRequestToken]\n",
    "\n",
    "note over holder, client\n",
    "NOTE:\n",
    "Verification of the Issuer signature on the credentialOfferRequestToken\n",
    "1. Resolve Issuer DID (get publicKey)\n",
    "2. Verify Issuer signature (using publicKey)\n",
    "end note \n",
    "holder -> registry: resolveDid(IssuerDid)\n",
    "registry -> holder: 200 [DidDocument]\n",
    "holder -> client: send back(CredentialOfferResponseToken)\n",
    "\n",
    "note over client, holder\n",
    "Verification of the Holder signature on the CredentialOfferResponseToken\n",
    "1. Resolve Holder DID (get publicKey)\n",
    "2. Verify Holder signature (using publicKey)\n",
    "end note\n",
    "client -> registry: resolveDid(HolderDid)\n",
    "registry -> client: 200[DidDocument]\n",
    "client -> issuer: CreateSignedCredential(claim, claimMetadata, requesterDid)\n",
    "issuer -> client: 200[signedCredentials]\n",
    "client -> holder: 200 [Token wirth credentials inside]\n",
    "\n",
    "@enduml\n",
    "`);\n",
    "tslab.display.svg(ShareOfferDiagram)\n"
   ]
  },
  {
   "cell_type": "code",
   "execution_count": 1,
   "id": "364093ca-f052-4b44-b1de-9086bdc1e3b6",
   "metadata": {},
   "outputs": [],
   "source": [
    "const { createWallet } = require('@affinidi/wallet-node-sdk')\n",
    "const walletFactory = createWallet('AffinityCore')\n"
   ]
  },
  {
   "cell_type": "markdown",
   "id": "c9a4a6e4-9ff8-4bb9-a339-1bcf565b7fa5",
   "metadata": {},
   "source": [
    "Lets setup wallets"
   ]
  },
  {
   "cell_type": "code",
   "execution_count": 5,
   "id": "be6d0651-3f63-486d-917a-99127a04a15b",
   "metadata": {},
   "outputs": [],
   "source": [
    "import jwt_decode from \"jwt-decode\";"
   ]
  },
  {
   "cell_type": "code",
   "execution_count": 2,
   "id": "06a77bf8-9871-4498-b023-e798a8de699c",
   "metadata": {},
   "outputs": [],
   "source": [
    "const accessApiKey = '3794c3f8d9fb9a92770d79dbd5e490bc22bb0e58e9ff42475b379e35a575d13d'\n",
    "const options = {\n",
    "    env: 'prod',\n",
    "    accessApiKey,\n",
    "}\n",
    "  const issuerWallet = await walletFactory.createWallet(options, 'P@55word!!!')\n",
    "  const holderWallet = await walletFactory.createWallet(options, 'P@55word!!!')"
   ]
  },
  {
   "cell_type": "markdown",
   "id": "26b666ce-f9e5-4352-b0b2-80ea14237d88",
   "metadata": {},
   "source": [
    "What we want to offer"
   ]
  },
  {
   "cell_type": "code",
   "execution_count": 3,
   "id": "73ff15ea-ab69-4d24-8e79-eefa696eabaa",
   "metadata": {},
   "outputs": [
    {
     "name": "stdout",
     "output_type": "stream",
     "text": [
      "eyJ0eXAiOiJKV1QiLCJhbGciOiJFUzI1NksifQ.eyJpbnRlcmFjdGlvblRva2VuIjp7ImNhbGxiYWNrVVJMIjoiaHR0cHM6Ly92cC1zZXJ2aWNlLmNvbS9jYWxsYmFjayIsIm9mZmVyZWRDcmVkZW50aWFscyI6W3sidHlwZSI6IkNvbnRlbnRMaWtlIiwicmVuZGVySW5mbyI6e319XX0sImV4cCI6MTY2MjgzNzg5OTQ0NSwidHlwIjoiY3JlZGVudGlhbE9mZmVyUmVxdWVzdCIsImp0aSI6IjNmYTdhN2FkMTFiNWQ0YWMiLCJpc3MiOiJkaWQ6ZWxlbTpFaURVYldBUXNYOVk1S21aOVloYlJ1N0NyNGp5Y2k0WnVmdmVCM0FDUVlONzdBO2VsZW06aW5pdGlhbC1zdGF0ZT1leUp3Y205MFpXTjBaV1FpT2lKbGVVcDJZMGRXZVZsWVVuQmlNalJwVDJsS2FtTnRWbWhrUjFWcFRFTktjbUZYVVdsUGFVbHFZMGhLY0dKWFJubGxVMGx6U1cxR2MxcDVTVFpKYTFaVVRXcFZNbE41U2praUxDSndZWGxzYjJGa0lqb2laWGxLUVZreU9YVmtSMVkwWkVOSk5rbHRhREJrU0VKNlQyazRkbVI2VG5CYVF6VjJZMjFqZG1NeVZtcGtXRXB3WkVocmRtUnFTV2xNUTBwM1pGZEtjMkZYVGt4YVdHdHBUMngwTjBsdGJHdEphbTlwU1ROQ2VXRlhNV2hqYm10cFRFTktNV015Um01YVUwazJTVzVPY0ZveU5YQmliV05wVEVOS01HVllRbXhKYW05cFZUSldhbU5FU1RGT2JYTjRWbTFXZVdGWFduQlpNa1l3WVZjNWRWTXlWalZOYWtGNFQwTkpjMGx1UWpGWmJYaHdXVEIwYkdWVmFHeGxRMGsyU1dwQmVVMUVXWHBPVkdjeFRrZFpNbGxxWkd4UFZGRXlUakpGTlUxWFJURlplbEV6VDBkVk0wNVhSbXRhYlVWM1dsUm5kMXB0V21oTlZGbDZUa1JuZDFsWFdtbFBSRlUxVFhwak5FNXFiRzFPVkZWNlRWUlNhRTE1U2psTVNITnBZVmRSYVU5cFNXcGpiVlpxWWpOYWJHTnVhMmxNUTBveFl6SkdibHBUU1RaSmJrcHNXVEk1TWxwWVNqVkphWGRwWkVoc2QxcFRTVFpKYkU1c1dUTkJlVTVVV25KTlZscHNZMjFzYldGWFRtaGtSMngyWW10MGJHVlVTWGROVkdkcFRFTktkMlJYU25OaFYwNU1XbGhzU1ZwWVoybFBhVWwzVFcxRk5VOUhXWGRPYW1kNVdYcFZkMXBYV21oWmVtczFUbnByZUU1RVNtcE5lbEV4VFRKUk5FNHlSVE5hVkVadFdXMUZlVTlIVVRKUFYwa3hUbnBTYUU1WFZURk5NbFpzVFVSSk0xcEVVWGRhUjBacFRWUkJhV1pXTUhOSmJVWXhaRWRvYkdKdVVuQlpNa1l3WVZjNWRVbHFjR0pKYVU1M1kyMXNkRmxZU2pWSmJEQnpTVzFHZW1NeVZubGtSMngyWW1zeGJHUkhhSFphUTBrMlYzbEphbU5JU25CaVYwWjVaVk5LWkdaUklpd2ljMmxuYm1GMGRYSmxJam9pVmxCRWJrdElSVUp2T1RaRFUwNUJTRnBqTjJGcU5rNWhkbWQwTXpsTlF6QjBjRlowY20xWFprSTFXbU5LV1VsVWVHMVRUREZwUVMwMVFWOVdaVEZmVWpSWU5EUm9SbGg2VEdoWVEzQXdkRmN6ZEhvelJuY2lmUSIsImtpZCI6ImRpZDplbGVtOkVpRFViV0FRc1g5WTVLbVo5WWhiUnU3Q3I0anljaTRadWZ2ZUIzQUNRWU43N0EjcHJpbWFyeSJ9.4d3869db8f7c44c607cbedb9a66314ca68d38e7a894a73cbfe191b0413575c842c38986daef52f2906d01bfc584c8046dd2114cc86038987239a283a07058799\n"
     ]
    }
   ],
   "source": [
    "    const offeredCredentials = [\n",
    "      {\n",
    "        type: 'ContentLike',\n",
    "        renderInfo:{},\n",
    "      }]\n",
    "     const callbackUrl = 'https://vp-service.com/callback'\n",
    "     const credentialOfferRequestToken = await issuerWallet.generateCredentialOfferRequestToken(\n",
    "      offeredCredentials,\n",
    "      {\n",
    "        callbackUrl,\n",
    "      },\n",
    "    )\n",
    "     credentialOfferRequestToken"
   ]
  },
  {
   "cell_type": "code",
   "execution_count": 6,
   "id": "deb369be-913f-403f-bccb-a091423cbb43",
   "metadata": {},
   "outputs": [
    {
     "name": "stdout",
     "output_type": "stream",
     "text": [
      "{\n",
      "  interactionToken: {\n",
      "    callbackURL: \u001b[32m'https://vp-service.com/callback'\u001b[39m,\n",
      "    offeredCredentials: [ \u001b[36m[Object]\u001b[39m ]\n",
      "  },\n",
      "  exp: \u001b[33m1662837899445\u001b[39m,\n",
      "  typ: \u001b[32m'credentialOfferRequest'\u001b[39m,\n",
      "  jti: \u001b[32m'3fa7a7ad11b5d4ac'\u001b[39m,\n",
      "  iss: \u001b[32m'did:elem:EiDUbWAQsX9Y5KmZ9YhbRu7Cr4jyci4ZufveB3ACQYN77A;elem:initial-state=eyJwcm90ZWN0ZWQiOiJleUp2Y0dWeVlYUnBiMjRpT2lKamNtVmhkR1VpTENKcmFXUWlPaUlqY0hKcGJXRnllU0lzSW1Gc1p5STZJa1ZUTWpVMlN5SjkiLCJwYXlsb2FkIjoiZXlKQVkyOXVkR1Y0ZENJNkltaDBkSEJ6T2k4dmR6TnBaQzV2Y21jdmMyVmpkWEpwZEhrdmRqSWlMQ0p3ZFdKc2FXTkxaWGtpT2x0N0ltbGtJam9pSTNCeWFXMWhjbmtpTENKMWMyRm5aU0k2SW5OcFoyNXBibWNpTENKMGVYQmxJam9pVTJWamNESTFObXN4Vm1WeWFXWnBZMkYwYVc5dVMyVjVNakF4T0NJc0luQjFZbXhwWTB0bGVVaGxlQ0k2SWpBeU1EWXpOVGcxTkdZMllqZGxPVFEyTjJFNU1XRTFZelEzT0dVM05XRmtabUV3WlRnd1ptWmhNVFl6TkRnd1lXWmlPRFU1TXpjNE5qbG1OVFV6TVRSaE15SjlMSHNpYVdRaU9pSWpjbVZqYjNabGNua2lMQ0oxYzJGblpTSTZJbkpsWTI5MlpYSjVJaXdpZEhsd1pTSTZJbE5sWTNBeU5UWnJNVlpsY21sbWFXTmhkR2x2Ymt0bGVUSXdNVGdpTENKd2RXSnNhV05MWlhsSVpYZ2lPaUl3TW1FNU9HWXdOamd5WXpVd1pXWmhZems1TnpreE5ESmpNelExTTJRNE4yRTNaVEZtWW1FeU9HUTJPV0kxTnpSaE5XVTFNMlZsTURJM1pEUXdaR0ZpTVRBaWZWMHNJbUYxZEdobGJuUnBZMkYwYVc5dUlqcGJJaU53Y21sdFlYSjVJbDBzSW1GemMyVnlkR2x2YmsxbGRHaHZaQ0k2V3lJamNISnBiV0Z5ZVNKZGZRIiwic2lnbmF0dXJlIjoiVlBEbktIRUJvOTZDU05BSFpjN2FqNk5hdmd0MzlNQzB0cFZ0cm1XZkI1WmNKWUlUeG1TTDFpQS01QV9WZTFfUjRYNDRoRlh6TGhYQ3AwdFczdHozRncifQ'\u001b[39m,\n",
      "  kid: \u001b[32m'did:elem:EiDUbWAQsX9Y5KmZ9YhbRu7Cr4jyci4ZufveB3ACQYN77A#primary'\u001b[39m\n",
      "}\n"
     ]
    }
   ],
   "source": [
    "jwt_decode(credentialOfferRequestToken)"
   ]
  },
  {
   "cell_type": "markdown",
   "id": "bc483de9-765f-423b-80ff-591247d0a30e",
   "metadata": {},
   "source": [
    "Lets holder to send responce "
   ]
  },
  {
   "cell_type": "code",
   "execution_count": 20,
   "id": "fe6fb2d2-50d2-4065-bc60-dcd3a9a67189",
   "metadata": {},
   "outputs": [
    {
     "name": "stdout",
     "output_type": "stream",
     "text": [
      "eyJ0eXAiOiJKV1QiLCJhbGciOiJFUzI1NksifQ.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.d91b4a54959469c54afe091fb6316c12f148abb34d8645e2d96fa3e08e7d4b57530af9adadae5419ff99491dea4c3e47c5b418ac3cb5fae1947939d44b313350\n"
     ]
    }
   ],
   "source": [
    "    const credentialOfferResponseToken = await holderWallet.createCredentialOfferResponseToken(\n",
    "      credentialOfferRequestToken,\n",
    "    )\n",
    "    credentialOfferResponseToken"
   ]
  },
  {
   "cell_type": "code",
   "execution_count": 7,
   "id": "ab9b4a69-58e8-41d1-9562-2417866a6b94",
   "metadata": {},
   "outputs": [
    {
     "name": "stdout",
     "output_type": "stream",
     "text": [
      "{\n",
      "  interactionToken: {\n",
      "    callbackURL: \u001b[32m'https://vp-service.com/callback'\u001b[39m,\n",
      "    selectedCredentials: [ \u001b[36m[Object]\u001b[39m ]\n",
      "  },\n",
      "  exp: \u001b[33m1662837898338\u001b[39m,\n",
      "  typ: \u001b[32m'credentialOfferResponse'\u001b[39m,\n",
      "  jti: \u001b[32m'3fa7a7ad11b5d4ac'\u001b[39m,\n",
      "  aud: \u001b[32m'did:elem:EiDUbWAQsX9Y5KmZ9YhbRu7Cr4jyci4ZufveB3ACQYN77A;elem:initial-state=eyJwcm90ZWN0ZWQiOiJleUp2Y0dWeVlYUnBiMjRpT2lKamNtVmhkR1VpTENKcmFXUWlPaUlqY0hKcGJXRnllU0lzSW1Gc1p5STZJa1ZUTWpVMlN5SjkiLCJwYXlsb2FkIjoiZXlKQVkyOXVkR1Y0ZENJNkltaDBkSEJ6T2k4dmR6TnBaQzV2Y21jdmMyVmpkWEpwZEhrdmRqSWlMQ0p3ZFdKc2FXTkxaWGtpT2x0N0ltbGtJam9pSTNCeWFXMWhjbmtpTENKMWMyRm5aU0k2SW5OcFoyNXBibWNpTENKMGVYQmxJam9pVTJWamNESTFObXN4Vm1WeWFXWnBZMkYwYVc5dVMyVjVNakF4T0NJc0luQjFZbXhwWTB0bGVVaGxlQ0k2SWpBeU1EWXpOVGcxTkdZMllqZGxPVFEyTjJFNU1XRTFZelEzT0dVM05XRmtabUV3WlRnd1ptWmhNVFl6TkRnd1lXWmlPRFU1TXpjNE5qbG1OVFV6TVRSaE15SjlMSHNpYVdRaU9pSWpjbVZqYjNabGNua2lMQ0oxYzJGblpTSTZJbkpsWTI5MlpYSjVJaXdpZEhsd1pTSTZJbE5sWTNBeU5UWnJNVlpsY21sbWFXTmhkR2x2Ymt0bGVUSXdNVGdpTENKd2RXSnNhV05MWlhsSVpYZ2lPaUl3TW1FNU9HWXdOamd5WXpVd1pXWmhZems1TnpreE5ESmpNelExTTJRNE4yRTNaVEZtWW1FeU9HUTJPV0kxTnpSaE5XVTFNMlZsTURJM1pEUXdaR0ZpTVRBaWZWMHNJbUYxZEdobGJuUnBZMkYwYVc5dUlqcGJJaU53Y21sdFlYSjVJbDBzSW1GemMyVnlkR2x2YmsxbGRHaHZaQ0k2V3lJamNISnBiV0Z5ZVNKZGZRIiwic2lnbmF0dXJlIjoiVlBEbktIRUJvOTZDU05BSFpjN2FqNk5hdmd0MzlNQzB0cFZ0cm1XZkI1WmNKWUlUeG1TTDFpQS01QV9WZTFfUjRYNDRoRlh6TGhYQ3AwdFczdHozRncifQ'\u001b[39m,\n",
      "  iss: \u001b[32m'did:elem:EiAtmNkxOhWOhTCIxORy62LpFrNZQtVM7g6oDaxmDDlqmA;elem:initial-state=eyJwcm90ZWN0ZWQiOiJleUp2Y0dWeVlYUnBiMjRpT2lKamNtVmhkR1VpTENKcmFXUWlPaUlqY0hKcGJXRnllU0lzSW1Gc1p5STZJa1ZUTWpVMlN5SjkiLCJwYXlsb2FkIjoiZXlKQVkyOXVkR1Y0ZENJNkltaDBkSEJ6T2k4dmR6TnBaQzV2Y21jdmMyVmpkWEpwZEhrdmRqSWlMQ0p3ZFdKc2FXTkxaWGtpT2x0N0ltbGtJam9pSTNCeWFXMWhjbmtpTENKMWMyRm5aU0k2SW5OcFoyNXBibWNpTENKMGVYQmxJam9pVTJWamNESTFObXN4Vm1WeWFXWnBZMkYwYVc5dVMyVjVNakF4T0NJc0luQjFZbXhwWTB0bGVVaGxlQ0k2SWpBeU5XVTFNREkzTW1FM09UQTVPV1ZtTVRNNFpXRXpPVEF4WWpJeE5USTBOakEwWldNMVpETXhZakZqWVdJNFlqbGlaamt5WmpWak1EY3hNVEV5WlRRNE1DSjlMSHNpYVdRaU9pSWpjbVZqYjNabGNua2lMQ0oxYzJGblpTSTZJbkpsWTI5MlpYSjVJaXdpZEhsd1pTSTZJbE5sWTNBeU5UWnJNVlpsY21sbWFXTmhkR2x2Ymt0bGVUSXdNVGdpTENKd2RXSnNhV05MWlhsSVpYZ2lPaUl3TXpJeE5XVXlZV1ZtWTJKbE1qQmpZV1ExWWpSbVl6Vm1PR1JsT0RRd01USTJObUl3T0dRellXWTBOekpsTWpFNU5ERXhZekptT1RGaFlqVTFZamMyTVdVaWZWMHNJbUYxZEdobGJuUnBZMkYwYVc5dUlqcGJJaU53Y21sdFlYSjVJbDBzSW1GemMyVnlkR2x2YmsxbGRHaHZaQ0k2V3lJamNISnBiV0Z5ZVNKZGZRIiwic2lnbmF0dXJlIjoicVo3cTF5WkdfelNkcmJqZ2FYZWowVTFBeVFuT2M0YjlXLVJhMUJTRHN0OXhIUEx2M1psN0wxLVZ3dURVZi1ZbjRhVHdiTF9OSVNVVkpaOHdTUUZERGcifQ'\u001b[39m,\n",
      "  kid: \u001b[32m'did:elem:EiAtmNkxOhWOhTCIxORy62LpFrNZQtVM7g6oDaxmDDlqmA#primary'\u001b[39m\n",
      "}\n"
     ]
    }
   ],
   "source": [
    "jwt_decode(credentialOfferResponseToken)"
   ]
  },
  {
   "cell_type": "markdown",
   "id": "1796b7e1-f80c-4b9e-b3c3-45bd32098059",
   "metadata": {},
   "source": [
    "Now issuer could validate a holder"
   ]
  },
  {
   "cell_type": "code",
   "execution_count": 21,
   "id": "d8d008f5-6ede-4370-a248-042efecd808e",
   "metadata": {},
   "outputs": [
    {
     "name": "stdout",
     "output_type": "stream",
     "text": [
      "{\n",
      "  isValid: \u001b[33mtrue\u001b[39m,\n",
      "  did: \u001b[32m'did:elem:EiAtmNkxOhWOhTCIxORy62LpFrNZQtVM7g6oDaxmDDlqmA;elem:initial-state=eyJwcm90ZWN0ZWQiOiJleUp2Y0dWeVlYUnBiMjRpT2lKamNtVmhkR1VpTENKcmFXUWlPaUlqY0hKcGJXRnllU0lzSW1Gc1p5STZJa1ZUTWpVMlN5SjkiLCJwYXlsb2FkIjoiZXlKQVkyOXVkR1Y0ZENJNkltaDBkSEJ6T2k4dmR6TnBaQzV2Y21jdmMyVmpkWEpwZEhrdmRqSWlMQ0p3ZFdKc2FXTkxaWGtpT2x0N0ltbGtJam9pSTNCeWFXMWhjbmtpTENKMWMyRm5aU0k2SW5OcFoyNXBibWNpTENKMGVYQmxJam9pVTJWamNESTFObXN4Vm1WeWFXWnBZMkYwYVc5dVMyVjVNakF4T0NJc0luQjFZbXhwWTB0bGVVaGxlQ0k2SWpBeU5XVTFNREkzTW1FM09UQTVPV1ZtTVRNNFpXRXpPVEF4WWpJeE5USTBOakEwWldNMVpETXhZakZqWVdJNFlqbGlaamt5WmpWak1EY3hNVEV5WlRRNE1DSjlMSHNpYVdRaU9pSWpjbVZqYjNabGNua2lMQ0oxYzJGblpTSTZJbkpsWTI5MlpYSjVJaXdpZEhsd1pTSTZJbE5sWTNBeU5UWnJNVlpsY21sbWFXTmhkR2x2Ymt0bGVUSXdNVGdpTENKd2RXSnNhV05MWlhsSVpYZ2lPaUl3TXpJeE5XVXlZV1ZtWTJKbE1qQmpZV1ExWWpSbVl6Vm1PR1JsT0RRd01USTJObUl3T0dRellXWTBOekpsTWpFNU5ERXhZekptT1RGaFlqVTFZamMyTVdVaWZWMHNJbUYxZEdobGJuUnBZMkYwYVc5dUlqcGJJaU53Y21sdFlYSjVJbDBzSW1GemMyVnlkR2x2YmsxbGRHaHZaQ0k2V3lJamNISnBiV0Z5ZVNKZGZRIiwic2lnbmF0dXJlIjoicVo3cTF5WkdfelNkcmJqZ2FYZWowVTFBeVFuT2M0YjlXLVJhMUJTRHN0OXhIUEx2M1psN0wxLVZ3dURVZi1ZbjRhVHdiTF9OSVNVVkpaOHdTUUZERGcifQ'\u001b[39m,\n",
      "  nonce: \u001b[32m'3fa7a7ad11b5d4ac'\u001b[39m,\n",
      "  selectedCredentials: [ { type: \u001b[32m'ContentLike'\u001b[39m, renderInfo: {} } ],\n",
      "  errors: []\n",
      "}\n"
     ]
    }
   ],
   "source": [
    "const result = await issuerWallet.verifyCredentialOfferResponseToken(\n",
    "      credentialOfferResponseToken,\n",
    "      credentialOfferRequestToken,\n",
    "    )\n",
    "\n",
    "result"
   ]
  },
  {
   "cell_type": "markdown",
   "id": "2719fb57-e98d-4f2d-a8a3-fa53cae40641",
   "metadata": {},
   "source": [
    "Now we could issue a credential for holder"
   ]
  },
  {
   "cell_type": "code",
   "execution_count": 10,
   "id": "8647e1ca-ed58-4964-8ef5-08e9104c7fa5",
   "metadata": {},
   "outputs": [
    {
     "name": "stdout",
     "output_type": "stream",
     "text": [
      "[\n",
      "  {\n",
      "    \u001b[32m'@context'\u001b[39m: [\n",
      "      \u001b[32m'https://www.w3.org/2018/credentials/v1'\u001b[39m,\n",
      "      \u001b[32m'https://schema.affinidi.com/ContentLikeV1-0.jsonld'\u001b[39m\n",
      "    ],\n",
      "    id: \u001b[32m'claimId:3b1426be69d03bc1'\u001b[39m,\n",
      "    type: [ \u001b[32m'VerifiableCredential'\u001b[39m, \u001b[32m'ContentLike'\u001b[39m ],\n",
      "    holder: { id: \u001b[32m'did:elem:EiAtmNkxOhWOhTCIxORy62LpFrNZQtVM7g6oDaxmDDlqmA'\u001b[39m },\n",
      "    credentialSubject: { data: \u001b[36m[Object]\u001b[39m },\n",
      "    issuanceDate: \u001b[32m'2022-09-10T19:21:57.743Z'\u001b[39m,\n",
      "    expirationDate: \u001b[32m'2065-09-10T00:00:00.000Z'\u001b[39m,\n",
      "    issuer: \u001b[32m'did:elem:EiDUbWAQsX9Y5KmZ9YhbRu7Cr4jyci4ZufveB3ACQYN77A;elem:initial-state=eyJwcm90ZWN0ZWQiOiJleUp2Y0dWeVlYUnBiMjRpT2lKamNtVmhkR1VpTENKcmFXUWlPaUlqY0hKcGJXRnllU0lzSW1Gc1p5STZJa1ZUTWpVMlN5SjkiLCJwYXlsb2FkIjoiZXlKQVkyOXVkR1Y0ZENJNkltaDBkSEJ6T2k4dmR6TnBaQzV2Y21jdmMyVmpkWEpwZEhrdmRqSWlMQ0p3ZFdKc2FXTkxaWGtpT2x0N0ltbGtJam9pSTNCeWFXMWhjbmtpTENKMWMyRm5aU0k2SW5OcFoyNXBibWNpTENKMGVYQmxJam9pVTJWamNESTFObXN4Vm1WeWFXWnBZMkYwYVc5dVMyVjVNakF4T0NJc0luQjFZbXhwWTB0bGVVaGxlQ0k2SWpBeU1EWXpOVGcxTkdZMllqZGxPVFEyTjJFNU1XRTFZelEzT0dVM05XRmtabUV3WlRnd1ptWmhNVFl6TkRnd1lXWmlPRFU1TXpjNE5qbG1OVFV6TVRSaE15SjlMSHNpYVdRaU9pSWpjbVZqYjNabGNua2lMQ0oxYzJGblpTSTZJbkpsWTI5MlpYSjVJaXdpZEhsd1pTSTZJbE5sWTNBeU5UWnJNVlpsY21sbWFXTmhkR2x2Ymt0bGVUSXdNVGdpTENKd2RXSnNhV05MWlhsSVpYZ2lPaUl3TW1FNU9HWXdOamd5WXpVd1pXWmhZems1TnpreE5ESmpNelExTTJRNE4yRTNaVEZtWW1FeU9HUTJPV0kxTnpSaE5XVTFNMlZsTURJM1pEUXdaR0ZpTVRBaWZWMHNJbUYxZEdobGJuUnBZMkYwYVc5dUlqcGJJaU53Y21sdFlYSjVJbDBzSW1GemMyVnlkR2x2YmsxbGRHaHZaQ0k2V3lJamNISnBiV0Z5ZVNKZGZRIiwic2lnbmF0dXJlIjoiVlBEbktIRUJvOTZDU05BSFpjN2FqNk5hdmd0MzlNQzB0cFZ0cm1XZkI1WmNKWUlUeG1TTDFpQS01QV9WZTFfUjRYNDRoRlh6TGhYQ3AwdFczdHozRncifQ'\u001b[39m,\n",
      "    proof: {\n",
      "      type: \u001b[32m'EcdsaSecp256k1Signature2019'\u001b[39m,\n",
      "      created: \u001b[32m'2022-09-10T19:21:57Z'\u001b[39m,\n",
      "      verificationMethod: \u001b[32m'did:elem:EiDUbWAQsX9Y5KmZ9YhbRu7Cr4jyci4ZufveB3ACQYN77A#primary'\u001b[39m,\n",
      "      proofPurpose: \u001b[32m'assertionMethod'\u001b[39m,\n",
      "      jws: \u001b[32m'eyJhbGciOiJFUzI1NksiLCJiNjQiOmZhbHNlLCJjcml0IjpbImI2NCJdfQ..XwB9-DL6CxMfjFUX_ItFduAUafvf-gECiNmBmqSCjA1WJJoZCFKGC1RMxf0GWV8YPpDUra7CJNItf5ZrAdqSGQ'\u001b[39m\n",
      "    }\n",
      "  }\n",
      "]\n"
     ]
    }
   ],
   "source": [
    "const jsonSchema = 'https://schema.affinidi.com/ContentLikeV1-0.json'\n",
    "const jsonContext = 'https://schema.affinidi.com/ContentLikeV1-0.jsonld'\n",
    "const id = `claimId:${(Math.random() + 1).toString(36).substring(2)}`\n",
    "const unsignedVC = {\n",
    "    '@context': ['https://www.w3.org/2018/credentials/v1', jsonContext],\n",
    "    id,\n",
    "    type: ['VerifiableCredential', 'ContentLike'],\n",
    "    holder: {\n",
    "      id: 'placeholder'\n",
    "    },\n",
    "    credentialSubject: {\n",
    "      data: {\n",
    "        '@type': ['VerifiableCredential', 'ContentLike'],\n",
    "        url: 'https://www.youtube.com/watch?v=owbkzvLhblk',\n",
    "        date: new Date().toISOString(),\n",
    "        like: true,\n",
    "        score: 10\n",
    "      },\n",
    "    },\n",
    "    credentialSchema: {\n",
    "      id:  jsonSchema,\n",
    "      type: 'JsonSchemaValidator2018',\n",
    "    },\n",
    "    issuanceDate: new Date().toISOString(),\n",
    "    expirationDate: '2065-09-10T00:00:00.000Z',\n",
    "  }   \n",
    "const signedCredentials = await issuerWallet.signCredentials(\n",
    "      credentialOfferResponseToken,\n",
    "      [unsignedVC],\n",
    "    )\n",
    "signedCredentials"
   ]
  }
 ],
 "metadata": {
  "kernelspec": {
   "display_name": "TypeScript",
   "language": "typescript",
   "name": "tslab"
  },
  "language_info": {
   "codemirror_mode": {
    "mode": "typescript",
    "name": "javascript",
    "typescript": true
   },
   "file_extension": ".ts",
   "mimetype": "text/typescript",
   "name": "typescript",
   "version": "3.7.2"
  }
 },
 "nbformat": 4,
 "nbformat_minor": 5
}
