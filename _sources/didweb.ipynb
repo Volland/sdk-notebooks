{
 "cells": [
  {
   "cell_type": "markdown",
   "id": "4120868c-d9d2-4fda-9ee4-68c2ea7ab74d",
   "metadata": {},
   "source": [
    "# DIDs \n",
    "We talk a lot about DIDs in a past videos. DID is a core of SSI and create cryptographic verifieble, decentralised, resolvable identifier.\n",
    "Decentralized Identifier (DID) is a unique, persistent, and cryptographically verifiable identifier that allows individuals, organizations, or devices to establish and manage their digital identities independently. DIDs are used in decentralized identity systems, enabling users to have control over their data and interact securely without relying on a centralized authority.\n",
    "\n",
    "## DID Document and DID Identifier \n",
    "A DID (Decentralized Identifier) document is a structured, machine-readable JSON or JSON-LD document that contains essential information associated with a specific DID. It serves as a \"public profile\" for a decentralized identity, providing the necessary details for verifying signatures, encrypting/decrypting messages, and interacting with the identity's associated services.\n",
    "\n",
    "The DID document typically includes:\n",
    "\n",
    "- The DID itself: A unique identifier that represents the decentralized identity.\n",
    "- Public keys: One or more public keys associated with the DID, used for cryptographic operations such as verifying signatures and encrypting messages.\n",
    "- Authentication methods: Mechanisms to prove control of the DID, which typically involve the use of public keys.\n",
    "- Service endpoints: URLs or other identifiers of services related to the DID, such as profile information, communication channels, or data repositories.\n",
    "- Other metadata: Additional information related to the DID, such as timestamps, controller information, or specific DID method details.\n",
    "\n",
    "The DID document's information allows other parties to trust and interact securely with the associated DID without relying on a centralized authority. DID documents are created, updated, and deactivated according to the rules and processes defined by the DID method associated with the DID. They are usually stored on distributed ledgers, blockchains, or other decentralized networks, making them globally resolvable and cryptographically verifiable.\n",
    "\n",
    "```json\n",
    "{\n",
    "  \"@context\": \"https://w3id.org/security/v2\",\n",
    "  \"publicKey\": [\n",
    "    {\n",
    "      \"id\": \"did:elem:EiBa0KyUWgvMdkt_ywullSPac2kyOkRP5JRtHSeICQ1t6Q#primary\",\n",
    "      \"usage\": \"signing\",\n",
    "      \"type\": \"Secp256k1VerificationKey2018\",\n",
    "      \"publicKeyHex\": \"022ca63fffbd8b6dd7e54fa88b76d5245700ac81657fd59a03b73e4325ba1e19ba\"\n",
    "    },\n",
    "    {\n",
    "      \"id\": \"did:elem:EiBa0KyUWgvMdkt_ywullSPac2kyOkRP5JRtHSeICQ1t6Q#recovery\",\n",
    "      \"usage\": \"recovery\",\n",
    "      \"type\": \"Secp256k1VerificationKey2018\",\n",
    "      \"publicKeyHex\": \"0390d67bfbfc80d00edc7080a4c91f1c844208fabd03e158a5910f5d1601e69eb5\"\n",
    "    }\n",
    "  ],\n",
    "  \"authentication\": [\n",
    "    \"did:elem:EiBa0KyUWgvMdkt_ywullSPac2kyOkRP5JRtHSeICQ1t6Q#primary\"\n",
    "  ],\n",
    "  \"assertionMethod\": [\n",
    "    \"did:elem:EiBa0KyUWgvMdkt_ywullSPac2kyOkRP5JRtHSeICQ1t6Q#primary\"\n",
    "  ],\n",
    "  \"id\": \"did:elem:EiBa0KyUWgvMdkt_ywullSPac2kyOkRP5JRtHSeICQ1t6Q\"\n",
    "}\n",
    "```\n",
    "DID identifier \n",
    "```\n",
    "did:elem:EiBa0KyUWgvMdkt_ywullSPac2kyOkRP5JRtHSeICQ1t6Q;elem:initial-state=eyJwcm90ZWN0ZWQiOiJleUp2Y0dWeVlYUnBiMjRpT2lKamNtVmhkR1VpTENKcmFXUWlPaUlqY0hKcGJXRnllU0lzSW1Gc1p5STZJa1ZUTWpVMlN5SjkiLCJwYXlsb2FkIjoiZXlKQVkyOXVkR1Y0ZENJNkltaDBkSEJ6T2k4dmR6TnBaQzV2Y21jdmMyVmpkWEpwZEhrdmRqSWlMQ0p3ZFdKc2FXTkxaWGtpT2x0N0ltbGtJam9pSTNCeWFXMWhjbmtpTENKMWMyRm5aU0k2SW5OcFoyNXBibWNpTENKMGVYQmxJam9pVTJWamNESTFObXN4Vm1WeWFXWnBZMkYwYVc5dVMyVjVNakF4T0NJc0luQjFZbXhwWTB0bGVVaGxlQ0k2SWpBeU1tTmhOak5tWm1aaVpEaGlObVJrTjJVMU5HWmhPRGhpTnpaa05USTBOVGN3TUdGak9ERTJOVGRtWkRVNVlUQXpZamN6WlRRek1qVmlZVEZsTVRsaVlTSjlMSHNpYVdRaU9pSWpjbVZqYjNabGNua2lMQ0oxYzJGblpTSTZJbkpsWTI5MlpYSjVJaXdpZEhsd1pTSTZJbE5sWTNBeU5UWnJNVlpsY21sbWFXTmhkR2x2Ymt0bGVUSXdNVGdpTENKd2RXSnNhV05MWlhsSVpYZ2lPaUl3TXprd1pEWTNZbVppWm1NNE1HUXdNR1ZrWXpjd09EQmhOR001TVdZeFl6ZzBOREl3T0daaFltUXdNMlV4TlRoaE5Ua3hNR1kxWkRFMk1ERmxOamxsWWpVaWZWMHNJbUYxZEdobGJuUnBZMkYwYVc5dUlqcGJJaU53Y21sdFlYSjVJbDBzSW1GemMyVnlkR2x2YmsxbGRHaHZaQ0k2V3lJamNISnBiV0Z5ZVNKZGZRIiwic2lnbmF0dXJlIjoiTkJqblFlQVRuTXVJQUFrZTlEcFhDeXAzcmJzcnBsQWFRQ1A0ZEl2b3NfNVJZRnJTc2VDdnBSY3k1XzFOMUpObzB2WEpDdWVVVmZvaHJtNHROenM2cmcifQ\n",
    "```\n",
    "\n",
    "Parsed DIDs\n",
    "```json\n",
    "{\n",
    "  reference: 'did:elem:EiBa0KyUWgvMdkt_ywullSPac2kyOkRP5JRtHSeICQ1t6Q;elem:initial-state=eyJwcm90ZWN0ZWQiOiJleUp2Y0dWeVlYUnBiMjRpT2lKamNtVmhkR1VpTENKcmFXUWlPaUlqY0hKcGJXRnllU0lzSW1Gc1p5STZJa1ZUTWpVMlN5SjkiLCJwYXlsb2FkIjoiZXlKQVkyOXVkR1Y0ZENJNkltaDBkSEJ6T2k4dmR6TnBaQzV2Y21jdmMyVmpkWEpwZEhrdmRqSWlMQ0p3ZFdKc2FXTkxaWGtpT2x0N0ltbGtJam9pSTNCeWFXMWhjbmtpTENKMWMyRm5aU0k2SW5OcFoyNXBibWNpTENKMGVYQmxJam9pVTJWamNESTFObXN4Vm1WeWFXWnBZMkYwYVc5dVMyVjVNakF4T0NJc0luQjFZbXhwWTB0bGVVaGxlQ0k2SWpBeU1tTmhOak5tWm1aaVpEaGlObVJrTjJVMU5HWmhPRGhpTnpaa05USTBOVGN3TUdGak9ERTJOVGRtWkRVNVlUQXpZamN6WlRRek1qVmlZVEZsTVRsaVlTSjlMSHNpYVdRaU9pSWpjbVZqYjNabGNua2lMQ0oxYzJGblpTSTZJbkpsWTI5MlpYSjVJaXdpZEhsd1pTSTZJbE5sWTNBeU5UWnJNVlpsY21sbWFXTmhkR2x2Ymt0bGVUSXdNVGdpTENKd2RXSnNhV05MWlhsSVpYZ2lPaUl3TXprd1pEWTNZbVppWm1NNE1HUXdNR1ZrWXpjd09EQmhOR001TVdZeFl6ZzBOREl3T0daaFltUXdNMlV4TlRoaE5Ua3hNR1kxWkRFMk1ERmxOamxsWWpVaWZWMHNJbUYxZEdobGJuUnBZMkYwYVc5dUlqcGJJaU53Y21sdFlYSjVJbDBzSW1GemMyVnlkR2x2YmsxbGRHaHZaQ0k2V3lJamNISnBiV0Z5ZVNKZGZRIiwic2lnbmF0dXJlIjoiTkJqblFlQVRuTXVJQUFrZTlEcFhDeXAzcmJzcnBsQWFRQ1A0ZEl2b3NfNVJZRnJTc2VDdnBSY3k1XzFOMUpObzB2WEpDdWVVVmZvaHJtNHROenM2cmcifQ',\n",
    "  did: 'did:elem:EiBa0KyUWgvMdkt_ywullSPac2kyOkRP5JRtHSeICQ1t6Q',\n",
    "  method: 'elem',\n",
    "  identifier: 'EiBa0KyUWgvMdkt_ywullSPac2kyOkRP5JRtHSeICQ1t6Q',\n",
    "  path: '',\n",
    "  fragment: '',\n",
    "  query: '',\n",
    "  param: ';elem:initial-state=eyJwcm90ZWN0ZWQiOiJleUp2Y0dWeVlYUnBiMjRpT2lKamNtVmhkR1VpTENKcmFXUWlPaUlqY0hKcGJXRnllU0lzSW1Gc1p5STZJa1ZUTWpVMlN5SjkiLCJwYXlsb2FkIjoiZXlKQVkyOXVkR1Y0ZENJNkltaDBkSEJ6T2k4dmR6TnBaQzV2Y21jdmMyVmpkWEpwZEhrdmRqSWlMQ0p3ZFdKc2FXTkxaWGtpT2x0N0ltbGtJam9pSTNCeWFXMWhjbmtpTENKMWMyRm5aU0k2SW5OcFoyNXBibWNpTENKMGVYQmxJam9pVTJWamNESTFObXN4Vm1WeWFXWnBZMkYwYVc5dVMyVjVNakF4T0NJc0luQjFZbXhwWTB0bGVVaGxlQ0k2SWpBeU1tTmhOak5tWm1aaVpEaGlObVJrTjJVMU5HWmhPRGhpTnpaa05USTBOVGN3TUdGak9ERTJOVGRtWkRVNVlUQXpZamN6WlRRek1qVmlZVEZsTVRsaVlTSjlMSHNpYVdRaU9pSWpjbVZqYjNabGNua2lMQ0oxYzJGblpTSTZJbkpsWTI5MlpYSjVJaXdpZEhsd1pTSTZJbE5sWTNBeU5UWnJNVlpsY21sbWFXTmhkR2x2Ymt0bGVUSXdNVGdpTENKd2RXSnNhV05MWlhsSVpYZ2lPaUl3TXprd1pEWTNZbVppWm1NNE1HUXdNR1ZrWXpjd09EQmhOR001TVdZeFl6ZzBOREl3T0daaFltUXdNMlV4TlRoaE5Ua3hNR1kxWkRFMk1ERmxOamxsWWpVaWZWMHNJbUYxZEdobGJuUnBZMkYwYVc5dUlqcGJJaU53Y21sdFlYSjVJbDBzSW1GemMyVnlkR2x2YmsxbGRHaHZaQ0k2V3lJamNISnBiV0Z5ZVNKZGZRIiwic2lnbmF0dXJlIjoiTkJqblFlQVRuTXVJQUFrZTlEcFhDeXAzcmJzcnBsQWFRQ1A0ZEl2b3NfNVJZRnJTc2VDdnBSY3k1XzFOMUpObzB2WEpDdWVVVmZvaHJtNHROenM2cmcifQ'\n",
    "}\n",
    "```\n",
    "\n",
    "\n",
    "## DID Actions \n",
    "It is four posible DID Actions. \n",
    "- **Creating a DID**: Generating a new identifier and associating it with a DID document, which contains public key material and service endpoints for the identity. For DIDs on blockchaine we could see term **Anhoring**. DID anchoring refers to the process of registering a Decentralized Identifier (DID) and its associated DID document on a distributed ledger or blockchain. Anchoring provides a secure, tamper-proof, and verifiable record of the DID's existence and its associated information, making it an essential component of decentralized identity systems.\n",
    "- **Resolving a DID**: Retrieving the DID document associated with a specific DID, which is essential for verifying signatures, encrypting/decrypting messages, and interacting with the identity's associated services.\n",
    "- **Updating a DID**: Modifying the DID document, such as adding or updating public keys, service endpoints, or other metadata. This action typically requires authorization from the DID controller.\n",
    "- **Deactivating a DID**: Marking a DID as inactive, rendering it unusable for future interactions. This action also usually requires authorization from the DID controller.\n",
    "DID resolution is a main and mandatory operations. Every did method has create procedure.\n",
    "## DID method \n",
    "Method is concrete implementation that defines the rules and processes for did actions on a particular distributed ledger, blockchain, or other decentralized network. DID methods provide a standardized way to manage DIDs and their associated DID documents, enabling interoperability between different decentralized identity systems.\n",
    "Each DID method is identified by a unique method name, which appears in the DID itself. For example, a DID with the method name \"example\" would look like \"did:**example**:123456789abcdefghi\". \n",
    "\n",
    "\n"
   ]
  },
  {
   "cell_type": "markdown",
   "id": "dd7b549f-0f4f-4c5f-849a-e63f5bf98acb",
   "metadata": {},
   "source": [
    "# DID Web \n",
    "Affinidi sdk support **did:web** out of the box Specefication of methid could be found here https://w3c-ccg.github.io/did-method-web/. The idea behind - did document is published on well known address under a \n",
    "It is multiple pros amd cons for this method byt what i could say for sure it is widely adopted by community.\n",
    "\n",
    "**Pros**\n",
    "- easy to scale \n",
    "- ledger and third paty system free \n",
    "- fast \n",
    "- feet well for enterprice and organisation that own web domains\n",
    "- close to Autononiomus identifiers (depends only on hosting with no third paty systems \n",
    "\n",
    "**Cons**\n",
    "- main security mechanism here based on idea that website domain and DNS record is a main security protection. So you prove ownership of your public web site. it is not always safe on my opinion\n",
    "- domains could change an owner and be sold or reasigned  "
   ]
  },
  {
   "cell_type": "markdown",
   "id": "3e13bf5f-0f75-43fd-bbb3-30bc7bb3d1c4",
   "metadata": {},
   "source": [
    "## Lets create Wallet"
   ]
  },
  {
   "cell_type": "code",
   "execution_count": 2,
   "id": "8cdb2bd3-9fe8-40ea-ba39-a17f1938cd6c",
   "metadata": {},
   "outputs": [],
   "source": [
    "const { createWallet } = require('@affinidi/wallet-node-sdk')\n",
    "import { EventComponent } from '@affinidi/wallet-core-sdk'\n",
    "const walletFactory = createWallet(EventComponent.AffinidiCore)\n"
   ]
  },
  {
   "cell_type": "code",
   "execution_count": 3,
   "id": "dba8a366-e120-4bd6-90ce-ce64d5c0f070",
   "metadata": {},
   "outputs": [],
   "source": [
    "const accessApiKey = '<your key>' "
   ]
  },
  {
   "cell_type": "markdown",
   "id": "5cc97e13-2736-43e0-b285-91f61f1744bc",
   "metadata": {},
   "source": [
    "We should define in advance where we want to host our did web. Host name by default will expect that did is hosted on wellknown location \n",
    "did:web:volland.github.io: -> https://volland.github.io/.well-known/did.json\n",
    "if you have custom path it should be specified in a way \n",
    "did:web:volland.github.io:sdk-notebooks -> https://volland.github.io/sdk-notebooks/did.json\n"
   ]
  },
  {
   "cell_type": "code",
   "execution_count": 16,
   "id": "69b8d9c4-f15d-4d46-852d-3f3fc32ee68a",
   "metadata": {},
   "outputs": [],
   "source": [
    "const options = {\n",
    "    env: 'prod',\n",
    "    accessApiKey: accessApiKey,\n",
    "    webDomain: 'volland.github.io:sdk-notebooks',\n",
    "    didMethod: 'web'\n",
    "}"
   ]
  },
  {
   "cell_type": "code",
   "execution_count": 17,
   "id": "d0f9f56c-e925-4bbc-b9d3-db8ec4d1a938",
   "metadata": {},
   "outputs": [
    {
     "name": "stdout",
     "output_type": "stream",
     "text": [
      "{\n",
      "  id: 'did:web:volland.github.io:sdk-notebooks',\n",
      "  '@context': 'https://w3id.org/security/v2',\n",
      "  publicKey: [\n",
      "    {\n",
      "      id: 'did:web:volland.github.io:sdk-notebooks#primary',\n",
      "      usage: 'signing',\n",
      "      type: 'Secp256k1VerificationKey2018',\n",
      "      publicKeyHex: '03b70a6116e9aae6666865c7a760fffc797e9ce6d91e57ae5f2c9ca4bc8e9a4d34'\n",
      "    },\n",
      "    {\n",
      "      id: 'did:web:volland.github.io:sdk-notebooks#recovery',\n",
      "      usage: 'recovery',\n",
      "      type: 'Secp256k1VerificationKey2018',\n",
      "      publicKeyHex: '029cd4cd2ff294a94fd194767e4a9c16d79a25ad80f10de8eb531cd7636fbd3f66'\n",
      "    }\n",
      "  ],\n",
      "  authentication: [ 'did:web:volland.github.io:sdk-notebooks#primary' ],\n",
      "  assertionMethod: [ 'did:web:volland.github.io:sdk-notebooks#primary' ]\n",
      "}\n"
     ]
    }
   ],
   "source": [
    "const wallet = await walletFactory.createWallet(options, 'P@ssw0rd')\n",
    "wallet.didDocument"
   ]
  },
  {
   "cell_type": "markdown",
   "id": "dca913b1-9f9f-4105-b3e3-a0e54d85eb55",
   "metadata": {},
   "source": [
    "as you see wallet has property `didDocument` that give us did document that we should host\n",
    "We could backup in secured storage our encripted seed that will allow togenter with password unlock a wallet and sign a credentials with this did."
   ]
  },
  {
   "cell_type": "code",
   "execution_count": 18,
   "id": "40783e42-d545-4ce6-8d6b-232c62c8a07c",
   "metadata": {},
   "outputs": [
    {
     "name": "stdout",
     "output_type": "stream",
     "text": [
      "e2447a8368cc97a55be2d6f5e53da5f4714a0252dfc4b0999dc75dc384a1c2580e4a6abdc86d104403d547c5de823737511d6671399f1c7edff3fd00da1fd6581305a25e639f1d1a938e2dce89872c07b7ee507616385d5ed1862865e4edabfdc2a5b9ad1357474cb2afed573972b66151750c76e6a336d2e4190d1a27ecbf8648325f420337ec0c5a2b7d9d5c8b69ce88a5a5d8ad098f0b833a661ddc6ad5baf3b39f2eef9e9cfa7968447954ce5175b2314b88d5dbdaa3fd01ef4b4a5bdc64\n"
     ]
    }
   ],
   "source": [
    "wallet.encryptedSeed"
   ]
  },
  {
   "cell_type": "markdown",
   "id": "253acbfb-b210-4ab0-867f-b450226f35ce",
   "metadata": {},
   "source": [
    "## Lets Host a did doc \n",
    "Just upload it to your domain. In our case i made a book publishing.\n"
   ]
  },
  {
   "cell_type": "markdown",
   "id": "02fdd7f9-5c64-473f-8349-9e826994a709",
   "metadata": {},
   "source": [
    "## Lets Issue a VC \n",
    "You could do all operations with this did and wallet as with any other method \n"
   ]
  },
  {
   "cell_type": "code",
   "execution_count": 19,
   "id": "21fe065d-33d7-436b-8ac1-4e69a9c0f6f9",
   "metadata": {},
   "outputs": [
    {
     "name": "stdout",
     "output_type": "stream",
     "text": [
      "{\n",
      "  \"@context\": [\n",
      "    \"https://www.w3.org/2018/credentials/v1\",\n",
      "    \"https://schema.affinidi.com/ContentLikeV1-0.jsonld\"\n",
      "  ],\n",
      "  \"id\": \"claimId:uv2kchuqy6\",\n",
      "  \"type\": [\n",
      "    \"VerifiableCredential\",\n",
      "    \"ContentLike\"\n",
      "  ],\n",
      "  \"holder\": {\n",
      "    \"id\": \"did:web:volland.github.io:sdk-notebooks\"\n",
      "  },\n",
      "  \"credentialSubject\": {\n",
      "    \"data\": {\n",
      "      \"@type\": [\n",
      "        \"VerifiableCredential\",\n",
      "        \"ContentLike\"\n",
      "      ],\n",
      "      \"url\": \"https://www.youtube.com/watch?v=owbkzvLhblk\",\n",
      "      \"date\": \"2023-04-06T15:05:58.830Z\",\n",
      "      \"like\": true,\n",
      "      \"score\": 10\n",
      "    }\n",
      "  },\n",
      "  \"credentialSchema\": {\n",
      "    \"id\": \"https://schema.affinidi.com/ContentLikeV1-0.json\",\n",
      "    \"type\": \"JsonSchemaValidator2018\"\n",
      "  },\n",
      "  \"issuanceDate\": \"2023-04-06T15:05:58.830Z\",\n",
      "  \"expirationDate\": \"2065-09-10T00:00:00.000Z\",\n",
      "  \"issuer\": \"did:web:volland.github.io:sdk-notebooks\",\n",
      "  \"proof\": {\n",
      "    \"type\": \"EcdsaSecp256k1Signature2019\",\n",
      "    \"created\": \"2023-04-06T15:05:58Z\",\n",
      "    \"verificationMethod\": \"did:web:volland.github.io:sdk-notebooks#primary\",\n",
      "    \"proofPurpose\": \"assertionMethod\",\n",
      "    \"jws\": \"eyJhbGciOiJFUzI1NksiLCJiNjQiOmZhbHNlLCJjcml0IjpbImI2NCJdfQ..paG9PLEkUKiNeCtXpuOUylUWmnN5AAIxlo3iHrn8kIt1dp_mCcYV-gc4q4DVh2w1PPUF-g4ANMq1-zsD4bw_ag\"\n",
      "  }\n",
      "}\n"
     ]
    }
   ],
   "source": [
    "const jsonSchema = 'https://schema.affinidi.com/ContentLikeV1-0.json'\n",
    "const jsonContext = 'https://schema.affinidi.com/ContentLikeV1-0.jsonld'\n",
    "const id = `claimId:${(Math.random() + 1).toString(36).substring(2)}`\n",
    "const unsignedVC = {\n",
    "    '@context': ['https://www.w3.org/2018/credentials/v1', jsonContext],\n",
    "    id,\n",
    "    type: ['VerifiableCredential', 'ContentLike'],\n",
    "    holder: {\n",
    "      id: wallet.did\n",
    "    },\n",
    "    credentialSubject: {\n",
    "      data: {\n",
    "        '@type': ['VerifiableCredential', 'ContentLike'],\n",
    "        url: 'https://www.youtube.com/watch?v=owbkzvLhblk',\n",
    "        date: new Date().toISOString(),\n",
    "        like: true,\n",
    "        score: 10\n",
    "      },\n",
    "    },\n",
    "    credentialSchema: {\n",
    "      id:  jsonSchema,\n",
    "      type: 'JsonSchemaValidator2018',\n",
    "    },\n",
    "    issuanceDate: new Date().toISOString(),\n",
    "    expirationDate: '2065-09-10T00:00:00.000Z',\n",
    "  }\n",
    "\n",
    "const signedVC = await wallet.signUnsignedCredential(unsignedVC)\n",
    "JSON.stringify(signedVC, null,2)"
   ]
  },
  {
   "cell_type": "code",
   "execution_count": null,
   "id": "5fe31de4-c916-4450-acbb-4dbf4470d5bb",
   "metadata": {},
   "outputs": [],
   "source": []
  }
 ],
 "metadata": {
  "kernelspec": {
   "display_name": "TypeScript",
   "language": "typescript",
   "name": "tslab"
  },
  "language_info": {
   "codemirror_mode": {
    "mode": "typescript",
    "name": "javascript",
    "typescript": true
   },
   "file_extension": ".ts",
   "mimetype": "text/typescript",
   "name": "typescript",
   "version": "3.7.2"
  }
 },
 "nbformat": 4,
 "nbformat_minor": 5
}
