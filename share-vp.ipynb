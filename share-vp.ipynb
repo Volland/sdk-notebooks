{
 "cells": [
  {
   "cell_type": "code",
   "execution_count": 2,
   "id": "03732a48-e244-4ed2-93e1-37c4126088c6",
   "metadata": {
    "slideshow": {
     "slide_type": "skip"
    },
    "tags": []
   },
   "outputs": [],
   "source": [
    "const plantumlEncoder = require('plantuml-encoder')\n",
    "const tslab = require(\"tslab\");\n",
    "import jwt_decode from \"jwt-decode\";"
   ]
  },
  {
   "cell_type": "markdown",
   "id": "f723340b-e6c8-47f3-8aac-32ff50c22edd",
   "metadata": {
    "slideshow": {
     "slide_type": "slide"
    },
    "tags": []
   },
   "source": [
    "## Howto Share VC with Verifier\n",
    "We already know about classical triangle of roles.\n",
    "It is **user centric** \n",
    "- holder - user that own a VCs\n",
    "- issuer - party that issue a VC\n",
    "- verifier - could aks holder for a VCs to Verify\n",
    "\n",
    "We need a **protocol** that could proof the identity and **autorship** for every role.\n",
    "As we know our identities is our keypairs so we should sign some entities to proof our identity \n",
    "Affinidi SDK offer transport agnostic protocols for excanges based on JWT tokens"
   ]
  },
  {
   "cell_type": "code",
   "execution_count": 51,
   "id": "d56853dd-4672-43c2-b0b9-c16e503f7b1d",
   "metadata": {
    "jupyter": {
     "source_hidden": true
    },
    "slideshow": {
     "slide_type": "fragment"
    },
    "tags": []
   },
   "outputs": [
    {
     "data": {
      "text/html": [
       "<img src=\"http://www.plantuml.com/plantuml/svg/NP5HIyCm58NVyojY4EbWMr5y6Wo6HL2OK0RsjMJDRHjCavYRJ4NyxwPPAMCluN9pldDFRiWEFNS-38hSIDse883stblSvBdZN-jE-ZuS0u9hZFQW_RenGsuLroEpGY-KFER5uweSM-zl-tpWwC75Lbr4WaiDRcr7VrA2GwFhvs-VISG0RadPQohOWZoPe0LtFzdnViagSBAL3VVIQBQWlnEQzKQ9XBsaWYtfBLedFMoPJOg7w3HfJyaZgQkfZ9T_X1n0rVivmMoP6hGgeYaxm6S0zBGrZfgsJMJ4vlbp_4PnEPm9j4OZN2FruIB8F8lZHn9M1LwFmvuxgJkQbGumxZljW1OzLmfq1ukh91UlF3y0PQT1qAeSZTCvhOXkARi3VG9bBAmQPH14D2Cxq6Byddy0\"/>"
      ]
     },
     "metadata": {},
     "output_type": "display_data"
    }
   ],
   "source": [
    "\n",
    "const encodedTriangle = plantumlEncoder.encode(`\n",
    "@startuml\n",
    "!include https://raw.githubusercontent.com/plantuml-stdlib/C4-PlantUML/master/C4_Container.puml\n",
    "\n",
    "Person_Ext(issuer, \"Issuer\")\n",
    "Boundary(b1,\"Verification\") {\n",
    "Person(holder, \"Holder\", $sprite=\"person2\")\n",
    "Person(verifier, \"Verifier\")\n",
    "}\n",
    "\n",
    "Rel_L(issuer, holder, \"issue VC\", \"Request for offer\")\n",
    "Rel(holder, issuer, \"claim\", \"Response for offer\")\n",
    "Rel_R(verifier, holder, \"ask for VCs\", \"Request for sharing (Presentation Challenge)\")\n",
    "Rel(holder, verifier, \"issue signed VP\", \"VP\", $sprite = \"&envelope-closed\")\n",
    "\n",
    "@enduml\n",
    "`)\n",
    " \n",
    "const urlTriangle = 'http://www.plantuml.com/plantuml/svg/' + encodedTriangle\n",
    "tslab.display.html(`<img src=\"${urlTriangle}\"/>`)"
   ]
  },
  {
   "cell_type": "markdown",
   "id": "ee5910d5-fb29-4c54-8562-40b029731584",
   "metadata": {},
   "source": [
    "## Flow"
   ]
  },
  {
   "cell_type": "code",
   "execution_count": 26,
   "id": "54e43aab-3c77-40d4-b4ad-9427a6f737c4",
   "metadata": {
    "jupyter": {
     "source_hidden": true
    },
    "tags": []
   },
   "outputs": [
    {
     "data": {
      "text/html": [
       "<img src=\"http://www.plantuml.com/plantuml/svg/dLHDRzim3BthLn0vEK1MTDrsyQ50b-oZAp1aJP4UXXuKcR6vAfOdoSdoxoTPTYotQJeCy46MIBv7yf7CafMOmjLwJILbbCAYu1fXEONFKkrOnRKbGHKlBOoMg6bDg661Uai2Hy0DRDjBneLL6Y8h8GcTsmHCzjYOXelMSBIOtS1N9JFKpMFH75d6BLznWp2wvrAY1UECUHwmTitLaDGjvcIitZS6klrXZBNeRouF35FuM9FCfXepzq9StkBl6es5H0okIEF6_Panwpnzb10lXOlpS_ZPEpJbQWCzC5OgYw2sX-md4Vfn9p2KbrJcmCli1PCxzOWbv5YYvXQpABLGj1ICsg2hpXuobEJHanEHnYTPTX5yDA5gcS4AVMb_tBhVpA4K90geb75CG9MmmzN4ly-_0vNkiwXBBk6gga2gd0JGff9DGRabLKu0hJX9u4l8qvTa-ZG9KwdIOAY7Lqd3m1Pugd0dm5ZGgcYOWLeteGxwzOtXjdRJy0yWRy_0qLDo6mMONSyWoPs6gtebITpWVimkpiBx_XXEKXkVTcIEJXIUFmkTzZtlD9wwKmCueopfWhdpc7KMiK8QsRhNcHArRyP3536CLUeKPlkAczCI2ZxF47eVuwQXX-YCekOkvx0ZMqHLDKu-Xh8usMxg3WAt2eI3TjqNZv0iv-Duvhg-JhfjSgZnbajogoNkeKdZfeLDz4hBMgE1CBxTtntfspldqq7QWjlEbQm13ejwzGk5zGCJyKbKvNN8vPYzxubT6rC7OazvVJZmQcq6l92BOMsVasIV_g2ecsPqSniDRg-zVjySrLv8xPdo1WjpeBnNueLi_YjUUt9RJ7bzjIrmHNt9PXhRiBy0\"/>"
      ]
     },
     "metadata": {},
     "output_type": "display_data"
    }
   ],
   "source": [
    "const encodedFlow = plantumlEncoder.encode(`\n",
    "title: Affinidi: Share VC Flow\n",
    "participant \"Verifier Service\" as verifier\n",
    "actor  \"Verifier client , sdk\" as client\n",
    "actor \"SDK Holder\" as holder\n",
    "database \"Wallet storage\" as wallet\n",
    "participant \"Registry\" as registry\n",
    "\n",
    "\n",
    "client -> verifier: BuildCredentialRequest (credentialRequirements)\n",
    "verifier -> client: 200 [credentialShareRequest]\n",
    "\n",
    "note over client, verifier: credentialShareRequest signing and credentialShareRequestToken generated\n",
    "client -> holder: some way deliver (credentialShareRequestToken)\n",
    "note over client, verifier: deliver way could be as QR code which posted on web, as PN in internal App logic implementation, etc\n",
    "note over client, verifier: Generating CredentialShareResponseToken based on the credentialShareRequestToken\n",
    "note over client, verifier\n",
    "Verification of the Verifier signature on the credentialShareRequestToken\n",
    "1. Resolve Verifier DID (get publicKey)\n",
    "2. Verify Verifier signature (using publicKey)\n",
    "end note\n",
    "holder -> registry: resolveDid(VerifierDid)\n",
    "registry -> holder: 200 [DidDocument]\n",
    "holder -> wallet: getCredentials(credentialShareRequestToken)\n",
    "wallet -> holder: 200 [credentials]\n",
    "\n",
    "holder -> holder: Generating VP with credentials inside\n",
    "holder -> client: some way to call back (VP)\n",
    "\n",
    "note over verifier, holder\n",
    "Verifier validate credentials:\n",
    "1. Resolve Holder DID (get publicKey)\n",
    "2. Verify Holder signature on JWT (using publicKey)\n",
    "3. Validate that Holder its a Subject in credentials(optional)\n",
    "4. Resolve Issuer DID(get publicKey)\n",
    "5. Verify Issuer signature on each credentials (using publicKey)\n",
    "\n",
    "Executing internall App logic\n",
    "end note\n",
    "client -> registry: resolveDid(HolderDid)\n",
    "registry -> client: 200 [DidDocument]\n",
    "client -> registry: resolveDid(IssuerDid)\n",
    "registry -> client: 200 [DidDocument]\n",
    "client -> client : do VP Validation\n",
    "client -> client : do VC Validation\n",
    "\n",
    "`)\n",
    " \n",
    "const urlFlow = 'http://www.plantuml.com/plantuml/svg/' + encodedFlow\n",
    "tslab.display.html(`<img src=\"${urlFlow}\"/>`)"
   ]
  },
  {
   "cell_type": "markdown",
   "id": "f8a26b7a-d7ae-4d9c-a509-3fe3d38af888",
   "metadata": {},
   "source": [
    "Lets import SDK"
   ]
  },
  {
   "cell_type": "code",
   "execution_count": 17,
   "id": "eae867be-1e06-4b8e-a7e0-ca2c8a49b481",
   "metadata": {},
   "outputs": [],
   "source": [
    "const { createWallet } = require('@affinidi/wallet-node-sdk')\n",
    "const walletFactory = createWallet('AffinityCore')"
   ]
  },
  {
   "cell_type": "markdown",
   "id": "970f398e-17af-45fb-aa44-659f37247505",
   "metadata": {},
   "source": [
    "Lets setup wallets"
   ]
  },
  {
   "cell_type": "code",
   "execution_count": 21,
   "id": "2dd423d4-5f6c-444e-b6a3-7343345e4f11",
   "metadata": {
    "tags": []
   },
   "outputs": [],
   "source": [
    "const accessApiKey = '<yourkey>'"
   ]
  },
  {
   "cell_type": "code",
   "execution_count": 23,
   "id": "4a1f3054-94b2-4077-9243-cf1be763a5fe",
   "metadata": {},
   "outputs": [],
   "source": [
    "const options = {\n",
    "    env: 'prod',\n",
    "    accessApiKey:accessApiKey,\n",
    "}\n",
    "  const verifierWallet = await walletFactory.createWallet(options, 'P@55word!!!')\n",
    "  const holderWallet = await walletFactory.createWallet(options, 'P@55word!!!')"
   ]
  },
  {
   "cell_type": "markdown",
   "id": "2295c41a-7e3d-4db2-8feb-3c64384800e2",
   "metadata": {},
   "source": [
    "## Verifier create Presentation Challenge"
   ]
  },
  {
   "cell_type": "code",
   "execution_count": 44,
   "id": "4bd34213-fd0c-4ab0-a847-3fe66c91dea4",
   "metadata": {},
   "outputs": [],
   "source": [
    "   const presentationChallenge = await verifierWallet.generatePresentationChallenge([\n",
    "      { type: ['VerifiableCredential', 'ContentLike'] },\n",
    "    ])"
   ]
  },
  {
   "cell_type": "code",
   "execution_count": 45,
   "id": "36efe2f6-48e3-48b3-ae9f-05e977127c16",
   "metadata": {},
   "outputs": [
    {
     "name": "stdout",
     "output_type": "stream",
     "text": [
      "{\n",
      "  \"interactionToken\": {\n",
      "    \"credentialRequirements\": [\n",
      "      {\n",
      "        \"type\": [\n",
      "          \"VerifiableCredential\",\n",
      "          \"ContentLike\"\n",
      "        ],\n",
      "        \"constraints\": []\n",
      "      }\n",
      "    ],\n",
      "    \"callbackURL\": \"\"\n",
      "  },\n",
      "  \"exp\": 1663398268356,\n",
      "  \"typ\": \"credentialRequest\",\n",
      "  \"jti\": \"038e7a1d81ae3d05\",\n",
      "  \"iss\": \"did:elem:EiBsQ5S0kNYU-CkVLHFVQQxSp58gpcQP9zg1nFGTr-avjQ;elem:initial-state=eyJwcm90ZWN0ZWQiOiJleUp2Y0dWeVlYUnBiMjRpT2lKamNtVmhkR1VpTENKcmFXUWlPaUlqY0hKcGJXRnllU0lzSW1Gc1p5STZJa1ZUTWpVMlN5SjkiLCJwYXlsb2FkIjoiZXlKQVkyOXVkR1Y0ZENJNkltaDBkSEJ6T2k4dmR6TnBaQzV2Y21jdmMyVmpkWEpwZEhrdmRqSWlMQ0p3ZFdKc2FXTkxaWGtpT2x0N0ltbGtJam9pSTNCeWFXMWhjbmtpTENKMWMyRm5aU0k2SW5OcFoyNXBibWNpTENKMGVYQmxJam9pVTJWamNESTFObXN4Vm1WeWFXWnBZMkYwYVc5dVMyVjVNakF4T0NJc0luQjFZbXhwWTB0bGVVaGxlQ0k2SWpBeVptVmxZbU16WkdJNE1UYzJPRGc0TXpRek9EWmxOVFJqTkRKalpqTmtOMll3TjJFMU1UWTVOVEJqWm1NNFpUYzJPRGcxTTJZek56a3dNbVkwWlRZNE1TSjlMSHNpYVdRaU9pSWpjbVZqYjNabGNua2lMQ0oxYzJGblpTSTZJbkpsWTI5MlpYSjVJaXdpZEhsd1pTSTZJbE5sWTNBeU5UWnJNVlpsY21sbWFXTmhkR2x2Ymt0bGVUSXdNVGdpTENKd2RXSnNhV05MWlhsSVpYZ2lPaUl3TWpjMk9HVXpNVFUwWlRWallXWTJabVppWm1FM1pHVm1PVE15TXpNMU1EWTJOalU0T0dWaU9HUTROemhqTVdFMk1qRXhaR1kxWXpneVpHUmpNalJpT1dVaWZWMHNJbUYxZEdobGJuUnBZMkYwYVc5dUlqcGJJaU53Y21sdFlYSjVJbDBzSW1GemMyVnlkR2x2YmsxbGRHaHZaQ0k2V3lJamNISnBiV0Z5ZVNKZGZRIiwic2lnbmF0dXJlIjoiRnNnRUdlWVhOLTdKN2pPUUpyNjRoaHV5ZmNUWmxuVHRKeXl6SEhXelhRRmVDRTQ4dnYxM0c5TkZXOFo2MElyTHJmTkFtWEpaU0c1cXpMZlRLMDNhSVEifQ\",\n",
      "  \"kid\": \"did:elem:EiBsQ5S0kNYU-CkVLHFVQQxSp58gpcQP9zg1nFGTr-avjQ#primary\"\n",
      "}\n"
     ]
    }
   ],
   "source": [
    "JSON.stringify(jwt_decode(presentationChallenge),null,2)"
   ]
  },
  {
   "cell_type": "markdown",
   "id": "572ab307-0564-4f0c-9604-1940f6e8dc85",
   "metadata": {},
   "source": [
    "## Lest prepare credential"
   ]
  },
  {
   "cell_type": "code",
   "execution_count": 46,
   "id": "9cfd2dea-f519-4fe3-bbd0-0827d2a55094",
   "metadata": {},
   "outputs": [],
   "source": [
    "const jsonSchema = 'https://schema.affinidi.com/ContentLikeV1-0.json'\n",
    "const jsonContext = 'https://schema.affinidi.com/ContentLikeV1-0.jsonld'\n",
    "const id = `claimId:${(Math.random() + 1).toString(36).substring(2)}`\n",
    "const unsignedVC = {\n",
    "    '@context': ['https://www.w3.org/2018/credentials/v1', jsonContext],\n",
    "    id,\n",
    "    type: ['VerifiableCredential', 'ContentLike'],\n",
    "    holder: {\n",
    "      id: holderWallet.did\n",
    "    },\n",
    "    credentialSubject: {\n",
    "      data: {\n",
    "        url: 'https://www.youtube.com/watch?v=owbkzvLhblk',\n",
    "        date: new Date().toISOString(),\n",
    "        like: true,\n",
    "        score: 10\n",
    "      },\n",
    "    },\n",
    "    credentialSchema: {\n",
    "      id:  jsonSchema,\n",
    "      type: 'JsonSchemaValidator2018',\n",
    "    },\n",
    "    issuanceDate: new Date().toISOString(),\n",
    "    expirationDate: '2065-09-10T00:00:00.000Z',\n",
    "  }   \n",
    "const signedCredential = await holderWallet.signUnsignedCredential(unsignedVC)\n"
   ]
  },
  {
   "cell_type": "markdown",
   "id": "291891e2-d1dd-43bb-9140-2542655edc3d",
   "metadata": {},
   "source": [
    "## Create Verifiable Presentation"
   ]
  },
  {
   "cell_type": "code",
   "execution_count": 47,
   "id": "c7b4f4fa-14d8-491f-a7f4-0494d220f4e2",
   "metadata": {},
   "outputs": [
    {
     "name": "stdout",
     "output_type": "stream",
     "text": [
      "{\n",
      "  \"@context\": [\n",
      "    \"https://www.w3.org/2018/credentials/v1\"\n",
      "  ],\n",
      "  \"id\": \"presentationId:f461e8a2b035d689\",\n",
      "  \"type\": [\n",
      "    \"VerifiablePresentation\"\n",
      "  ],\n",
      "  \"holder\": {\n",
      "    \"id\": \"did:elem:EiC5XYylCfH47s7dcJt2SpdBg1yS2lyuJpR6J8WAY0swRw;elem:initial-state=eyJwcm90ZWN0ZWQiOiJleUp2Y0dWeVlYUnBiMjRpT2lKamNtVmhkR1VpTENKcmFXUWlPaUlqY0hKcGJXRnllU0lzSW1Gc1p5STZJa1ZUTWpVMlN5SjkiLCJwYXlsb2FkIjoiZXlKQVkyOXVkR1Y0ZENJNkltaDBkSEJ6T2k4dmR6TnBaQzV2Y21jdmMyVmpkWEpwZEhrdmRqSWlMQ0p3ZFdKc2FXTkxaWGtpT2x0N0ltbGtJam9pSTNCeWFXMWhjbmtpTENKMWMyRm5aU0k2SW5OcFoyNXBibWNpTENKMGVYQmxJam9pVTJWamNESTFObXN4Vm1WeWFXWnBZMkYwYVc5dVMyVjVNakF4T0NJc0luQjFZbXhwWTB0bGVVaGxlQ0k2SWpBelpXRTJZamsyT1dabU1qZG1ZelppWlRKaE56TTFNREExTW1FMFpqWTNaamt4WWpjelltRmpNemMxT0RCak9UQTJabVUxTnpWbFpEVXpPVEpsTURWaVlTSjlMSHNpYVdRaU9pSWpjbVZqYjNabGNua2lMQ0oxYzJGblpTSTZJbkpsWTI5MlpYSjVJaXdpZEhsd1pTSTZJbE5sWTNBeU5UWnJNVlpsY21sbWFXTmhkR2x2Ymt0bGVUSXdNVGdpTENKd2RXSnNhV05MWlhsSVpYZ2lPaUl3TWpSaU9Ea3pNRFJoWmpObE9XTTNaRGxtT0RRNU5qTTJZalUyWldGa056azRNalkyWldNMFlqWTNOR0pqTlRZNE1qVXpZalF6WVdRNE9UVTVNRGt6TURZaWZWMHNJbUYxZEdobGJuUnBZMkYwYVc5dUlqcGJJaU53Y21sdFlYSjVJbDBzSW1GemMyVnlkR2x2YmsxbGRHaHZaQ0k2V3lJamNISnBiV0Z5ZVNKZGZRIiwic2lnbmF0dXJlIjoiNl9OUjRVUl83clFHV2gwUzViVy05eXAyY1JSTEpVbTd2TXVaVmxPOHZLdHBMR1FMNTRqZHNkOTNzZ1ladGRTRGJWY2ZCQkROYlRncmNwUGNKRHFIOUEifQ\"\n",
      "  },\n",
      "  \"verifiableCredential\": [\n",
      "    {\n",
      "      \"@context\": [\n",
      "        \"https://www.w3.org/2018/credentials/v1\",\n",
      "        \"https://schema.affinidi.com/ContentLikeV1-0.jsonld\"\n",
      "      ],\n",
      "      \"id\": \"claimId:3ei8jmbf5u\",\n",
      "      \"type\": [\n",
      "        \"VerifiableCredential\",\n",
      "        \"ContentLike\"\n",
      "      ],\n",
      "      \"holder\": {\n",
      "        \"id\": \"did:elem:EiC5XYylCfH47s7dcJt2SpdBg1yS2lyuJpR6J8WAY0swRw;elem:initial-state=eyJwcm90ZWN0ZWQiOiJleUp2Y0dWeVlYUnBiMjRpT2lKamNtVmhkR1VpTENKcmFXUWlPaUlqY0hKcGJXRnllU0lzSW1Gc1p5STZJa1ZUTWpVMlN5SjkiLCJwYXlsb2FkIjoiZXlKQVkyOXVkR1Y0ZENJNkltaDBkSEJ6T2k4dmR6TnBaQzV2Y21jdmMyVmpkWEpwZEhrdmRqSWlMQ0p3ZFdKc2FXTkxaWGtpT2x0N0ltbGtJam9pSTNCeWFXMWhjbmtpTENKMWMyRm5aU0k2SW5OcFoyNXBibWNpTENKMGVYQmxJam9pVTJWamNESTFObXN4Vm1WeWFXWnBZMkYwYVc5dVMyVjVNakF4T0NJc0luQjFZbXhwWTB0bGVVaGxlQ0k2SWpBelpXRTJZamsyT1dabU1qZG1ZelppWlRKaE56TTFNREExTW1FMFpqWTNaamt4WWpjelltRmpNemMxT0RCak9UQTJabVUxTnpWbFpEVXpPVEpsTURWaVlTSjlMSHNpYVdRaU9pSWpjbVZqYjNabGNua2lMQ0oxYzJGblpTSTZJbkpsWTI5MlpYSjVJaXdpZEhsd1pTSTZJbE5sWTNBeU5UWnJNVlpsY21sbWFXTmhkR2x2Ymt0bGVUSXdNVGdpTENKd2RXSnNhV05MWlhsSVpYZ2lPaUl3TWpSaU9Ea3pNRFJoWmpObE9XTTNaRGxtT0RRNU5qTTJZalUyWldGa056azRNalkyWldNMFlqWTNOR0pqTlRZNE1qVXpZalF6WVdRNE9UVTVNRGt6TURZaWZWMHNJbUYxZEdobGJuUnBZMkYwYVc5dUlqcGJJaU53Y21sdFlYSjVJbDBzSW1GemMyVnlkR2x2YmsxbGRHaHZaQ0k2V3lJamNISnBiV0Z5ZVNKZGZRIiwic2lnbmF0dXJlIjoiNl9OUjRVUl83clFHV2gwUzViVy05eXAyY1JSTEpVbTd2TXVaVmxPOHZLdHBMR1FMNTRqZHNkOTNzZ1ladGRTRGJWY2ZCQkROYlRncmNwUGNKRHFIOUEifQ\"\n",
      "      },\n",
      "      \"credentialSubject\": {\n",
      "        \"data\": {\n",
      "          \"url\": \"https://www.youtube.com/watch?v=owbkzvLhblk\",\n",
      "          \"date\": \"2022-09-17T06:54:31.010Z\",\n",
      "          \"like\": true,\n",
      "          \"score\": 10\n",
      "        }\n",
      "      },\n",
      "      \"credentialSchema\": {\n",
      "        \"id\": \"https://schema.affinidi.com/ContentLikeV1-0.json\",\n",
      "        \"type\": \"JsonSchemaValidator2018\"\n",
      "      },\n",
      "      \"issuanceDate\": \"2022-09-17T06:54:31.010Z\",\n",
      "      \"expirationDate\": \"2065-09-10T00:00:00.000Z\",\n",
      "      \"issuer\": \"did:elem:EiC5XYylCfH47s7dcJt2SpdBg1yS2lyuJpR6J8WAY0swRw;elem:initial-state=eyJwcm90ZWN0ZWQiOiJleUp2Y0dWeVlYUnBiMjRpT2lKamNtVmhkR1VpTENKcmFXUWlPaUlqY0hKcGJXRnllU0lzSW1Gc1p5STZJa1ZUTWpVMlN5SjkiLCJwYXlsb2FkIjoiZXlKQVkyOXVkR1Y0ZENJNkltaDBkSEJ6T2k4dmR6TnBaQzV2Y21jdmMyVmpkWEpwZEhrdmRqSWlMQ0p3ZFdKc2FXTkxaWGtpT2x0N0ltbGtJam9pSTNCeWFXMWhjbmtpTENKMWMyRm5aU0k2SW5OcFoyNXBibWNpTENKMGVYQmxJam9pVTJWamNESTFObXN4Vm1WeWFXWnBZMkYwYVc5dVMyVjVNakF4T0NJc0luQjFZbXhwWTB0bGVVaGxlQ0k2SWpBelpXRTJZamsyT1dabU1qZG1ZelppWlRKaE56TTFNREExTW1FMFpqWTNaamt4WWpjelltRmpNemMxT0RCak9UQTJabVUxTnpWbFpEVXpPVEpsTURWaVlTSjlMSHNpYVdRaU9pSWpjbVZqYjNabGNua2lMQ0oxYzJGblpTSTZJbkpsWTI5MlpYSjVJaXdpZEhsd1pTSTZJbE5sWTNBeU5UWnJNVlpsY21sbWFXTmhkR2x2Ymt0bGVUSXdNVGdpTENKd2RXSnNhV05MWlhsSVpYZ2lPaUl3TWpSaU9Ea3pNRFJoWmpObE9XTTNaRGxtT0RRNU5qTTJZalUyWldGa056azRNalkyWldNMFlqWTNOR0pqTlRZNE1qVXpZalF6WVdRNE9UVTVNRGt6TURZaWZWMHNJbUYxZEdobGJuUnBZMkYwYVc5dUlqcGJJaU53Y21sdFlYSjVJbDBzSW1GemMyVnlkR2x2YmsxbGRHaHZaQ0k2V3lJamNISnBiV0Z5ZVNKZGZRIiwic2lnbmF0dXJlIjoiNl9OUjRVUl83clFHV2gwUzViVy05eXAyY1JSTEpVbTd2TXVaVmxPOHZLdHBMR1FMNTRqZHNkOTNzZ1ladGRTRGJWY2ZCQkROYlRncmNwUGNKRHFIOUEifQ\",\n",
      "      \"proof\": {\n",
      "        \"type\": \"EcdsaSecp256k1Signature2019\",\n",
      "        \"created\": \"2022-09-17T06:54:31Z\",\n",
      "        \"verificationMethod\": \"did:elem:EiC5XYylCfH47s7dcJt2SpdBg1yS2lyuJpR6J8WAY0swRw#primary\",\n",
      "        \"proofPurpose\": \"assertionMethod\",\n",
      "        \"jws\": \"eyJhbGciOiJFUzI1NksiLCJiNjQiOmZhbHNlLCJjcml0IjpbImI2NCJdfQ..qUwDsQXYF008YwMn1MFG9JQbD8VF7hZYauJf-3bqYMMifqN6J6x7DIXQY6cOHSw3zwLLRRgmVtktJiG1Gd3eXg\"\n",
      "      }\n",
      "    }\n",
      "  ],\n",
      "  \"proof\": {\n",
      "    \"type\": \"EcdsaSecp256k1Signature2019\",\n",
      "    \"created\": \"2022-09-17T06:54:36Z\",\n",
      "    \"verificationMethod\": \"did:elem:EiC5XYylCfH47s7dcJt2SpdBg1yS2lyuJpR6J8WAY0swRw#primary\",\n",
      "    \"proofPurpose\": \"authentication\",\n",
      "    \"challenge\": \"eyJ0eXAiOiJKV1QiLCJhbGciOiJFUzI1NksifQ.eyJpbnRlcmFjdGlvblRva2VuIjp7ImNyZWRlbnRpYWxSZXF1aXJlbWVudHMiOlt7InR5cGUiOlsiVmVyaWZpYWJsZUNyZWRlbnRpYWwiLCJDb250ZW50TGlrZSJdLCJjb25zdHJhaW50cyI6W119XSwiY2FsbGJhY2tVUkwiOiIifSwiZXhwIjoxNjYzMzk4MjY4MzU2LCJ0eXAiOiJjcmVkZW50aWFsUmVxdWVzdCIsImp0aSI6IjAzOGU3YTFkODFhZTNkMDUiLCJpc3MiOiJkaWQ6ZWxlbTpFaUJzUTVTMGtOWVUtQ2tWTEhGVlFReFNwNThncGNRUDl6ZzFuRkdUci1hdmpRO2VsZW06aW5pdGlhbC1zdGF0ZT1leUp3Y205MFpXTjBaV1FpT2lKbGVVcDJZMGRXZVZsWVVuQmlNalJwVDJsS2FtTnRWbWhrUjFWcFRFTktjbUZYVVdsUGFVbHFZMGhLY0dKWFJubGxVMGx6U1cxR2MxcDVTVFpKYTFaVVRXcFZNbE41U2praUxDSndZWGxzYjJGa0lqb2laWGxLUVZreU9YVmtSMVkwWkVOSk5rbHRhREJrU0VKNlQyazRkbVI2VG5CYVF6VjJZMjFqZG1NeVZtcGtXRXB3WkVocmRtUnFTV2xNUTBwM1pGZEtjMkZYVGt4YVdHdHBUMngwTjBsdGJHdEphbTlwU1ROQ2VXRlhNV2hqYm10cFRFTktNV015Um01YVUwazJTVzVPY0ZveU5YQmliV05wVEVOS01HVllRbXhKYW05cFZUSldhbU5FU1RGT2JYTjRWbTFXZVdGWFduQlpNa1l3WVZjNWRWTXlWalZOYWtGNFQwTkpjMGx1UWpGWmJYaHdXVEIwYkdWVmFHeGxRMGsyU1dwQmVWcHRWbXhaYlUxNldrZEpORTFVWXpKUFJHYzBUWHBSZWs5RVdteE9WRkpxVGtSS2FscHFUbXRPTWxsM1RqSkZNVTFVV1RWT1ZFSnFXbTFOTkZwVVl6SlBSR2N4VFRKWmVrNTZhM2ROYlZrd1dsUlpORTFUU2psTVNITnBZVmRSYVU5cFNXcGpiVlpxWWpOYWJHTnVhMmxNUTBveFl6SkdibHBUU1RaSmJrcHNXVEk1TWxwWVNqVkphWGRwWkVoc2QxcFRTVFpKYkU1c1dUTkJlVTVVV25KTlZscHNZMjFzYldGWFRtaGtSMngyWW10MGJHVlVTWGROVkdkcFRFTktkMlJYU25OaFYwNU1XbGhzU1ZwWVoybFBhVWwzVFdwak1rOUhWWHBOVkZVd1dsUldhbGxYV1RKYWJWcHBXbTFGTTFwSFZtMVBWRTE1VFhwTk1VMUVXVEpPYWxVMFQwZFdhVTlIVVRST2VtaHFUVmRGTWsxcVJYaGFSMWt4V1hwbmVWcEhVbXBOYWxKcFQxZFZhV1pXTUhOSmJVWXhaRWRvYkdKdVVuQlpNa1l3WVZjNWRVbHFjR0pKYVU1M1kyMXNkRmxZU2pWSmJEQnpTVzFHZW1NeVZubGtSMngyWW1zeGJHUkhhSFphUTBrMlYzbEphbU5JU25CaVYwWjVaVk5LWkdaUklpd2ljMmxuYm1GMGRYSmxJam9pUm5OblJVZGxXVmhPTFRkS04ycFBVVXB5TmpSb2FIVjVabU5VV214dVZIUktlWGw2U0VoWGVsaFJSbVZEUlRRNGRuWXhNMGM1VGtaWE9GbzJNRWx5VEhKbVRrRnRXRXBhVTBjMWNYcE1abFJMTUROaFNWRWlmUSIsImtpZCI6ImRpZDplbGVtOkVpQnNRNVMwa05ZVS1Da1ZMSEZWUVF4U3A1OGdwY1FQOXpnMW5GR1RyLWF2alEjcHJpbWFyeSJ9.91747dcc293f1040f74337a3d0f584c9ef3df1d79c79b71d2e5c5bdfbeaf25a22a1f73cf96b4e26931496d837cb5d1044c81a0f745608225abf32ea5f8805c1c\",\n",
      "    \"domain\": \"youtube.com\",\n",
      "    \"jws\": \"eyJhbGciOiJFUzI1NksiLCJiNjQiOmZhbHNlLCJjcml0IjpbImI2NCJdfQ..-651IUOrbZTWW7z86eC7ED7ivLfdzyYw4sNnLDvq_Ilu4wMJQDVMo1hWp--GRO8Lxk0H3Ntg1_5veAjOqmye7Q\"\n",
      "  }\n",
      "}\n"
     ]
    }
   ],
   "source": [
    "const vp = await holderWallet.createPresentationFromChallenge(\n",
    "      presentationChallenge,\n",
    "      [signedCredential],\n",
    "      'youtube.com',\n",
    "    )\n",
    "JSON.stringify(vp,null,2)"
   ]
  },
  {
   "cell_type": "markdown",
   "id": "d0f16642-9ebb-4d76-8a0c-05a043601b2d",
   "metadata": {},
   "source": [
    "## Verification"
   ]
  },
  {
   "cell_type": "code",
   "execution_count": 48,
   "id": "bfcb7700-6afc-4ce1-9fb0-16ac8f4a7a4e",
   "metadata": {},
   "outputs": [
    {
     "name": "stdout",
     "output_type": "stream",
     "text": [
      "{\n",
      "  isValid: true,\n",
      "  did: 'did:elem:EiC5XYylCfH47s7dcJt2SpdBg1yS2lyuJpR6J8WAY0swRw;elem:initial-state=eyJwcm90ZWN0ZWQiOiJleUp2Y0dWeVlYUnBiMjRpT2lKamNtVmhkR1VpTENKcmFXUWlPaUlqY0hKcGJXRnllU0lzSW1Gc1p5STZJa1ZUTWpVMlN5SjkiLCJwYXlsb2FkIjoiZXlKQVkyOXVkR1Y0ZENJNkltaDBkSEJ6T2k4dmR6TnBaQzV2Y21jdmMyVmpkWEpwZEhrdmRqSWlMQ0p3ZFdKc2FXTkxaWGtpT2x0N0ltbGtJam9pSTNCeWFXMWhjbmtpTENKMWMyRm5aU0k2SW5OcFoyNXBibWNpTENKMGVYQmxJam9pVTJWamNESTFObXN4Vm1WeWFXWnBZMkYwYVc5dVMyVjVNakF4T0NJc0luQjFZbXhwWTB0bGVVaGxlQ0k2SWpBelpXRTJZamsyT1dabU1qZG1ZelppWlRKaE56TTFNREExTW1FMFpqWTNaamt4WWpjelltRmpNemMxT0RCak9UQTJabVUxTnpWbFpEVXpPVEpsTURWaVlTSjlMSHNpYVdRaU9pSWpjbVZqYjNabGNua2lMQ0oxYzJGblpTSTZJbkpsWTI5MlpYSjVJaXdpZEhsd1pTSTZJbE5sWTNBeU5UWnJNVlpsY21sbWFXTmhkR2x2Ymt0bGVUSXdNVGdpTENKd2RXSnNhV05MWlhsSVpYZ2lPaUl3TWpSaU9Ea3pNRFJoWmpObE9XTTNaRGxtT0RRNU5qTTJZalUyWldGa056azRNalkyWldNMFlqWTNOR0pqTlRZNE1qVXpZalF6WVdRNE9UVTVNRGt6TURZaWZWMHNJbUYxZEdobGJuUnBZMkYwYVc5dUlqcGJJaU53Y21sdFlYSjVJbDBzSW1GemMyVnlkR2x2YmsxbGRHaHZaQ0k2V3lJamNISnBiV0Z5ZVNKZGZRIiwic2lnbmF0dXJlIjoiNl9OUjRVUl83clFHV2gwUzViVy05eXAyY1JSTEpVbTd2TXVaVmxPOHZLdHBMR1FMNTRqZHNkOTNzZ1ladGRTRGJWY2ZCQkROYlRncmNwUGNKRHFIOUEifQ',\n",
      "  challenge: 'eyJ0eXAiOiJKV1QiLCJhbGciOiJFUzI1NksifQ.eyJpbnRlcmFjdGlvblRva2VuIjp7ImNyZWRlbnRpYWxSZXF1aXJlbWVudHMiOlt7InR5cGUiOlsiVmVyaWZpYWJsZUNyZWRlbnRpYWwiLCJDb250ZW50TGlrZSJdLCJjb25zdHJhaW50cyI6W119XSwiY2FsbGJhY2tVUkwiOiIifSwiZXhwIjoxNjYzMzk4MjY4MzU2LCJ0eXAiOiJjcmVkZW50aWFsUmVxdWVzdCIsImp0aSI6IjAzOGU3YTFkODFhZTNkMDUiLCJpc3MiOiJkaWQ6ZWxlbTpFaUJzUTVTMGtOWVUtQ2tWTEhGVlFReFNwNThncGNRUDl6ZzFuRkdUci1hdmpRO2VsZW06aW5pdGlhbC1zdGF0ZT1leUp3Y205MFpXTjBaV1FpT2lKbGVVcDJZMGRXZVZsWVVuQmlNalJwVDJsS2FtTnRWbWhrUjFWcFRFTktjbUZYVVdsUGFVbHFZMGhLY0dKWFJubGxVMGx6U1cxR2MxcDVTVFpKYTFaVVRXcFZNbE41U2praUxDSndZWGxzYjJGa0lqb2laWGxLUVZreU9YVmtSMVkwWkVOSk5rbHRhREJrU0VKNlQyazRkbVI2VG5CYVF6VjJZMjFqZG1NeVZtcGtXRXB3WkVocmRtUnFTV2xNUTBwM1pGZEtjMkZYVGt4YVdHdHBUMngwTjBsdGJHdEphbTlwU1ROQ2VXRlhNV2hqYm10cFRFTktNV015Um01YVUwazJTVzVPY0ZveU5YQmliV05wVEVOS01HVllRbXhKYW05cFZUSldhbU5FU1RGT2JYTjRWbTFXZVdGWFduQlpNa1l3WVZjNWRWTXlWalZOYWtGNFQwTkpjMGx1UWpGWmJYaHdXVEIwYkdWVmFHeGxRMGsyU1dwQmVWcHRWbXhaYlUxNldrZEpORTFVWXpKUFJHYzBUWHBSZWs5RVdteE9WRkpxVGtSS2FscHFUbXRPTWxsM1RqSkZNVTFVV1RWT1ZFSnFXbTFOTkZwVVl6SlBSR2N4VFRKWmVrNTZhM2ROYlZrd1dsUlpORTFUU2psTVNITnBZVmRSYVU5cFNXcGpiVlpxWWpOYWJHTnVhMmxNUTBveFl6SkdibHBUU1RaSmJrcHNXVEk1TWxwWVNqVkphWGRwWkVoc2QxcFRTVFpKYkU1c1dUTkJlVTVVV25KTlZscHNZMjFzYldGWFRtaGtSMngyWW10MGJHVlVTWGROVkdkcFRFTktkMlJYU25OaFYwNU1XbGhzU1ZwWVoybFBhVWwzVFdwak1rOUhWWHBOVkZVd1dsUldhbGxYV1RKYWJWcHBXbTFGTTFwSFZtMVBWRTE1VFhwTk1VMUVXVEpPYWxVMFQwZFdhVTlIVVRST2VtaHFUVmRGTWsxcVJYaGFSMWt4V1hwbmVWcEhVbXBOYWxKcFQxZFZhV1pXTUhOSmJVWXhaRWRvYkdKdVVuQlpNa1l3WVZjNWRVbHFjR0pKYVU1M1kyMXNkRmxZU2pWSmJEQnpTVzFHZW1NeVZubGtSMngyWW1zeGJHUkhhSFphUTBrMlYzbEphbU5JU25CaVYwWjVaVk5LWkdaUklpd2ljMmxuYm1GMGRYSmxJam9pUm5OblJVZGxXVmhPTFRkS04ycFBVVXB5TmpSb2FIVjVabU5VV214dVZIUktlWGw2U0VoWGVsaFJSbVZEUlRRNGRuWXhNMGM1VGtaWE9GbzJNRWx5VEhKbVRrRnRXRXBhVTBjMWNYcE1abFJMTUROaFNWRWlmUSIsImtpZCI6ImRpZDplbGVtOkVpQnNRNVMwa05ZVS1Da1ZMSEZWUVF4U3A1OGdwY1FQOXpnMW5GR1RyLWF2alEjcHJpbWFyeSJ9.91747dcc293f1040f74337a3d0f584c9ef3df1d79c79b71d2e5c5bdfbeaf25a22a1f73cf96b4e26931496d837cb5d1044c81a0f745608225abf32ea5f8805c1c',\n",
      "  suppliedPresentation: {\n",
      "    '@context': [ 'https://www.w3.org/2018/credentials/v1' ],\n",
      "    id: 'presentationId:f461e8a2b035d689',\n",
      "    type: [ 'VerifiablePresentation' ],\n",
      "    holder: {\n",
      "      id: 'did:elem:EiC5XYylCfH47s7dcJt2SpdBg1yS2lyuJpR6J8WAY0swRw;elem:initial-state=eyJwcm90ZWN0ZWQiOiJleUp2Y0dWeVlYUnBiMjRpT2lKamNtVmhkR1VpTENKcmFXUWlPaUlqY0hKcGJXRnllU0lzSW1Gc1p5STZJa1ZUTWpVMlN5SjkiLCJwYXlsb2FkIjoiZXlKQVkyOXVkR1Y0ZENJNkltaDBkSEJ6T2k4dmR6TnBaQzV2Y21jdmMyVmpkWEpwZEhrdmRqSWlMQ0p3ZFdKc2FXTkxaWGtpT2x0N0ltbGtJam9pSTNCeWFXMWhjbmtpTENKMWMyRm5aU0k2SW5OcFoyNXBibWNpTENKMGVYQmxJam9pVTJWamNESTFObXN4Vm1WeWFXWnBZMkYwYVc5dVMyVjVNakF4T0NJc0luQjFZbXhwWTB0bGVVaGxlQ0k2SWpBelpXRTJZamsyT1dabU1qZG1ZelppWlRKaE56TTFNREExTW1FMFpqWTNaamt4WWpjelltRmpNemMxT0RCak9UQTJabVUxTnpWbFpEVXpPVEpsTURWaVlTSjlMSHNpYVdRaU9pSWpjbVZqYjNabGNua2lMQ0oxYzJGblpTSTZJbkpsWTI5MlpYSjVJaXdpZEhsd1pTSTZJbE5sWTNBeU5UWnJNVlpsY21sbWFXTmhkR2x2Ymt0bGVUSXdNVGdpTENKd2RXSnNhV05MWlhsSVpYZ2lPaUl3TWpSaU9Ea3pNRFJoWmpObE9XTTNaRGxtT0RRNU5qTTJZalUyWldGa056azRNalkyWldNMFlqWTNOR0pqTlRZNE1qVXpZalF6WVdRNE9UVTVNRGt6TURZaWZWMHNJbUYxZEdobGJuUnBZMkYwYVc5dUlqcGJJaU53Y21sdFlYSjVJbDBzSW1GemMyVnlkR2x2YmsxbGRHaHZaQ0k2V3lJamNISnBiV0Z5ZVNKZGZRIiwic2lnbmF0dXJlIjoiNl9OUjRVUl83clFHV2gwUzViVy05eXAyY1JSTEpVbTd2TXVaVmxPOHZLdHBMR1FMNTRqZHNkOTNzZ1ladGRTRGJWY2ZCQkROYlRncmNwUGNKRHFIOUEifQ'\n",
      "    },\n",
      "    verifiableCredential: [ [Object] ],\n",
      "    proof: {\n",
      "      type: 'EcdsaSecp256k1Signature2019',\n",
      "      created: '2022-09-17T06:54:36Z',\n",
      "      verificationMethod: 'did:elem:EiC5XYylCfH47s7dcJt2SpdBg1yS2lyuJpR6J8WAY0swRw#primary',\n",
      "      proofPurpose: 'authentication',\n",
      "      challenge: 'eyJ0eXAiOiJKV1QiLCJhbGciOiJFUzI1NksifQ.eyJpbnRlcmFjdGlvblRva2VuIjp7ImNyZWRlbnRpYWxSZXF1aXJlbWVudHMiOlt7InR5cGUiOlsiVmVyaWZpYWJsZUNyZWRlbnRpYWwiLCJDb250ZW50TGlrZSJdLCJjb25zdHJhaW50cyI6W119XSwiY2FsbGJhY2tVUkwiOiIifSwiZXhwIjoxNjYzMzk4MjY4MzU2LCJ0eXAiOiJjcmVkZW50aWFsUmVxdWVzdCIsImp0aSI6IjAzOGU3YTFkODFhZTNkMDUiLCJpc3MiOiJkaWQ6ZWxlbTpFaUJzUTVTMGtOWVUtQ2tWTEhGVlFReFNwNThncGNRUDl6ZzFuRkdUci1hdmpRO2VsZW06aW5pdGlhbC1zdGF0ZT1leUp3Y205MFpXTjBaV1FpT2lKbGVVcDJZMGRXZVZsWVVuQmlNalJwVDJsS2FtTnRWbWhrUjFWcFRFTktjbUZYVVdsUGFVbHFZMGhLY0dKWFJubGxVMGx6U1cxR2MxcDVTVFpKYTFaVVRXcFZNbE41U2praUxDSndZWGxzYjJGa0lqb2laWGxLUVZreU9YVmtSMVkwWkVOSk5rbHRhREJrU0VKNlQyazRkbVI2VG5CYVF6VjJZMjFqZG1NeVZtcGtXRXB3WkVocmRtUnFTV2xNUTBwM1pGZEtjMkZYVGt4YVdHdHBUMngwTjBsdGJHdEphbTlwU1ROQ2VXRlhNV2hqYm10cFRFTktNV015Um01YVUwazJTVzVPY0ZveU5YQmliV05wVEVOS01HVllRbXhKYW05cFZUSldhbU5FU1RGT2JYTjRWbTFXZVdGWFduQlpNa1l3WVZjNWRWTXlWalZOYWtGNFQwTkpjMGx1UWpGWmJYaHdXVEIwYkdWVmFHeGxRMGsyU1dwQmVWcHRWbXhaYlUxNldrZEpORTFVWXpKUFJHYzBUWHBSZWs5RVdteE9WRkpxVGtSS2FscHFUbXRPTWxsM1RqSkZNVTFVV1RWT1ZFSnFXbTFOTkZwVVl6SlBSR2N4VFRKWmVrNTZhM2ROYlZrd1dsUlpORTFUU2psTVNITnBZVmRSYVU5cFNXcGpiVlpxWWpOYWJHTnVhMmxNUTBveFl6SkdibHBUU1RaSmJrcHNXVEk1TWxwWVNqVkphWGRwWkVoc2QxcFRTVFpKYkU1c1dUTkJlVTVVV25KTlZscHNZMjFzYldGWFRtaGtSMngyWW10MGJHVlVTWGROVkdkcFRFTktkMlJYU25OaFYwNU1XbGhzU1ZwWVoybFBhVWwzVFdwak1rOUhWWHBOVkZVd1dsUldhbGxYV1RKYWJWcHBXbTFGTTFwSFZtMVBWRTE1VFhwTk1VMUVXVEpPYWxVMFQwZFdhVTlIVVRST2VtaHFUVmRGTWsxcVJYaGFSMWt4V1hwbmVWcEhVbXBOYWxKcFQxZFZhV1pXTUhOSmJVWXhaRWRvYkdKdVVuQlpNa1l3WVZjNWRVbHFjR0pKYVU1M1kyMXNkRmxZU2pWSmJEQnpTVzFHZW1NeVZubGtSMngyWW1zeGJHUkhhSFphUTBrMlYzbEphbU5JU25CaVYwWjVaVk5LWkdaUklpd2ljMmxuYm1GMGRYSmxJam9pUm5OblJVZGxXVmhPTFRkS04ycFBVVXB5TmpSb2FIVjVabU5VV214dVZIUktlWGw2U0VoWGVsaFJSbVZEUlRRNGRuWXhNMGM1VGtaWE9GbzJNRWx5VEhKbVRrRnRXRXBhVTBjMWNYcE1abFJMTUROaFNWRWlmUSIsImtpZCI6ImRpZDplbGVtOkVpQnNRNVMwa05ZVS1Da1ZMSEZWUVF4U3A1OGdwY1FQOXpnMW5GR1RyLWF2alEjcHJpbWFyeSJ9.91747dcc293f1040f74337a3d0f584c9ef3df1d79c79b71d2e5c5bdfbeaf25a22a1f73cf96b4e26931496d837cb5d1044c81a0f745608225abf32ea5f8805c1c',\n",
      "      domain: 'youtube.com',\n",
      "      jws: 'eyJhbGciOiJFUzI1NksiLCJiNjQiOmZhbHNlLCJjcml0IjpbImI2NCJdfQ..-651IUOrbZTWW7z86eC7ED7ivLfdzyYw4sNnLDvq_Ilu4wMJQDVMo1hWp--GRO8Lxk0H3Ntg1_5veAjOqmye7Q'\n",
      "    }\n",
      "  }\n",
      "}\n"
     ]
    }
   ],
   "source": [
    "   const result = await verifierWallet.verifyPresentation(vp)\n",
    "  result"
   ]
  },
  {
   "cell_type": "code",
   "execution_count": null,
   "id": "1e209361-24c0-4929-b6a0-5a6fa4282a52",
   "metadata": {},
   "outputs": [],
   "source": []
  }
 ],
 "metadata": {
  "kernelspec": {
   "display_name": "TypeScript",
   "language": "typescript",
   "name": "tslab"
  },
  "language_info": {
   "codemirror_mode": {
    "mode": "typescript",
    "name": "javascript",
    "typescript": true
   },
   "file_extension": ".ts",
   "mimetype": "text/typescript",
   "name": "typescript",
   "version": "3.7.2"
  }
 },
 "nbformat": 4,
 "nbformat_minor": 5
}
