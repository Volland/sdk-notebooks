{
 "cells": [
  {
   "cell_type": "markdown",
   "id": "fa4e2da8-63a7-4686-85ca-a8007c5aadcd",
   "metadata": {},
   "source": [
    "# Affinidi Vault - Custodial Wallet\n",
    "\n",
    "<div class=\"container16x9\"><iframe src=\"https://www.youtube.com/embed/aiv87p7vv4I\" class=\"responsive-iframe\" title=\"YouTube video player\" frameborder=\"0\" allow=\"accelerometer; autoplay; clipboard-write; encrypted-media; gyroscope; picture-in-picture\" allowfullscreen></iframe></div>\n",
    "\n",
    "![Affinidisdk.drawio.png](./images/Affinidisdk.drawio.png)\n",
    "\n",
    "# User Managment + Seed Storage\n",
    "\n",
    "## User Managment\n",
    "Cognito based solution that offer OTP and passwordless ligin / signup flow together with a classical passwords\n",
    "User managment avaliable as independent module and could be used to build user managment solutions [user managment](https://github.com/affinityproject/affinidi-core-sdk/tree/master/common-libs/user-management)\n",
    "                                                                                                                    \n",
    "                                                                                                                    \n"
   ]
  },
  {
   "cell_type": "code",
   "execution_count": 19,
   "id": "319dea42-03eb-4339-8b6a-077c90227326",
   "metadata": {
    "jupyter": {
     "source_hidden": true
    },
    "tags": []
   },
   "outputs": [
    {
     "data": {
      "text/html": [
       "<img src=\"http://www.plantuml.com/plantuml/svg/lLD1QWCn3Bpx5NCt-uH2hgN7a0U8hEAOhEN5SYdx-tgTx3RP6bfQsfj6CoF429cTPaevUEa3ZSRYXIViSqpa61O7vOH0GYwmP6CR7GiEv8UviXX9zIsclXjOjROir3l1ORoY5U8OvUHJGCmt2aDqNXPP1GtHR7yMFDMYZDdOjePresyjqrhaaJh5v6BUJDsAZcUI4byLfKMrT5_d08K2cqzMZESe_DCalqpnFn9id_EFOvkvbVh5nOtfkli7AB23bfeH9bnugWt7-GDYpzotzLgOUqF5EowFTdksTm00\"/>"
      ]
     },
     "metadata": {},
     "output_type": "display_data"
    }
   ],
   "source": [
    "const plantumlEncoder = require('plantuml-encoder')\n",
    "const tslab = require(\"tslab\");\n",
    "const map = plantumlEncoder.encode(`\n",
    "@startmindmap\n",
    "+ Key Storage + User managment\n",
    "++ User managment\n",
    "+++ email\n",
    "++++ password-less\n",
    "+++++ sign Up\n",
    "++++++ sign Up confirm otp\n",
    "+++++ login\n",
    "++++++ login confirm otp\n",
    "+++++ signIn = signUp + login\n",
    "++++++ confirm otp\n",
    "++++ password\n",
    "+++++ sign Up\n",
    "++++++ sign Up confirm\n",
    "+++++ login\n",
    "++++++ confirm\n",
    "+++++ forgot password\n",
    "++++++ confirm\n",
    "+++++ change passwrord\n",
    "++++ change user name\n",
    "+++++ confirm\n",
    "+++ phone\n",
    "++++ password-less\n",
    "+++++ sign Up\n",
    "++++++ sign Up confirm\n",
    "+++++ login\n",
    "++++++ login confirm\n",
    "+++++ signIn = signUp + login\n",
    "++++++ confirm otp\n",
    "++++ password\n",
    "+++++ sign Up\n",
    "++++++ sign Up confirm otp\n",
    "+++++ login\n",
    "+++++ forgot password\n",
    "++++++ confirm\n",
    "+++++ change passwrord\n",
    "++++ change user name\n",
    "+++++ confirm\n",
    "+++ username\n",
    "++++ password\n",
    "+++++ sign Up\n",
    "++++++ sign Up confirm\n",
    "+++++ login\n",
    "\n",
    "\n",
    "-- Key Storage\n",
    "--- store my key\n",
    "--- get my key\n",
    "-- Seed Storage\n",
    "--- store my seed\n",
    "--- get my seed\n",
    "@endmindmap\n",
    "`);\n",
    "const urlMap = 'http://www.plantuml.com/plantuml/svg/' + map\n",
    "tslab.display.html(`<img src=\"${urlMap}\"/>`)\n"
   ]
  },
  {
   "cell_type": "markdown",
   "id": "b02aa708-7bea-4e0d-a88e-eef991ebd8c5",
   "metadata": {},
   "source": [
    "## Flow\n"
   ]
  },
  {
   "cell_type": "code",
   "execution_count": 18,
   "id": "491109a9-f2b2-41f0-97e0-ca3f3741c32e",
   "metadata": {
    "jupyter": {
     "source_hidden": true
    },
    "tags": []
   },
   "outputs": [
    {
     "data": {
      "text/html": [
       "<img src=\"http://www.plantuml.com/plantuml/svg/ZLJ1RXen5BpxAqQSO0KauOX4b8ZsXAf6ecqEA0TZFnOhnjxQNYB-lc-zeB90gvpsUVrc_3mpk-8f9XbIlRCYcMG9pvkDSKQRALwbjPImJ3x8aeIGYYkWj_ooG5zPGouDUf0HRIqgvZ7ALD8bxdf-NMBkIsUIRvlQMcYPv5f6Gk-T3YVotC7ho4kw8Fhgk4p6EomOy1BytcWA9qHrN8lP32YAXt6cfAOt5WLcCz5EXz7ZQOGfeYbTNQ5lVMdS49MCySC7FH3I9kINC16qayQ2hrnjlIDnH6FKC6NEAVOKpCOecSSBzBkcc11tyIvZRnsjlDkOiEiWXI2dR_9Fxk-naafHZ3_yExctCygpoqzHagCW4o6I2cmQR_RFS9E1E6k_F695JeL3rfXbUnFECv5KmSSunSzeN8bEnsd5Xv7kJfGDP86RnxV3eZl5m_249BraQ1ugjrvEr1tXfROMqkcM5h_ca7NQeacH1WkVjfGjbQdcRRLjSkjA6iBpJa1ZRKGTkSmAy7NILYOmod-uB5LLhwrHFEwTDdem5asQYc8oRe_-RvRQk5n7wNDstbGlaDJNulrRBQmwibwo_at9Q3JwV2fm6OkkATyTvkqfaT5TOw6fHRBKzNL-XjdCuuniaODSyvz7Ux1px97PSvARd0MoNB77LHDk1aSXdlXRQVvMVm00\"/>"
      ]
     },
     "metadata": {},
     "output_type": "display_data"
    }
   ],
   "source": [
    "const flow = plantumlEncoder.encode(`\n",
    "@startuml\n",
    "title Affinidi: Wallet Storage\n",
    "\n",
    "actor  \"SDK (client)\" as client\n",
    "participant  \"AWS Cognito\" as cognito\n",
    "database \"key Storage\" as keystore\n",
    "participant  \"Enciption Key Provider\" as keyprovider\n",
    "==  **1. Store Keys** ==\n",
    "client -> cognito: signup (login, password)\n",
    "alt login is email or phone\n",
    "cognito --> client: verification request sms/email\n",
    "client -> cognito: confirm verification\n",
    "\n",
    "end\n",
    "cognito --> client: 200 [accessToken]\n",
    "client -> keyprovider: generate secret key(accessToken2)\n",
    "keyprovider --> client: 200[encryptionKey]\n",
    "note across: Using encryptionKey encrypt seed\n",
    "client -> keystore: storeMyKey(accessToken1, encryptedSeed)\n",
    "keystore --> client: 200\n",
    "note across: Pull and store VC auth based on the signature challenge, other words user proving that he own key(publicKey/did).\n",
    "\n",
    "== **2. Pull Keys** ==\n",
    "client -> cognito: login (login, password)\n",
    "cognito --> client: 200 [accessToken]\n",
    "\n",
    "client -> keystore: readMyKey(accessToken1)\n",
    "keystore --> client: 200 [encryptedSeed]\n",
    "\n",
    "client -> keyprovider: ---(accessToken2)\n",
    "keyprovider --> client: 200 [encryptionKey]\n",
    "\n",
    "note across: On Client side encryptedSeed decrypting using encryptionKey, and client then able do all privateKey related operations\n",
    "\n",
    "@enduml\n",
    "`);\n",
    "const urlFlow = 'http://www.plantuml.com/plantuml/svg/' + flow\n",
    "tslab.display.html(`<img src=\"${urlFlow}\"/>`)"
   ]
  },
  {
   "cell_type": "markdown",
   "id": "f7908fb5-fd01-4b14-8544-a0f950bbc948",
   "metadata": {},
   "source": [
    "## Sign In = SingUp + login"
   ]
  },
  {
   "cell_type": "code",
   "execution_count": 24,
   "id": "57d8129d-d6b6-4f4d-ae97-fb80287f81dd",
   "metadata": {},
   "outputs": [],
   "source": [
    "const { createWallet } = require('@affinidi/wallet-node-sdk')\n",
    "const walletFactory = createWallet('AffinityCore')"
   ]
  },
  {
   "cell_type": "markdown",
   "id": "2c5b30d7-c74d-4479-ab40-bd1e3481ce50",
   "metadata": {},
   "source": [
    "Lets setup wallets"
   ]
  },
  {
   "cell_type": "code",
   "execution_count": 25,
   "id": "1ae2defb-c56b-4193-8464-86a143adf24c",
   "metadata": {
    "jupyter": {
     "source_hidden": true
    },
    "tags": []
   },
   "outputs": [],
   "source": [
    "const accessApiKey = '<your key>'"
   ]
  },
  {
   "cell_type": "code",
   "execution_count": 26,
   "id": "c3bad33e-2ebe-4a38-a545-62791857956d",
   "metadata": {},
   "outputs": [],
   "source": [
    "const options = {\n",
    "    env: 'prod',\n",
    "    accessApiKey:accessApiKey,\n",
    "}"
   ]
  },
  {
   "cell_type": "code",
   "execution_count": 35,
   "id": "5a226cb7-52f6-4fa9-99da-b2ae71f65a89",
   "metadata": {},
   "outputs": [
    {
     "name": "stdout",
     "output_type": "stream",
     "text": [
      "{\"signInType\":\"logIn\",\"logInToken\":\"{\\\"ChallengeName\\\":\\\"CUSTOM_CHALLENGE\\\",\\\"Session\\\":\\\"AYABeEL8ZwjKHEw9Ry7Gj8za0QEAHQABAAdTZXJ2aWNlABBDb2duaXRvVXNlclBvb2xzAAEAB2F3cy1rbXMAUGFybjphd3M6a21zOmFwLXNvdXRoZWFzdC0xOjAzMTU3NzI0MDA0ODprZXkvYmEwNzA1YzktMTI0Mi00ODg1LWJhMmYtNDhiMWNjYTNiNDNmALgBAgEAeMtRirmB1qptVeI5EWSyPpLL6RXz-VVK9JVsLMBfSNNmAV_3ml5iLryQAWVahwO2YXcAAAB-MHwGCSqGSIb3DQEHBqBvMG0CAQAwaAYJKoZIhvcNAQcBMB4GCWCGSAFlAwQBLjARBAwKDwpsUuxd-Ff83I8CARCAO_apJS06v7PdOoiF4GX-1pgBjwRFyj_dnZw4Ut6WVqckdqVSUhwhZdaok9pNnpnoP89NN08RFzopLMnpAgAAAAAMAAAQAAAAAAAAAAAAAAAAAG7IdNkzpOwjzzGIvNgxSf3_____AAAAAQAAAAAAAAAAAAAAAQAAARCAK3MiBzvSXJW8_PjtKl6xE5mf-mYV3DzN31I-iOZ05qGDZJcY-XR6y_GMGpOHY-HcJVccKp9T2mAmfkx55NyXs_NO5XqbeQ3sf8RIKW5OoeFUMZZmRz7MWlmK1JMiaiHHwiArMNq8_lFI-16_ePP9xTPR_79GxAtaHa05VlBFiw1lByA9hFQKkTzVW3L0cqQGgq85HOl82M7RpnPLoolAa6hrstRis0A2utV-RDJnoJbhBzCwa8kKtGCq_TPQylYciTZeJVnu6FJzWmJNb0Ouxc7bRY2th1GNKSY9CiNfl8Su7-Hc36T54wFwbRZ6i4i6HVEjqwmY4YDBXFGrF2R415AbE4svWBGMenmysSrh8F-EsST5CdmBOfTNPTyj_-8\\\",\\\"ChallengeParameters\\\":{\\\"USERNAME\\\":\\\"pavlyshyn+user-demo_gmail.com\\\",\\\"email\\\":\\\"pavlyshyn+user-demo@gmail.com\\\"}}\"}\n"
     ]
    }
   ],
   "source": [
    "const email = 'pavlyshyn+user-demo@gmail.com'\n",
    "const loginToken = await walletFactory.initiateSignInPasswordless(options,email)\n",
    "loginToken"
   ]
  },
  {
   "cell_type": "code",
   "execution_count": 37,
   "id": "c877e0b4-886d-474f-a114-df7434bbb257",
   "metadata": {},
   "outputs": [],
   "source": [
    "const otp = '317187'"
   ]
  },
  {
   "cell_type": "code",
   "execution_count": 38,
   "id": "980c60c9-3d74-464f-955e-a0c2cae44be0",
   "metadata": {},
   "outputs": [
    {
     "name": "stdout",
     "output_type": "stream",
     "text": [
      "did:elem:EiCb9h4_4xgUdeuaGBe1xwK8SDTWPgPN9D4hIVnufuqKOg;elem:initial-state=eyJwcm90ZWN0ZWQiOiJleUp2Y0dWeVlYUnBiMjRpT2lKamNtVmhkR1VpTENKcmFXUWlPaUlqY0hKcGJXRnllU0lzSW1Gc1p5STZJa1ZUTWpVMlN5SjkiLCJwYXlsb2FkIjoiZXlKQVkyOXVkR1Y0ZENJNkltaDBkSEJ6T2k4dmR6TnBaQzV2Y21jdmMyVmpkWEpwZEhrdmRqSWlMQ0p3ZFdKc2FXTkxaWGtpT2x0N0ltbGtJam9pSTNCeWFXMWhjbmtpTENKMWMyRm5aU0k2SW5OcFoyNXBibWNpTENKMGVYQmxJam9pVTJWamNESTFObXN4Vm1WeWFXWnBZMkYwYVc5dVMyVjVNakF4T0NJc0luQjFZbXhwWTB0bGVVaGxlQ0k2SWpBeVkyVmpPR1poTjJaaU9XSmtZVFU0WWpGaU5HRXpOV0V5WVRjd01ETTFZV1kyT1RoaU5qVXpZalJsTm1Sa05HWmtaVFF6TTJZd016VmlZelE0TlRaall5SjlMSHNpYVdRaU9pSWpjbVZqYjNabGNua2lMQ0oxYzJGblpTSTZJbkpsWTI5MlpYSjVJaXdpZEhsd1pTSTZJbE5sWTNBeU5UWnJNVlpsY21sbWFXTmhkR2x2Ymt0bGVUSXdNVGdpTENKd2RXSnNhV05MWlhsSVpYZ2lPaUl3TW1WaVpUQTBZV05tT1RSa1lUWTRaV1ZtWXpNeFlUQmlOV0ptWkRBME5XSmhNV1E0TUdRMVpHWm1ZMk5oWVdOaVpXTXhZbVExTm1JNE5qWmlNakJrWVRJaWZWMHNJbUYxZEdobGJuUnBZMkYwYVc5dUlqcGJJaU53Y21sdFlYSjVJbDBzSW1GemMyVnlkR2x2YmsxbGRHaHZaQ0k2V3lJamNISnBiV0Z5ZVNKZGZRIiwic2lnbmF0dXJlIjoiMEZIZ2FYVFQ0eG9JMmd0MEc4OGtkWUl4azZVVnFwZ0lOT25YZkx6dGUxaFZPWkFTTkV5ZHAxMHFwczBFSlM0Q0dPbm15RVp3OXJUSjRNN2FHN2FrSmcifQ\n"
     ]
    }
   ],
   "source": [
    "const result = await walletFactory.completeSignInPasswordless(options, loginToken, otp)\n",
    "result.wallet.did"
   ]
  },
  {
   "cell_type": "code",
   "execution_count": 42,
   "id": "e3fc096a-d003-4fc4-8c32-34060e3a8007",
   "metadata": {},
   "outputs": [
    {
     "name": "stdout",
     "output_type": "stream",
     "text": [
      "{\n",
      "  '@context': 'https://w3id.org/security/v2',\n",
      "  publicKey: [\n",
      "    {\n",
      "      id: 'did:elem:EiCb9h4_4xgUdeuaGBe1xwK8SDTWPgPN9D4hIVnufuqKOg#primary',\n",
      "      usage: 'signing',\n",
      "      type: 'Secp256k1VerificationKey2018',\n",
      "      publicKeyHex: '02cec8fa7fb9bda58b1b4a35a2a70035af698b653b4e6dd4fde433f035bc4856cc'\n",
      "    },\n",
      "    {\n",
      "      id: 'did:elem:EiCb9h4_4xgUdeuaGBe1xwK8SDTWPgPN9D4hIVnufuqKOg#recovery',\n",
      "      usage: 'recovery',\n",
      "      type: 'Secp256k1VerificationKey2018',\n",
      "      publicKeyHex: '02ebe04acf94da68eefc31a0b5bfd045ba1d80d5dffccaacbec1bd56b866b20da2'\n",
      "    }\n",
      "  ],\n",
      "  authentication: [ 'did:elem:EiCb9h4_4xgUdeuaGBe1xwK8SDTWPgPN9D4hIVnufuqKOg#primary' ],\n",
      "  assertionMethod: [ 'did:elem:EiCb9h4_4xgUdeuaGBe1xwK8SDTWPgPN9D4hIVnufuqKOg#primary' ],\n",
      "  id: 'did:elem:EiCb9h4_4xgUdeuaGBe1xwK8SDTWPgPN9D4hIVnufuqKOg'\n",
      "}\n"
     ]
    }
   ],
   "source": [
    "const doc = await result.wallet.resolveDid(result.wallet.did)\n",
    "doc\n",
    "                        "
   ]
  },
  {
   "cell_type": "markdown",
   "id": "ef5697be-4d99-4ebc-8843-66a8f2b7b49b",
   "metadata": {},
   "source": [
    "## Bridges of identities\n",
    "SDK build a bridge from your web2 identifier to ssi identities\n",
    "You could build edge wallets on top that integrate biometric identities like fingerprints or face\n",
    "![Affinidi sdk bridge 2022-10-03 03.14.01.excalidraw.png](./images/sdk-bridge.png)"
   ]
  }
 ],
 "metadata": {
  "kernelspec": {
   "display_name": "TypeScript",
   "language": "typescript",
   "name": "tslab"
  },
  "language_info": {
   "codemirror_mode": {
    "mode": "typescript",
    "name": "javascript",
    "typescript": true
   },
   "file_extension": ".ts",
   "mimetype": "text/typescript",
   "name": "typescript",
   "version": "3.7.2"
  }
 },
 "nbformat": 4,
 "nbformat_minor": 5
}
