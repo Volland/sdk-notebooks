{
 "cells": [
  {
   "cell_type": "code",
   "execution_count": 55,
   "metadata": {
    "jupyter": {
     "source_hidden": true
    },
    "kernel": "Markdown",
    "tags": []
   },
   "outputs": [
    {
     "data": {
      "text/markdown": [
       "# Create Affinidi Wallet Demo \n",
       "## What wallet actually is ?\n",
       "Name wallet create a lot of confusion. In real life you keep your kredit cards, money, identity cards in a wallet.\n",
       "Any crypto wallet have one and only one function that really matter - it is manage and give access to your private and public keys.\n",
       "\n",
       "Wallet is more\n",
       "- key manager - manage access to a keys \n",
       "- signer - sign VCs , transactions, JWTs with your private key\n",
       "\n",
       "Majority of crypto Wallets show a state of your account and etc. Affinity Wallet is more focused on VCs \n",
       "   \n",
       "\n",
       "## Create a wallet on edge \n",
       "- get your API key [production](https://apikey.affinidi.com/) or register affinidi account on [register](https://build.affinidi.com/register)\n",
       "- set env to prod \n"
      ]
     },
     "metadata": {},
     "output_type": "display_data"
    }
   ],
   "source": [
    "# Create Affinidi Wallet Demo \n",
    "## What wallet actually is ?\n",
    "Name wallet create a lot of confusion. In real life you keep your kredit cards, money, identity cards in a wallet.\n",
    "Any crypto wallet have one and only one function that really matter - it is manage and give access to your private and public keys.\n",
    "\n",
    "Wallet is more\n",
    "- key manager - manage access to a keys \n",
    "- signer - sign VCs , transactions, JWTs with your private key\n",
    "\n",
    "Majority of crypto Wallets show a state of your account and etc. Affinity Wallet is more focused on VCs \n",
    "   \n",
    "\n",
    "## Create a wallet on edge \n",
    "- get your API key [production](https://apikey.affinidi.com/) or register affinidi account on [register](https://build.affinidi.com/register)\n",
    "- set env to prod \n"
   ]
  },
  {
   "cell_type": "code",
   "execution_count": 1,
   "metadata": {
    "kernel": "JavaScript"
   },
   "outputs": [],
   "source": [
    "const { createWallet } = require('@affinidi/wallet-node-sdk')\n",
    "import { EventComponent } from '@affinidi/wallet-core-sdk'\n",
    "const walletFactory = createWallet(EventComponent.AffinidiCore)"
   ]
  },
  {
   "cell_type": "code",
   "execution_count": 2,
   "metadata": {
    "kernel": "Python3",
    "tags": []
   },
   "outputs": [],
   "source": [
    "const accessApiKey = '424046e7d5c687a274b61664bd30f557a43cfbb8f2c13535dea0312ea387db6f' \n",
    "    "
   ]
  },
  {
   "cell_type": "code",
   "execution_count": 21,
   "metadata": {
    "kernel": "JavaScript",
    "tags": []
   },
   "outputs": [],
   "source": [
    "const options = {\n",
    "    env: 'prod',\n",
    "    accessApiKey: accessApiKey\n",
    "}"
   ]
  },
  {
   "cell_type": "markdown",
   "metadata": {
    "kernel": "Markdown",
    "tags": []
   },
   "source": [
    "All you need on edge is a password "
   ]
  },
  {
   "cell_type": "code",
   "execution_count": 6,
   "metadata": {
    "kernel": "Python3"
   },
   "outputs": [],
   "source": [
    "const password = 'P@55w0rd!!'"
   ]
  },
  {
   "cell_type": "markdown",
   "metadata": {
    "kernel": "Markdown",
    "tags": []
   },
   "source": [
    "Now we could generate you a wallet"
   ]
  },
  {
   "cell_type": "code",
   "execution_count": 7,
   "metadata": {
    "kernel": "JavaScript"
   },
   "outputs": [],
   "source": [
    "const sdk = await createWallet('test').createWallet(options, password)\n",
    "const  seed = sdk.encryptedSeed \n",
    "const  did = sdk.did  \n",
    "  "
   ]
  },
  {
   "cell_type": "code",
   "execution_count": 8,
   "metadata": {
    "kernel": "JavaScript"
   },
   "outputs": [
    {
     "name": "stdout",
     "output_type": "stream",
     "text": [
      "did:elem:EiC1NEUD77QQnitJ2oSkVfRNz1NLKfxERDPX_PDxkHi11A;elem:initial-state=eyJwcm90ZWN0ZWQiOiJleUp2Y0dWeVlYUnBiMjRpT2lKamNtVmhkR1VpTENKcmFXUWlPaUlqY0hKcGJXRnllU0lzSW1Gc1p5STZJa1ZUTWpVMlN5SjkiLCJwYXlsb2FkIjoiZXlKQVkyOXVkR1Y0ZENJNkltaDBkSEJ6T2k4dmR6TnBaQzV2Y21jdmMyVmpkWEpwZEhrdmRqSWlMQ0p3ZFdKc2FXTkxaWGtpT2x0N0ltbGtJam9pSTNCeWFXMWhjbmtpTENKMWMyRm5aU0k2SW5OcFoyNXBibWNpTENKMGVYQmxJam9pVTJWamNESTFObXN4Vm1WeWFXWnBZMkYwYVc5dVMyVjVNakF4T0NJc0luQjFZbXhwWTB0bGVVaGxlQ0k2SWpBek0yUmhPV05pT0dZNE1HSXdaVGRoWVRBeU16ZzNNVGcwWVdNMk5EZzBPV0k1WldVMllXWXlNekJsTXpaa01EWTFaV0prTUdVNVpUQmlNRGRtT0RObVlTSjlMSHNpYVdRaU9pSWpjbVZqYjNabGNua2lMQ0oxYzJGblpTSTZJbkpsWTI5MlpYSjVJaXdpZEhsd1pTSTZJbE5sWTNBeU5UWnJNVlpsY21sbWFXTmhkR2x2Ymt0bGVUSXdNVGdpTENKd2RXSnNhV05MWlhsSVpYZ2lPaUl3TXpBelpUQTJZVFl4WkRobVkySXpNR1F6T0RNME1tWmpNRFU0T0RsaU16WTFZVEUxT1RNd05tUmtOR0l3WmpGallqUTNNemRrWlRCbE9UZGtOVGRsT0RRaWZWMHNJbUYxZEdobGJuUnBZMkYwYVc5dUlqcGJJaU53Y21sdFlYSjVJbDBzSW1GemMyVnlkR2x2YmsxbGRHaHZaQ0k2V3lJamNISnBiV0Z5ZVNKZGZRIiwic2lnbmF0dXJlIjoiTGpGVWhPRkZMNjhtUkdnMUhHaFNXd0tnR2lsY1ZhT1kxRUhNQ2dld2l2UWtISk0zUjRtN2dvYXFtXzJZTWk4aW1NeVJwdjd6R3M5MjNCdjFXQ3k5emcifQ\n"
     ]
    }
   ],
   "source": [
    "did "
   ]
  },
  {
   "cell_type": "code",
   "execution_count": 54,
   "metadata": {
    "jupyter": {
     "source_hidden": true
    },
    "kernel": "Markdown"
   },
   "outputs": [
    {
     "data": {
      "text/markdown": [
       "## Wallet Internals \n",
       "Whats actually happens\n",
       "Our Wallet is clasical hierarchical deterministic wallet [based on BIP-32](https://github.com/bitcoin/bips/blob/master/bip-0032.mediawiki) standard.\n",
       "It is mean that based on seed (32 bit random entropy) we generate all private , public keys and derived addresses etc.\n",
       "\n",
       "All you need is seed. \n",
       "We never expose a seed or private keys ouside of wallet. \n",
       "\n",
       "We use a user pasword to encrypt a seed. \n",
       "As a result user get encrypted seed and password that allow to create an instance of wallet any time \n",
       "All you need is securely store this pair and do not share it on public internet \n"
      ]
     },
     "metadata": {},
     "output_type": "display_data"
    }
   ],
   "source": [
    "## Wallet Internals \n",
    "Whats actually happens\n",
    "Our Wallet is clasical hierarchical deterministic wallet [based on BIP-32](https://github.com/bitcoin/bips/blob/master/bip-0032.mediawiki) standard.\n",
    "It is mean that based on seed (32 bit random entropy) we generate all private , public keys and derived addresses etc.\n",
    "\n",
    "All you need is seed. \n",
    "We never expose a seed or private keys ouside of wallet. \n",
    "\n",
    "We use a user pasword to encrypt a seed. \n",
    "As a result user get encrypted seed and password that allow to create an instance of wallet any time \n",
    "All you need is securely store this pair and do not share it on public internet "
   ]
  },
  {
   "cell_type": "code",
   "execution_count": 9,
   "metadata": {
    "jupyter": {
     "source_hidden": true
    },
    "kernel": "Python3",
    "tags": []
   },
   "outputs": [
    {
     "data": {
      "text/html": [
       "<img src=\"http://www.plantuml.com/plantuml/svg/ZPGzRuCm48PtViM9EHsQTAkeCaJAa4wfEg4C1f-25R2jisc5glptcW-RX90eJDpTSwzVto6YjR6CR5sL4HT7Ohg0BVn5u9u-Ied94nS42Npk5s1qAIIQH94jrE4zwaYfEAQcO1eJmbmHTuKs_ssGqf9bM2Pn-nule41nB6poTa4i7oEcpdedNvlTuEn9Rprwpnn0TwphZProx9DEaglAM-gZqTHhQ4QPKwEj1uTm99U1D8XyYnA9MHN6qIOXPESEo8HUXT5qmPmu5toZyXlvJPT-V03XKHXBZU_P3_4jUux6oS3Bn_MDmFUlbiwpZGzXiVVH2Yq3pYmRw6lAjGtZXCjnJPIdY6R6_Bhr3fWlExBxo00cgtBpdr7j1lsypslyGgylE6AoeD66hhDIv732nZpVG-A7MPnjykjy14-5vzguokiAfLzag8T11b2qbpr7QvJS_J_-0G00\"/>"
      ]
     },
     "metadata": {},
     "output_type": "display_data"
    }
   ],
   "source": [
    "const plantumlEncoder = require('plantuml-encoder')\n",
    "const tslab = require(\"tslab\");\n",
    "const diagram = plantumlEncoder.encode(`\n",
    "@startuml\n",
    "digraph G {\n",
    "    graph [rankdir = LR, splines=ortho];\n",
    "\n",
    "    node[shape=record];\n",
    "    User[label=\"User\", height=4];\n",
    "    User2[label=\"User\", height=4];\n",
    "    subgraph SDK {\n",
    "      graph [rankdir = LR, splines=ortho];\n",
    "      node[shape=record];\n",
    "      label = \"SDK\";\n",
    "      random[label=\"random\", height=1];\n",
    "      encrypt[label=\"encrypt\", height=2];\n",
    "      seedGenerator[label=\"seed Generator\", height=1];\n",
    "      bip32[label=\"bip32\", height=2];\n",
    "      didDocGenerator[label=\"DidDoc Generator\", height=1];\n",
    "      registry[label=\"Registry\", height=1];\n",
    "    }\n",
    "    random -> seedGenerator [label=\"32 bit\"]\n",
    "    User -> seedGenerator [label=\"meta data\"]\n",
    "    seedGenerator -> encrypt [label=\"seed\"]\n",
    "    User -> encrypt [label=\"password\"]\n",
    "    encrypt -> User2  [label=\"encrypted seed\"]\n",
    "    User -> bip32 [label=\"meta data\"]\n",
    "    seedGenerator -> bip32 [label=\"seed\"]\n",
    "    bip32 -> didDocGenerator  [label=\"public keys\"]\n",
    "    bip32 -> didDocGenerator  [label=\"private keys\"]\n",
    "    bip32 -> registry [label=\"private keys\"]\n",
    "    didDocGenerator -> registry [label=\"document\"]\n",
    "    registry -> User2 [label=\"did\"]\n",
    "}\n",
    "@enduml`)\n",
    "const urldiagram = 'http://www.plantuml.com/plantuml/svg/' + diagram\n",
    "tslab.display.html(`<img src=\"${urldiagram}\"/>`)\n",
    "    "
   ]
  },
  {
   "cell_type": "code",
   "execution_count": 51,
   "metadata": {
    "jupyter": {
     "source_hidden": true
    },
    "kernel": "Markdown"
   },
   "outputs": [
    {
     "data": {
      "text/markdown": [
       "## Unlock wallet with seed and password \n",
       "Now you could unlock your wallet with seed and password \n"
      ]
     },
     "metadata": {},
     "output_type": "display_data"
    }
   ],
   "source": [
    "## Unlock wallet with seed and password \n",
    "Now you could unlock your wallet with seed and password "
   ]
  },
  {
   "cell_type": "code",
   "execution_count": 13,
   "metadata": {
    "kernel": "JavaScript"
   },
   "outputs": [],
   "source": [
    "const sdk = await walletFactory.openWalletByEncryptedSeed(options, seed , password)"
   ]
  },
  {
   "cell_type": "code",
   "execution_count": 15,
   "metadata": {
    "kernel": "JavaScript"
   },
   "outputs": [
    {
     "name": "stdout",
     "output_type": "stream",
     "text": [
      "true\n"
     ]
    }
   ],
   "source": [
    "sdk.did === did"
   ]
  },
  {
   "cell_type": "code",
   "execution_count": 56,
   "metadata": {
    "jupyter": {
     "source_hidden": true
    },
    "kernel": "Markdown"
   },
   "outputs": [
    {
     "data": {
      "text/markdown": [
       "## DID magic . lets resolve it \n",
       "Dids follow a URI schema and could be parsed \n",
       "Every did have a\n",
       "- schema . always equal to did \n",
       "- method \n",
       "- identifier \n",
       "Some did methods like **element** could have a initial parameters \n",
       "\n"
      ]
     },
     "metadata": {},
     "output_type": "display_data"
    }
   ],
   "source": [
    "## DID magic . lets resolve it \n",
    "Dids follow a URI schema and could be parsed \n",
    "Every did have a\n",
    "- schema . always equal to did \n",
    "- method \n",
    "- identifier \n",
    "Some did methods like **element** could have a initial parameters \n",
    "\n"
   ]
  },
  {
   "cell_type": "code",
   "execution_count": 44,
   "metadata": {
    "kernel": "JavaScript"
   },
   "outputs": [
    {
     "data": {
      "text/plain": [
       "{\n",
       "  reference: 'did:elem:EiA72Dqzgr25DvukSTsNI2CDOwthB9r6vBxWHbnkp6vkCw;elem:initial-state=eyJwcm90ZWN0ZWQiOiJleUp2Y0dWeVlYUnBiMjRpT2lKamNtVmhkR1VpTENKcmFXUWlPaUlqY0hKcGJXRnllU0lzSW1Gc1p5STZJa1ZUTWpVMlN5SjkiLCJwYXlsb2FkIjoiZXlKQVkyOXVkR1Y0ZENJNkltaDBkSEJ6T2k4dmR6TnBaQzV2Y21jdmMyVmpkWEpwZEhrdmRqSWlMQ0p3ZFdKc2FXTkxaWGtpT2x0N0ltbGtJam9pSTNCeWFXMWhjbmtpTENKMWMyRm5aU0k2SW5OcFoyNXBibWNpTENKMGVYQmxJam9pVTJWamNESTFObXN4Vm1WeWFXWnBZMkYwYVc5dVMyVjVNakF4T0NJc0luQjFZbXhwWTB0bGVVaGxlQ0k2SWpBellUVXhNak0wT0dSbVlURTFZMlUwWlRGaVpqUTRZMlkyTUROaE0yWmhaVFV5WmpRek5tTmlNR1UxTUdZeE9URmhaREk1T1dOa1pEWTBaREl5TldJd05TSjlMSHNpYVdRaU9pSWpjbVZqYjNabGNua2lMQ0oxYzJGblpTSTZJbkpsWTI5MlpYSjVJaXdpZEhsd1pTSTZJbE5sWTNBeU5UWnJNVlpsY21sbWFXTmhkR2x2Ymt0bGVUSXdNVGdpTENKd2RXSnNhV05MWlhsSVpYZ2lPaUl3TWpNMk5tWTVZakUwTmpFd016WXdNbUV4Wm1VeVptRTJabVZoTkdaaE9EWTNPV1EwWWpJek1XRTBNRFZqTWpJeFpUa3pZek0yT0RSbE9EY3laVEU0TXpjaWZWMHNJbUYxZEdobGJuUnBZMkYwYVc5dUlqcGJJaU53Y21sdFlYSjVJbDBzSW1GemMyVnlkR2x2YmsxbGRHaHZaQ0k2V3lJamNISnBiV0Z5ZVNKZGZRIiwic2lnbmF0dXJlIjoiV08tTHIxbDBjeVpMQWJUOWdjcVdmeFVVZlNNUzBYTDVzcDRMZUhUOUNRNV9CaHpOX0x0bUhKSEdwQ096b2QtOU1wVWt0aGk0QWg2RTVjakpLb3Jib1EifQ',\n",
       "  did: 'did:elem:EiA72Dqzgr25DvukSTsNI2CDOwthB9r6vBxWHbnkp6vkCw',\n",
       "  method: 'elem',\n",
       "  identifier: 'EiA72Dqzgr25DvukSTsNI2CDOwthB9r6vBxWHbnkp6vkCw',\n",
       "  path: '',\n",
       "  fragment: '',\n",
       "  query: '',\n",
       "  param: ';elem:initial-state=eyJwcm90ZWN0ZWQiOiJleUp2Y0dWeVlYUnBiMjRpT2lKamNtVmhkR1VpTENKcmFXUWlPaUlqY0hKcGJXRnllU0lzSW1Gc1p5STZJa1ZUTWpVMlN5SjkiLCJwYXlsb2FkIjoiZXlKQVkyOXVkR1Y0ZENJNkltaDBkSEJ6T2k4dmR6TnBaQzV2Y21jdmMyVmpkWEpwZEhrdmRqSWlMQ0p3ZFdKc2FXTkxaWGtpT2x0N0ltbGtJam9pSTNCeWFXMWhjbmtpTENKMWMyRm5aU0k2SW5OcFoyNXBibWNpTENKMGVYQmxJam9pVTJWamNESTFObXN4Vm1WeWFXWnBZMkYwYVc5dVMyVjVNakF4T0NJc0luQjFZbXhwWTB0bGVVaGxlQ0k2SWpBellUVXhNak0wT0dSbVlURTFZMlUwWlRGaVpqUTRZMlkyTUROaE0yWmhaVFV5WmpRek5tTmlNR1UxTUdZeE9URmhaREk1T1dOa1pEWTBaREl5TldJd05TSjlMSHNpYVdRaU9pSWpjbVZqYjNabGNua2lMQ0oxYzJGblpTSTZJbkpsWTI5MlpYSjVJaXdpZEhsd1pTSTZJbE5sWTNBeU5UWnJNVlpsY21sbWFXTmhkR2x2Ymt0bGVUSXdNVGdpTENKd2RXSnNhV05MWlhsSVpYZ2lPaUl3TWpNMk5tWTVZakUwTmpFd016WXdNbUV4Wm1VeVptRTJabVZoTkdaaE9EWTNPV1EwWWpJek1XRTBNRFZqTWpJeFpUa3pZek0yT0RSbE9EY3laVEU0TXpjaWZWMHNJbUYxZEdobGJuUnBZMkYwYVc5dUlqcGJJaU53Y21sdFlYSjVJbDBzSW1GemMyVnlkR2x2YmsxbGRHaHZaQ0k2V3lJamNISnBiV0Z5ZVNKZGZRIiwic2lnbmF0dXJlIjoiV08tTHIxbDBjeVpMQWJUOWdjcVdmeFVVZlNNUzBYTDVzcDRMZUhUOUNRNV9CaHpOX0x0bUhKSEdwQ096b2QtOU1wVWt0aGk0QWg2RTVjakpLb3Jib1EifQ'\n",
       "}"
      ]
     },
     "execution_count": 44,
     "metadata": {},
     "output_type": "execute_result"
    }
   ],
   "source": [
    "const didParser = require('did-uri')\n",
    "const parsedDid = didParser.parse(did)\n",
    "parsedDid"
   ]
  },
  {
   "cell_type": "code",
   "execution_count": 45,
   "metadata": {
    "jupyter": {
     "source_hidden": true
    },
    "kernel": "Markdown"
   },
   "outputs": [
    {
     "data": {
      "text/markdown": [
       "Key operation for every did is a resolution of a diddocument \n",
       "Our affinidi-registry service do this job quite well\n"
      ]
     },
     "metadata": {},
     "output_type": "display_data"
    }
   ],
   "source": [
    "Key operation for every did is a resolution of a diddocument \n",
    "Our affinidi-registry service do this job quite well"
   ]
  },
  {
   "cell_type": "code",
   "execution_count": 18,
   "metadata": {
    "kernel": "JavaScript"
   },
   "outputs": [],
   "source": [
    "const didDoc = await sdk.resolveDid(sdk.did)"
   ]
  },
  {
   "cell_type": "code",
   "execution_count": 19,
   "metadata": {
    "kernel": "JavaScript"
   },
   "outputs": [
    {
     "name": "stdout",
     "output_type": "stream",
     "text": [
      "{\n",
      "  \"@context\": \"https://w3id.org/security/v2\",\n",
      "  \"publicKey\": [\n",
      "    {\n",
      "      \"id\": \"did:elem:EiC1NEUD77QQnitJ2oSkVfRNz1NLKfxERDPX_PDxkHi11A#primary\",\n",
      "      \"usage\": \"signing\",\n",
      "      \"type\": \"Secp256k1VerificationKey2018\",\n",
      "      \"publicKeyHex\": \"033da9cb8f80b0e7aa02387184ac64849b9ee6af230e36d065ebd0e9e0b07f83fa\"\n",
      "    },\n",
      "    {\n",
      "      \"id\": \"did:elem:EiC1NEUD77QQnitJ2oSkVfRNz1NLKfxERDPX_PDxkHi11A#recovery\",\n",
      "      \"usage\": \"recovery\",\n",
      "      \"type\": \"Secp256k1VerificationKey2018\",\n",
      "      \"publicKeyHex\": \"0303e06a61d8fcb30d38342fc05889b365a159306dd4b0f1cb4737de0e97d57e84\"\n",
      "    }\n",
      "  ],\n",
      "  \"authentication\": [\n",
      "    \"did:elem:EiC1NEUD77QQnitJ2oSkVfRNz1NLKfxERDPX_PDxkHi11A#primary\"\n",
      "  ],\n",
      "  \"assertionMethod\": [\n",
      "    \"did:elem:EiC1NEUD77QQnitJ2oSkVfRNz1NLKfxERDPX_PDxkHi11A#primary\"\n",
      "  ],\n",
      "  \"id\": \"did:elem:EiC1NEUD77QQnitJ2oSkVfRNz1NLKfxERDPX_PDxkHi11A\"\n",
      "}\n"
     ]
    }
   ],
   "source": [
    "JSON.stringify(didDoc, null , 2)"
   ]
  },
  {
   "cell_type": "code",
   "execution_count": 19,
   "metadata": {
    "jupyter": {
     "source_hidden": true
    },
    "kernel": "Markdown"
   },
   "outputs": [
    {
     "data": {
      "text/markdown": [
       "As you can see we have two public keys as a part of document \n",
       "- **signing** used for sign operations \n",
       "- **recovery** could be used for key rotation and did document operations \n"
      ]
     },
     "metadata": {},
     "output_type": "display_data"
    }
   ],
   "source": [
    "As you can see we have two public keys as a part of document \n",
    "- **signing** used for sign operations \n",
    "- **recovery** could be used for key rotation and did document operations "
   ]
  }
 ],
 "metadata": {
  "kernelspec": {
   "display_name": "TypeScript",
   "language": "typescript",
   "name": "tslab"
  },
  "language_info": {
   "codemirror_mode": {
    "mode": "typescript",
    "name": "javascript",
    "typescript": true
   },
   "file_extension": ".ts",
   "mimetype": "text/typescript",
   "name": "typescript",
   "version": "3.7.2"
  },
  "sos": {
   "kernels": [
    [
     "JavaScript",
     "javascript",
     "JavaScript",
     "#c8e1ae",
     ""
    ],
    [
     "Markdown",
     "markdown",
     "markdown",
     "",
     "markdown"
    ],
    [
     "Python3",
     "python3",
     "Python3",
     "#FFD91A",
     {
      "name": "ipython",
      "version": 3
     }
    ]
   ],
   "version": "0.21.21"
  },
  "vscode": {
   "interpreter": {
    "hash": "949777d72b0d2535278d3dc13498b2535136f6dfe0678499012e853ee9abcab1"
   }
  }
 },
 "nbformat": 4,
 "nbformat_minor": 4
}
