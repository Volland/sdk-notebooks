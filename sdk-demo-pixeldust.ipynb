{
 "cells": [
  {
   "cell_type": "code",
   "execution_count": null,
   "id": "2ea58e33",
   "metadata": {
    "tags": []
   },
   "outputs": [],
   "source": [
    "!pip3 install pixiedust\n",
    "!pip3 install pixiedust_node\n",
    "!pip install iplantuml"
   ]
  },
  {
   "cell_type": "code",
   "execution_count": 20,
   "id": "7984ab1b",
   "metadata": {
    "tags": []
   },
   "outputs": [],
   "source": [
    "import pixiedust_node\n",
    "import iplantuml"
   ]
  },
  {
   "cell_type": "code",
   "execution_count": 2,
   "id": "4c2261c9",
   "metadata": {},
   "outputs": [
    {
     "name": "stdout",
     "output_type": "stream",
     "text": [
      "/Users/volodymyrpavlyshyn/.nvm/versions/node/v12.10.0/bin/npm install -s @affinidi/wallet-node-sdk\n",
      "+ @affinidi/wallet-node-sdk@6.4.4\n",
      "updated 1 package and audited 768 packages in 2.393s\n",
      "found 87 vulnerabilities (29 low, 33 moderate, 25 high)\n",
      "run `npm audit fix` to fix them, or `npm audit` for details\n",
      "/Users/volodymyrpavlyshyn/.nvm/versions/node/v12.10.0/bin/npm install -s fetch@2\n"
     ]
    }
   ],
   "source": [
    "npm.install('@affinidi/wallet-node-sdk')\n",
    "npm.install('fetch@2')"
   ]
  },
  {
   "cell_type": "markdown",
   "id": "3c7d0405",
   "metadata": {},
   "source": [
    "# SDK demo\n"
   ]
  },
  {
   "cell_type": "markdown",
   "id": "c1ee17bc",
   "metadata": {},
   "source": [
    "## Create a wallet on edge \n",
    "- get your API key [production](https://apikey.affinidi.com/) or register affinidi account on [register](https://build.affinidi.com/register)\n"
   ]
  },
  {
   "cell_type": "code",
   "execution_count": 3,
   "id": "a09bf7c3",
   "metadata": {},
   "outputs": [],
   "source": [
    "import getpass"
   ]
  },
  {
   "cell_type": "code",
   "execution_count": 4,
   "id": "b956ee39",
   "metadata": {},
   "outputs": [
    {
     "name": "stdin",
     "output_type": "stream",
     "text": [
      " ································································\n"
     ]
    }
   ],
   "source": [
    "accessApiKey=getpass.getpass()"
   ]
  },
  {
   "cell_type": "markdown",
   "id": "0815deec",
   "metadata": {},
   "source": [
    "All you need is password "
   ]
  },
  {
   "cell_type": "code",
   "execution_count": 6,
   "id": "941dee93",
   "metadata": {},
   "outputs": [
    {
     "name": "stdin",
     "output_type": "stream",
     "text": [
      " ···········\n"
     ]
    }
   ],
   "source": [
    "password=getpass.getpass()"
   ]
  },
  {
   "cell_type": "code",
   "execution_count": 19,
   "id": "bfc1b039",
   "metadata": {
    "tags": []
   },
   "outputs": [
    {
     "name": "stdout",
     "output_type": "stream",
     "text": [
      "Thrown:\n",
      "Thrown:\n",
      "... ..... ..... ..... ... ... ... ... ... Thrown:\n",
      "\"did:elem:EiDD3yl2sENRhOsWVmZ2BxyWunFR5rk7sC6oSdeqGpHT5Q;elem:initial-state=eyJwcm90ZWN0ZWQiOiJleUp2Y0dWeVlYUnBiMjRpT2lKamNtVmhkR1VpTENKcmFXUWlPaUlqY0hKcGJXRnllU0lzSW1Gc1p5STZJa1ZUTWpVMlN5SjkiLCJwYXlsb2FkIjoiZXlKQVkyOXVkR1Y0ZENJNkltaDBkSEJ6T2k4dmR6TnBaQzV2Y21jdmMyVmpkWEpwZEhrdmRqSWlMQ0p3ZFdKc2FXTkxaWGtpT2x0N0ltbGtJam9pSTNCeWFXMWhjbmtpTENKMWMyRm5aU0k2SW5OcFoyNXBibWNpTENKMGVYQmxJam9pVTJWamNESTFObXN4Vm1WeWFXWnBZMkYwYVc5dVMyVjVNakF4T0NJc0luQjFZbXhwWTB0bGVVaGxlQ0k2SWpBek1XWTFaV05tWlRZM05EZGpZMlEzWWpjNVl6Z3hNbVJrTURjNVpqVmpOMk5tWTJZeU5HVTFOVFJtWWpZNVlqRTRZakU1WmpnM1ltVTJPVEZtTUdJNVl5SjlMSHNpYVdRaU9pSWpjbVZqYjNabGNua2lMQ0oxYzJGblpTSTZJbkpsWTI5MlpYSjVJaXdpZEhsd1pTSTZJbE5sWTNBeU5UWnJNVlpsY21sbWFXTmhkR2x2Ymt0bGVUSXdNVGdpTENKd2RXSnNhV05MWlhsSVpYZ2lPaUl3TTJOa09XTXlOR1kxTWpBeE1tSmxNR013WWpnd01qY3hNR0V3TWpBME9HWm1NelJsT1RoaFpHVTBNVGsxTVdGaE9EQTVNV0poTWpVMFpURXdZalJtTUdRaWZWMHNJbUYxZEdobGJuUnBZMkYwYVc5dUlqcGJJaU53Y21sdFlYSjVJbDBzSW1GemMyVnlkR2x2YmsxbGRHaHZaQ0k2V3lJamNISnBiV0Z5ZVNKZGZRIiwic2lnbmF0dXJlIjoicEVFM0FRT29aMUdKSzFzLUtUVUpReW9kUGh5ZnZoTEt6eDZRZjZvVHg2TThBTVhqbjZ6OHAtb3pUeTNaTzQ3RkhZZ085OG1ocnNMb0R2M0xWZWYxdGcifQ\"\n"
     ]
    }
   ],
   "source": [
    "%%node \n",
    "const { createWallet } = require('@affinidi/wallet-node-sdk')\n",
    "const walletFactory = createWallet('AffinityCore')\n",
    "\n",
    "const main = async () => {\n",
    "options = {\n",
    "    env: 'prod',\n",
    "    accessApiKey\n",
    "}\n",
    "  const sdk = await createWallet('test').createWallet(options, password)\n",
    "  print(sdk.did)\n",
    "  seed = sdk.encryptedSeed  \n",
    "  \n",
    "}\n",
    "main().catch(console.error)"
   ]
  },
  {
   "cell_type": "markdown",
   "id": "45db740c",
   "metadata": {},
   "source": [
    "As result you will get \n",
    "- encrypted seed that could be used with a password to unlock your sdk in a future \n",
    "- we create a private and public keys for you \n",
    "- we create and anhor if needed did document for you as result you get your personal did"
   ]
  },
  {
   "cell_type": "markdown",
   "id": "725fcc66",
   "metadata": {},
   "source": [
    "## Open wallet with seed and password "
   ]
  },
  {
   "cell_type": "code",
   "execution_count": 18,
   "id": "bb252f6a",
   "metadata": {
    "tags": []
   },
   "outputs": [
    {
     "name": "stdout",
     "output_type": "stream",
     "text": [
      "... ... ... ... ... ... Thrown:\n",
      "\"did:elem:EiDUyuNOKsiV8DxhhUbERpbauS9yX-r1A1pC18wKObeMaw;elem:initial-state=eyJwcm90ZWN0ZWQiOiJleUp2Y0dWeVlYUnBiMjRpT2lKamNtVmhkR1VpTENKcmFXUWlPaUlqY0hKcGJXRnllU0lzSW1Gc1p5STZJa1ZUTWpVMlN5SjkiLCJwYXlsb2FkIjoiZXlKQVkyOXVkR1Y0ZENJNkltaDBkSEJ6T2k4dmR6TnBaQzV2Y21jdmMyVmpkWEpwZEhrdmRqSWlMQ0p3ZFdKc2FXTkxaWGtpT2x0N0ltbGtJam9pSTNCeWFXMWhjbmtpTENKMWMyRm5aU0k2SW5OcFoyNXBibWNpTENKMGVYQmxJam9pVTJWamNESTFObXN4Vm1WeWFXWnBZMkYwYVc5dVMyVjVNakF4T0NJc0luQjFZbXhwWTB0bGVVaGxlQ0k2SWpBeU1qQmxOVEF5TURGaFlXRXpZV1ptTmpZME1UUTVORFUzTXpjMlkyVXdNV0prTUdGaU16a3daakEzWWpJek1tTXlNV0UyTUdFNVkyVmtOV1EzTWpCa01pSjlMSHNpYVdRaU9pSWpjbVZqYjNabGNua2lMQ0oxYzJGblpTSTZJbkpsWTI5MlpYSjVJaXdpZEhsd1pTSTZJbE5sWTNBeU5UWnJNVlpsY21sbWFXTmhkR2x2Ymt0bGVUSXdNVGdpTENKd2RXSnNhV05MWlhsSVpYZ2lPaUl3TXpKalpEWmtaVFZsTkRBek1qWmlaamt4TVRabE1qSTRaR016TWprNE5UVXdZVFptTnpVNU9XTmtPV1F6WlRnM01tVTRZbUU1TTJFNU5ERmhaalJrTnpBaWZWMHNJbUYxZEdobGJuUnBZMkYwYVc5dUlqcGJJaU53Y21sdFlYSjVJbDBzSW1GemMyVnlkR2x2YmsxbGRHaHZaQ0k2V3lJamNISnBiV0Z5ZVNKZGZRIiwic2lnbmF0dXJlIjoiTWxqWmx6RkxzR2ZiTGFTTmw4aUpuSmk1dkhIblltSUE1RTQySE91Z3o2WnJSM2NfeXNCaG0xY3NzSDlkR2Q1RkN6NlFEYnlPczdDRGpuRGpFYlYwS2cifQ\"\n"
     ]
    }
   ],
   "source": [
    "%%node\n",
    "const main = async () => {\n",
    "const { createWallet } = require('@affinidi/wallet-node-sdk')\n",
    "const walletFactory = createWallet('AffinityCore')\n",
    "const sdk = await createWallet('test').openWalletByEncryptedSeed(options, seeed , password)\n",
    "print(did == sdk.did)\n",
    "did = sdk.did    \n",
    "}\n",
    "main().catch(console.error)"
   ]
  },
  {
   "cell_type": "markdown",
   "id": "37921852",
   "metadata": {},
   "source": [
    "## DID"
   ]
  },
  {
   "cell_type": "code",
   "execution_count": 16,
   "id": "52223dcf",
   "metadata": {},
   "outputs": [
    {
     "name": "stdout",
     "output_type": "stream",
     "text": [
      "Thrown:\n",
      "... ... ... ... ... ... ..... ..... ..... ... ... ... ... ... Thrown:\n",
      "\"did:elem:EiDlbHnz9LG3KhvuoloW3cvnICVnX7FLUtmdU0G0gT8f4g;elem:initial-state=eyJwcm90ZWN0ZWQiOiJleUp2Y0dWeVlYUnBiMjRpT2lKamNtVmhkR1VpTENKcmFXUWlPaUlqY0hKcGJXRnllU0lzSW1Gc1p5STZJa1ZUTWpVMlN5SjkiLCJwYXlsb2FkIjoiZXlKQVkyOXVkR1Y0ZENJNkltaDBkSEJ6T2k4dmR6TnBaQzV2Y21jdmMyVmpkWEpwZEhrdmRqSWlMQ0p3ZFdKc2FXTkxaWGtpT2x0N0ltbGtJam9pSTNCeWFXMWhjbmtpTENKMWMyRm5aU0k2SW5OcFoyNXBibWNpTENKMGVYQmxJam9pVTJWamNESTFObXN4Vm1WeWFXWnBZMkYwYVc5dVMyVjVNakF4T0NJc0luQjFZbXhwWTB0bGVVaGxlQ0k2SWpBeVl6TTVZVGM0WkRJMFpESTJNRE01TVRneFpqZGtZV0k1WldNM05XTTFabUZsWXpnd05XTTROR1F5TnpBNVltRTFNbUZpWVdReE5tUXdOMlE0TTJVM1ppSjlMSHNpYVdRaU9pSWpjbVZqYjNabGNua2lMQ0oxYzJGblpTSTZJbkpsWTI5MlpYSjVJaXdpZEhsd1pTSTZJbE5sWTNBeU5UWnJNVlpsY21sbWFXTmhkR2x2Ymt0bGVUSXdNVGdpTENKd2RXSnNhV05MWlhsSVpYZ2lPaUl3TWpaak5HVTJaVE15WVRRM05qYzFZMlF4TVRSaFpXSXlOamhoTnpobFltVmhPVEF5TmpjNU1HTmxZell6WkRsaVpUSmtOVFEyWWpkbFlqVmpNRGxqWmpVaWZWMHNJbUYxZEdobGJuUnBZMkYwYVc5dUlqcGJJaU53Y21sdFlYSjVJbDBzSW1GemMyVnlkR2x2YmsxbGRHaHZaQ0k2V3lJamNISnBiV0Z5ZVNKZGZRIiwic2lnbmF0dXJlIjoiaXp4ZGplUFNKUk1IMTJ0T0lRMDJhRlpzMEFxZUhMSjFVbFVHNzE4bDNGWnBZNDdwMFdodlFibGtJaHV4dlZhM2V3MkNvcWxNRmkxWkJ0b2hIbHdIcUEifQ\"\n"
     ]
    }
   ],
   "source": [
    "%%node\n",
    "const fetch = require('node-fetch')\n",
    "const main = async () => {\n",
    "\n",
    "const resolverUrl = `https://affinity-registry.${options.env}.affinity-project.org/api/v1/did/resolve-did`\n",
    "const response = await fetch(resolverUrl, {\n",
    "    method: 'post',\n",
    "    body: JSON.stringify({did: did}),\n",
    "    headers: {\n",
    "        'Content-Type': 'application/json',\n",
    "        'Api-Key': options.accessApiKey\n",
    "             }\n",
    "});\n",
    "didDoc = await response.json()\n",
    "print(didDoc)     \n",
    "  \n",
    "}\n",
    "main().catch(console.error)"
   ]
  },
  {
   "cell_type": "code",
   "execution_count": 17,
   "id": "5736cf33",
   "metadata": {},
   "outputs": [
    {
     "ename": "NameError",
     "evalue": "name 'did' is not defined",
     "output_type": "error",
     "traceback": [
      "\u001b[0;31m---------------------------------------------------------------------------\u001b[0m",
      "\u001b[0;31mNameError\u001b[0m                                 Traceback (most recent call last)",
      "\u001b[0;32m<ipython-input-17-b3ec3ed8cb3f>\u001b[0m in \u001b[0;36m<module>\u001b[0;34m\u001b[0m\n\u001b[0;32m----> 1\u001b[0;31m \u001b[0mdid\u001b[0m\u001b[0;34m\u001b[0m\u001b[0;34m\u001b[0m\u001b[0m\n\u001b[0m",
      "\u001b[0;31mNameError\u001b[0m: name 'did' is not defined"
     ]
    }
   ],
   "source": [
    "did"
   ]
  },
  {
   "cell_type": "code",
   "execution_count": null,
   "id": "b7594842",
   "metadata": {},
   "outputs": [],
   "source": []
  }
 ],
 "metadata": {
  "kernelspec": {
   "display_name": "Python 3 (ipykernel)",
   "language": "python",
   "name": "python3"
  },
  "language_info": {
   "codemirror_mode": {
    "name": "ipython",
    "version": 3
   },
   "file_extension": ".py",
   "mimetype": "text/x-python",
   "name": "python",
   "nbconvert_exporter": "python",
   "pygments_lexer": "ipython3",
   "version": "3.8.8"
  },
  "vscode": {
   "interpreter": {
    "hash": "949777d72b0d2535278d3dc13498b2535136f6dfe0678499012e853ee9abcab1"
   }
  }
 },
 "nbformat": 4,
 "nbformat_minor": 5
}
