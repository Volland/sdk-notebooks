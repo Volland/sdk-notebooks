{
 "cells": [
  {
   "cell_type": "markdown",
   "metadata": {},
   "source": [
    "A SoS Jupyter notebook accepts the following types of cells:\n",
    "\n",
    "* **Markdown** cells that can be rendered to have title, table etc\n",
    "* **Subkernel** cells with statements in other languages with optional SoS magics at the beginning of the cells\n",
    "* **SoS** cells with SoS statements without any section header\n",
    "* **Workflow** cells with SoS statements and section header. These cells can only be executed by magic `%run`, `%sosrun`, or command `sos run` from command line"
   ]
  },
  {
   "cell_type": "code",
   "execution_count": 1,
   "metadata": {
    "kernel": "R"
   },
   "outputs": [
    {
     "data": {
      "text/html": [
       "<div class=\"sos_hint\">%preview rn[1:3]</div>"
      ]
     },
     "metadata": {},
     "output_type": "display_data"
    },
    {
     "data": {
      "text/html": [
       "<div class=\"sos_hint\">> rn[1:3]:</div>"
      ],
      "text/plain": [
       ">>> rn[1:3]:\n"
      ]
     },
     "metadata": {},
     "output_type": "display_data"
    },
    {
     "data": {
      "text/html": [
       "<ol class=list-inline>\n",
       "\t<li>1.73156050362224</li>\n",
       "\t<li>0.578415051972805</li>\n",
       "\t<li>-1.55262655684374</li>\n",
       "</ol>\n"
      ],
      "text/latex": [
       "\\begin{enumerate*}\n",
       "\\item 1.73156050362224\n",
       "\\item 0.578415051972805\n",
       "\\item -1.55262655684374\n",
       "\\end{enumerate*}\n"
      ],
      "text/markdown": [
       "1. 1.73156050362224\n",
       "2. 0.578415051972805\n",
       "3. -1.55262655684374\n",
       "\n",
       "\n"
      ],
      "text/plain": [
       "[1]  1.7315605  0.5784151 -1.5526266"
      ]
     },
     "metadata": {},
     "output_type": "display_data"
    }
   ],
   "source": [
    "%preview -n rn[1:3]\n",
    "rn <- rnorm(5000)"
   ]
  },
  {
   "cell_type": "code",
   "execution_count": 2,
   "metadata": {
    "kernel": "SoS"
   },
   "outputs": [
    {
     "data": {
      "text/plain": [
       "0.012104626083526911"
      ]
     },
     "execution_count": 2,
     "metadata": {},
     "output_type": "execute_result"
    }
   ],
   "source": [
    "%get rn --from R\n",
    "sum(rn)/len(rn)"
   ]
  },
  {
   "cell_type": "code",
   "execution_count": 3,
   "metadata": {
    "collapsed": true,
    "jupyter": {
     "outputs_hidden": true
    },
    "kernel": "SoS"
   },
   "outputs": [],
   "source": [
    "[test_1]\n",
    "python: expand=True\n",
    "    print(\"Hello, I am {step_name} in Python\")"
   ]
  },
  {
   "cell_type": "code",
   "execution_count": 2,
   "metadata": {
    "kernel": "SoS"
   },
   "outputs": [
    {
     "name": "stdout",
     "output_type": "stream",
     "text": [
      "Hello, I am test_1 in Python\n",
      "Generating myfigure.pdf\n"
     ]
    }
   ],
   "source": [
    "%sosrun test\n",
    "[test_2]\n",
    "R: expand=True\n",
    "    cat(paste(\"Hello,\", \"I am\", {step_name!r}, \"in R\"))"
   ]
  }
 ],
 "metadata": {
  "anaconda-cloud": {},
  "kernelspec": {
   "display_name": "Python 3 (ipykernel)",
   "language": "python",
   "name": "python3"
  },
  "language_info": {
   "codemirror_mode": {
    "name": "ipython",
    "version": 3
   },
   "file_extension": ".py",
   "mimetype": "text/x-python",
   "name": "python",
   "nbconvert_exporter": "python",
   "pygments_lexer": "ipython3",
   "version": "3.8.8"
  },
  "sos": {
   "default_kernel": "SoS",
   "kernels": [
    [
     "R",
     "ir",
     "R",
     "#FDEDEC"
    ],
    [
     "SoS",
     "sos",
     "",
     ""
    ],
    [
     "Bash",
     "bash",
     "Bash",
     "#E6EEFF"
    ],
    [
     "javascript",
     "javascript",
     "",
     ""
    ],
    [
     "julia-0.6",
     "julia-0.6",
     "",
     ""
    ],
    [
     "python2",
     "python2",
     "",
     ""
    ],
    [
     "python3",
     "python3",
     "",
     ""
    ],
    [
     "sas",
     "sas",
     "",
     ""
    ],
    [
     "Python2",
     "python2",
     "Python2",
     "#FFE771"
    ],
    [
     "Python3",
     "python3",
     "Python3",
     "#FFE771"
    ]
   ],
   "panel": {
    "displayed": true,
    "height": 0,
    "style": "side"
   }
  }
 },
 "nbformat": 4,
 "nbformat_minor": 4
}
