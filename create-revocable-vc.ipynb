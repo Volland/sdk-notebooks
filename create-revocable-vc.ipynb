{
 "cells": [
  {
   "cell_type": "code",
   "execution_count": null,
   "metadata": {
    "kernel": "Markdown",
    "tags": []
   },
   "outputs": [
    {
     "data": {
      "text/markdown": [
       "# Revocable VCs \n"
      ]
     },
     "metadata": {},
     "output_type": "display_data"
    }
   ],
   "source": [
    "# Revocable VCs "
   ]
  },
  {
   "cell_type": "code",
   "execution_count": 64,
   "metadata": {
    "kernel": "Markdown",
    "tags": []
   },
   "outputs": [
    {
     "data": {
      "text/markdown": [
       "Lets prepare our test wallets \n"
      ]
     },
     "metadata": {},
     "output_type": "display_data"
    }
   ],
   "source": [
    "Lets prepare our test wallets "
   ]
  },
  {
   "cell_type": "code",
   "execution_count": 4,
   "metadata": {
    "kernel": "JavaScript"
   },
   "outputs": [],
   "source": [
    "const { createWallet } = require('@affinidi/wallet-node-sdk')\n",
    "// @ts-ignore\n",
    "const walletFactory = createWallet('AffinityCore')"
   ]
  },
  {
   "cell_type": "markdown",
   "metadata": {
    "kernel": "Markdown",
    "tags": []
   },
   "source": [
    "Lets prepare options \n",
    "- get your API key [production](https://apikey.affinidi.com/) or register affinidi account on [register](https://build.affinidi.com/register)\n",
    "- set env to prod "
   ]
  },
  {
   "cell_type": "code",
   "execution_count": 6,
   "metadata": {
    "kernel": "Python3"
   },
   "outputs": [],
   "source": [
    "const accessApiKey = ''\n"
   ]
  },
  {
   "cell_type": "code",
   "execution_count": null,
   "metadata": {},
   "outputs": [],
   "source": [
    "const options = {\n",
    "    env: 'prod',\n",
    "    accessApiKey,\n",
    "}"
   ]
  },
  {
   "cell_type": "code",
   "execution_count": 8,
   "metadata": {
    "kernel": "Markdown"
   },
   "outputs": [
    {
     "data": {
      "text/markdown": [
       "Lets create our issuer and holder wallets.\n",
       "We need to have a holder did to issue a VC for concrete holder.\n"
      ]
     },
     "metadata": {},
     "output_type": "display_data"
    }
   ],
   "source": [
    "Lets create our issuer and holder wallets.\n",
    "We need to have a holder did to issue a VC for concrete holder."
   ]
  },
  {
   "cell_type": "code",
   "execution_count": 17,
   "metadata": {
    "kernel": "JavaScript"
   },
   "outputs": [],
   "source": [
    " const password = `P@${(Math.random() + 1).toString(36).substring(2)}!!42`;\n",
    "\n",
    "  walletIssuer  = await walletFactory.createWallet(options, password)\n",
    "  walletHolder  = await walletFactory.createWallet(options, password)"
   ]
  },
  {
   "cell_type": "code",
   "execution_count": 10,
   "metadata": {
    "kernel": "Markdown",
    "tags": []
   },
   "outputs": [
    {
     "data": {
      "text/markdown": [
       "## Lets create a Unsigned Credential \n",
       "I just create a custom schema for content Like VCs. Its allow to issue verifiable likes for a content that i like.\n",
       "[Schema](https://ui.schema.affinidi.com/schemas/ContentLikeV1-0)\n"
      ]
     },
     "metadata": {},
     "output_type": "display_data"
    }
   ],
   "source": [
    "## Lets create a Unsigned Credential \n",
    "I just create a custom schema for content Like VCs. Its allow to issue verifiable likes for a content that i like.\n",
    "[Schema](https://ui.schema.affinidi.com/schemas/ContentLikeV1-0)\n"
   ]
  },
  {
   "cell_type": "code",
   "execution_count": 11,
   "metadata": {
    "kernel": "JavaScript"
   },
   "outputs": [],
   "source": [
    "\n",
    "// https://ui.schema.affinidi.com/schemas/ContentLikeV1-0\n",
    "const jsonSchema = 'https://schema.affinidi.com/ContentLikeV1-0.json'\n",
    "const jsonContext = 'https://schema.affinidi.com/ContentLikeV1-0.jsonld'"
   ]
  },
  {
   "cell_type": "code",
   "execution_count": 65,
   "metadata": {
    "jupyter": {
     "source_hidden": true
    },
    "kernel": "Markdown"
   },
   "outputs": [
    {
     "data": {
      "text/markdown": [
       "Every VC should have a unique id. \n"
      ]
     },
     "metadata": {},
     "output_type": "display_data"
    }
   ],
   "source": [
    "Every VC should have a unique id. "
   ]
  },
  {
   "cell_type": "code",
   "execution_count": 13,
   "metadata": {
    "kernel": "JavaScript"
   },
   "outputs": [],
   "source": [
    "const id = `claimId:${(Math.random() + 1).toString(36).substring(2)}`"
   ]
  },
  {
   "cell_type": "code",
   "execution_count": 18,
   "metadata": {
    "kernel": "JavaScript"
   },
   "outputs": [
    {
     "data": {
      "text/plain": [
       "{\n",
       "  '@context': [\n",
       "    'https://www.w3.org/2018/credentials/v1',\n",
       "    'https://schema.affinidi.com/ContentLikeV1-0.jsonld'\n",
       "  ],\n",
       "  id: 'claimId:i2wgld5x7b',\n",
       "  type: [ 'VerifiableCredential', 'ContentLike' ],\n",
       "  holder: {\n",
       "    id: 'did:elem:EiAs9VqvNcEMkm9OfMdseWR0jMIltWHuUd5tCK_f17M6jA;elem:initial-state=eyJwcm90ZWN0ZWQiOiJleUp2Y0dWeVlYUnBiMjRpT2lKamNtVmhkR1VpTENKcmFXUWlPaUlqY0hKcGJXRnllU0lzSW1Gc1p5STZJa1ZUTWpVMlN5SjkiLCJwYXlsb2FkIjoiZXlKQVkyOXVkR1Y0ZENJNkltaDBkSEJ6T2k4dmR6TnBaQzV2Y21jdmMyVmpkWEpwZEhrdmRqSWlMQ0p3ZFdKc2FXTkxaWGtpT2x0N0ltbGtJam9pSTNCeWFXMWhjbmtpTENKMWMyRm5aU0k2SW5OcFoyNXBibWNpTENKMGVYQmxJam9pVTJWamNESTFObXN4Vm1WeWFXWnBZMkYwYVc5dVMyVjVNakF4T0NJc0luQjFZbXhwWTB0bGVVaGxlQ0k2SWpBek5UUXhZMk01T1RabU56VmxaR1U1WkRnd00yVXlOVE5oTm1FNU5UWXdOekF5TWprMk1EaGhNemM0WVRWbE56RmlaV1V4WldGaE1EQXpObU0zTkdJME1DSjlMSHNpYVdRaU9pSWpjbVZqYjNabGNua2lMQ0oxYzJGblpTSTZJbkpsWTI5MlpYSjVJaXdpZEhsd1pTSTZJbE5sWTNBeU5UWnJNVlpsY21sbWFXTmhkR2x2Ymt0bGVUSXdNVGdpTENKd2RXSnNhV05MWlhsSVpYZ2lPaUl3TTJOaU1qZzFPVGRrWkRjM016bG1OREl3WTJaaVpEUXdOekZtTUdNNU5Ua3dPRFZtWVRBNVlqSXlOR1l4Tm1ZeE1UbGlOelV6WVRZeVpXVTJaalJqT1RRaWZWMHNJbUYxZEdobGJuUnBZMkYwYVc5dUlqcGJJaU53Y21sdFlYSjVJbDBzSW1GemMyVnlkR2x2YmsxbGRHaHZaQ0k2V3lJamNISnBiV0Z5ZVNKZGZRIiwic2lnbmF0dXJlIjoiOXg1UVpYS0h4OEFCSmd2cmhqVFhhR2NGUC1TSVdoYVJCeW1Vbm9vOGk2dGdMaDhWSnlWWGxnbS0xaTZqSXROTW1NZXEwX2t1SUZRZnVNelVNdVNMbXcifQ'\n",
       "  },\n",
       "  credentialSubject: {\n",
       "    data: {\n",
       "      '@type': [Array],\n",
       "      url: 'https://www.youtube.com/watch?v=owbkzvLhblk',\n",
       "      date: '2022-09-09T13:22:20.668Z',\n",
       "      like: true,\n",
       "      score: 10\n",
       "    }\n",
       "  },\n",
       "  credentialSchema: {\n",
       "    id: 'https://schema.affinidi.com/ContentLikeV1-0.json',\n",
       "    type: 'JsonSchemaValidator2018'\n",
       "  },\n",
       "  issuanceDate: '2022-09-09T13:22:20.668Z',\n",
       "  expirationDate: '2065-09-10T00:00:00.000Z'\n",
       "}"
      ]
     },
     "execution_count": 18,
     "metadata": {},
     "output_type": "execute_result"
    }
   ],
   "source": [
    "  const unsignedVC = {\n",
    "    '@context': ['https://www.w3.org/2018/credentials/v1', jsonContext],\n",
    "    id,\n",
    "    type: ['VerifiableCredential', 'ContentLike'],\n",
    "    holder: {\n",
    "      id: walletHolder.did\n",
    "    },\n",
    "    credentialSubject: {\n",
    "      data: {\n",
    "        '@type': ['VerifiableCredential', 'ContentLike'],\n",
    "        url: 'https://www.youtube.com/watch?v=owbkzvLhblk',\n",
    "        date: new Date().toISOString(),\n",
    "        like: true,\n",
    "        score: 10\n",
    "      },\n",
    "    },\n",
    "    credentialSchema: {\n",
    "      id:  jsonSchema,\n",
    "      type: 'JsonSchemaValidator2018',\n",
    "    },\n",
    "    issuanceDate: new Date().toISOString(),\n",
    "    expirationDate: '2065-09-10T00:00:00.000Z',\n",
    "  }\n",
    "  unsignedVC  "
   ]
  },
  {
   "cell_type": "code",
   "execution_count": 19,
   "metadata": {
    "jupyter": {
     "source_hidden": true
    },
    "kernel": "Markdown"
   },
   "outputs": [
    {
     "data": {
      "text/markdown": [
       "It is already good VC to sign but what if i ll change my mind in a future ?\n",
       "\n",
       "VCs are immutable and owned by holder. Once you issue tham you do not have a control on VC any more.\n",
       "\n",
       "We have a special type of VCs that allow you to Revoke a VC in a future even if you dont have a control on VC itself\n",
       "\n",
       "It is based on [Revocation List 2020](https://w3c-ccg.github.io/vc-status-rl-2020/#core-concept) standard \n",
       "\n",
       "It is quite complex flow but we make it easy for you and implement a method in our SDK.\n",
       "You could upgrade your VC to revocapbe VC. We will prepare and publish revocation list for you \n"
      ]
     },
     "metadata": {},
     "output_type": "display_data"
    }
   ],
   "source": [
    "It is already good VC to sign but what if i ll change my mind in a future ?\n",
    "\n",
    "VCs are immutable and owned by holder. Once you issue tham you do not have a control on VC any more.\n",
    "\n",
    "We have a special type of VCs that allow you to Revoke a VC in a future even if you dont have a control on VC itself\n",
    "\n",
    "It is based on [Revocation List 2020](https://w3c-ccg.github.io/vc-status-rl-2020/#core-concept) standard \n",
    "\n",
    "It is quite complex flow but we make it easy for you and implement a method in our SDK.\n",
    "You could upgrade your VC to revocapbe VC. We will prepare and publish revocation list for you \n"
   ]
  },
  {
   "cell_type": "code",
   "execution_count": 20,
   "metadata": {
    "kernel": "JavaScript"
   },
   "outputs": [],
   "source": [
    "const  RevocableVC = await walletIssuer.buildRevocationListStatus(unsignedVC)"
   ]
  },
  {
   "cell_type": "code",
   "execution_count": 21,
   "metadata": {
    "kernel": "JavaScript"
   },
   "outputs": [
    {
     "data": {
      "text/plain": [
       "{\n",
       "  '@context': [\n",
       "    'https://www.w3.org/2018/credentials/v1',\n",
       "    'https://schema.affinidi.com/ContentLikeV1-0.jsonld',\n",
       "    'https://w3id.org/vc-revocation-list-2020/v1'\n",
       "  ],\n",
       "  id: 'claimId:i2wgld5x7b',\n",
       "  type: [ 'VerifiableCredential', 'ContentLike' ],\n",
       "  holder: {\n",
       "    id: 'did:elem:EiAs9VqvNcEMkm9OfMdseWR0jMIltWHuUd5tCK_f17M6jA;elem:initial-state=eyJwcm90ZWN0ZWQiOiJleUp2Y0dWeVlYUnBiMjRpT2lKamNtVmhkR1VpTENKcmFXUWlPaUlqY0hKcGJXRnllU0lzSW1Gc1p5STZJa1ZUTWpVMlN5SjkiLCJwYXlsb2FkIjoiZXlKQVkyOXVkR1Y0ZENJNkltaDBkSEJ6T2k4dmR6TnBaQzV2Y21jdmMyVmpkWEpwZEhrdmRqSWlMQ0p3ZFdKc2FXTkxaWGtpT2x0N0ltbGtJam9pSTNCeWFXMWhjbmtpTENKMWMyRm5aU0k2SW5OcFoyNXBibWNpTENKMGVYQmxJam9pVTJWamNESTFObXN4Vm1WeWFXWnBZMkYwYVc5dVMyVjVNakF4T0NJc0luQjFZbXhwWTB0bGVVaGxlQ0k2SWpBek5UUXhZMk01T1RabU56VmxaR1U1WkRnd00yVXlOVE5oTm1FNU5UWXdOekF5TWprMk1EaGhNemM0WVRWbE56RmlaV1V4WldGaE1EQXpObU0zTkdJME1DSjlMSHNpYVdRaU9pSWpjbVZqYjNabGNua2lMQ0oxYzJGblpTSTZJbkpsWTI5MlpYSjVJaXdpZEhsd1pTSTZJbE5sWTNBeU5UWnJNVlpsY21sbWFXTmhkR2x2Ymt0bGVUSXdNVGdpTENKd2RXSnNhV05MWlhsSVpYZ2lPaUl3TTJOaU1qZzFPVGRrWkRjM016bG1OREl3WTJaaVpEUXdOekZtTUdNNU5Ua3dPRFZtWVRBNVlqSXlOR1l4Tm1ZeE1UbGlOelV6WVRZeVpXVTJaalJqT1RRaWZWMHNJbUYxZEdobGJuUnBZMkYwYVc5dUlqcGJJaU53Y21sdFlYSjVJbDBzSW1GemMyVnlkR2x2YmsxbGRHaHZaQ0k2V3lJamNISnBiV0Z5ZVNKZGZRIiwic2lnbmF0dXJlIjoiOXg1UVpYS0h4OEFCSmd2cmhqVFhhR2NGUC1TSVdoYVJCeW1Vbm9vOGk2dGdMaDhWSnlWWGxnbS0xaTZqSXROTW1NZXEwX2t1SUZRZnVNelVNdVNMbXcifQ'\n",
       "  },\n",
       "  credentialSubject: {\n",
       "    data: {\n",
       "      '@type': [Array],\n",
       "      url: 'https://www.youtube.com/watch?v=owbkzvLhblk',\n",
       "      date: '2022-09-09T13:22:20.668Z',\n",
       "      like: true,\n",
       "      score: 10\n",
       "    }\n",
       "  },\n",
       "  credentialSchema: {\n",
       "    id: 'https://schema.affinidi.com/ContentLikeV1-0.json',\n",
       "    type: 'JsonSchemaValidator2018'\n",
       "  },\n",
       "  issuanceDate: '2022-09-09T13:22:20.668Z',\n",
       "  expirationDate: '2065-09-10T00:00:00.000Z',\n",
       "  credentialStatus: {\n",
       "    id: 'https://revocation-api.prod.affinity-project.org/api/v1/revocation/revocation-list-2020-credentials/did:elem:EiBIkVawTQOfOCYp2xSITNKKePuELFTj3oc1ITnxk2uehw/20551#1',\n",
       "    type: 'RevocationList2020Status',\n",
       "    revocationListIndex: '1',\n",
       "    revocationListCredential: 'https://revocation-api.prod.affinity-project.org/api/v1/revocation/revocation-list-2020-credentials/did:elem:EiBIkVawTQOfOCYp2xSITNKKePuELFTj3oc1ITnxk2uehw/20551'\n",
       "  }\n",
       "}"
      ]
     },
     "execution_count": 21,
     "metadata": {},
     "output_type": "execute_result"
    }
   ],
   "source": [
    "\n",
    "RevocableVC"
   ]
  },
  {
   "cell_type": "code",
   "execution_count": 22,
   "metadata": {
    "kernel": "JavaScript"
   },
   "outputs": [],
   "source": [
    "\n",
    "const revocationListVc = await fetch(RevocableVC.credentialStatus.revocationListCredential)"
   ]
  },
  {
   "cell_type": "code",
   "execution_count": 23,
   "metadata": {
    "kernel": "Markdown",
    "tags": []
   },
   "outputs": [
    {
     "data": {
      "text/markdown": [
       "Together with a VC we issue a Revocation List VC connected to our Credential. This credential is Issuer specific List and Signed and controled by issuer. Every time when Issuer bublish new Revocable VC or revoke a VC. Revocation List gets updated and published.\n",
       "\n"
      ]
     },
     "metadata": {},
     "output_type": "display_data"
    }
   ],
   "source": [
    "Together with a VC we issue a Revocation List VC connected to our Credential. This credential is Issuer specific List and Signed and controled by issuer. Every time when Issuer bublish new Revocable VC or revoke a VC. Revocation List gets updated and published.\n",
    "\n"
   ]
  },
  {
   "cell_type": "code",
   "execution_count": 24,
   "metadata": {
    "kernel": "JavaScript"
   },
   "outputs": [
    {
     "data": {
      "text/plain": [
       "{\n",
       "  id: 'https://revocation-api.prod.affinity-project.org/api/v1/revocation/revocation-list-2020-credentials/did:elem:EiBIkVawTQOfOCYp2xSITNKKePuELFTj3oc1ITnxk2uehw/20551',\n",
       "  '@context': [\n",
       "    'https://www.w3.org/2018/credentials/v1',\n",
       "    'https://w3id.org/vc-revocation-list-2020/v1'\n",
       "  ],\n",
       "  type: [ 'VerifiableCredential', 'RevocationList2020Credential' ],\n",
       "  issuer: 'did:elem:EiBIkVawTQOfOCYp2xSITNKKePuELFTj3oc1ITnxk2uehw;elem:initial-state=eyJwcm90ZWN0ZWQiOiJleUp2Y0dWeVlYUnBiMjRpT2lKamNtVmhkR1VpTENKcmFXUWlPaUlqY0hKcGJXRnllU0lzSW1Gc1p5STZJa1ZUTWpVMlN5SjkiLCJwYXlsb2FkIjoiZXlKQVkyOXVkR1Y0ZENJNkltaDBkSEJ6T2k4dmR6TnBaQzV2Y21jdmMyVmpkWEpwZEhrdmRqSWlMQ0p3ZFdKc2FXTkxaWGtpT2x0N0ltbGtJam9pSTNCeWFXMWhjbmtpTENKMWMyRm5aU0k2SW5OcFoyNXBibWNpTENKMGVYQmxJam9pVTJWamNESTFObXN4Vm1WeWFXWnBZMkYwYVc5dVMyVjVNakF4T0NJc0luQjFZbXhwWTB0bGVVaGxlQ0k2SWpBek1HTXdOMlZtTnpFeU1ETTVaamhtWkdOa1ltVmtPR0V3WldJNFpqaG1ZbU5qTlRaak0ySmpOREEwTVRSak1HRTRaR1F6TVRjeFpHTm1NR1k0TW1KaE1TSjlMSHNpYVdRaU9pSWpjbVZqYjNabGNua2lMQ0oxYzJGblpTSTZJbkpsWTI5MlpYSjVJaXdpZEhsd1pTSTZJbE5sWTNBeU5UWnJNVlpsY21sbWFXTmhkR2x2Ymt0bGVUSXdNVGdpTENKd2RXSnNhV05MWlhsSVpYZ2lPaUl3TWpSaFpEa3hNR1E1WVRSa1lXWTRPV1V5WW1ZNE9USTFPVEEyWlRobU4ySmtaRGhtTVdVM01EWTROMlF6T0RJMVptRmhZems0Tm1ObE5HUmhZVFZqTVdZaWZWMHNJbUYxZEdobGJuUnBZMkYwYVc5dUlqcGJJaU53Y21sdFlYSjVJbDBzSW1GemMyVnlkR2x2YmsxbGRHaHZaQ0k2V3lJamNISnBiV0Z5ZVNKZGZRIiwic2lnbmF0dXJlIjoiVC1fc0drTmdMX294cHM1cEFYRDZWLVJCdmtjQzlKOFZJQnN3aGxYazA4TjQwXzBQQWpzbmRTb0FrbFQ5bmZxUWZRYlpLem9jek5QMVd3Z1M3bkVHMGcifQ',\n",
       "  issuanceDate: '2022-09-09T13:22:37.281Z',\n",
       "  credentialSubject: {\n",
       "    id: 'https://revocation-api.prod.affinity-project.org/api/v1/revocation/revocation-list-2020-credentials/did:elem:EiBIkVawTQOfOCYp2xSITNKKePuELFTj3oc1ITnxk2uehw/20551#list',\n",
       "    type: 'RevocationList2020',\n",
       "    encodedList: 'H4sIAAAAAAAAA-3BMQEAAADCoPVPbQsvoAAAAAAAAAAAAAAAAP4GcwM92tQwAAA'\n",
       "  },\n",
       "  proof: {\n",
       "    type: 'EcdsaSecp256k1Signature2019',\n",
       "    created: '2022-09-09T13:22:37Z',\n",
       "    verificationMethod: 'did:elem:EiBIkVawTQOfOCYp2xSITNKKePuELFTj3oc1ITnxk2uehw#primary',\n",
       "    proofPurpose: 'assertionMethod',\n",
       "    jws: 'eyJhbGciOiJFUzI1NksiLCJiNjQiOmZhbHNlLCJjcml0IjpbImI2NCJdfQ..KBSUju310a1tuA-kiq79kUYST0Svn4MdFw_0pCcGoZZR-aiP1wzk1atb0tL7rhxqkJvDjnQIQo0t281-E10IjQ'\n",
       "  }\n",
       "}"
      ]
     },
     "execution_count": 24,
     "metadata": {},
     "output_type": "execute_result"
    }
   ],
   "source": [
    "revocationListVc.json()"
   ]
  },
  {
   "cell_type": "code",
   "execution_count": 25,
   "metadata": {
    "jupyter": {
     "source_hidden": true
    },
    "kernel": "Markdown"
   },
   "outputs": [
    {
     "data": {
      "text/markdown": [
       "## Lets sign it \n",
       "To make it verifiable we just need to sign it.\n",
       "So issuence on edge is simple operation \n",
       "- build vc \n",
       "- sign vc\n",
       "- sharewith holder (optional )\n"
      ]
     },
     "metadata": {},
     "output_type": "display_data"
    }
   ],
   "source": [
    "## Lets sign it \n",
    "To make it verifiable we just need to sign it.\n",
    "So issuence on edge is simple operation \n",
    "- build vc \n",
    "- sign vc\n",
    "- sharewith holder (optional )"
   ]
  },
  {
   "cell_type": "code",
   "execution_count": 26,
   "metadata": {
    "kernel": "JavaScript"
   },
   "outputs": [],
   "source": [
    "const signedRevocableVC = await walletIssuer.signUnsignedCredential(RevocableVC)"
   ]
  },
  {
   "cell_type": "code",
   "execution_count": 27,
   "metadata": {
    "kernel": "JavaScript"
   },
   "outputs": [
    {
     "data": {
      "text/plain": [
       "{\n",
       "  '@context': [\n",
       "    'https://www.w3.org/2018/credentials/v1',\n",
       "    'https://schema.affinidi.com/ContentLikeV1-0.jsonld',\n",
       "    'https://w3id.org/vc-revocation-list-2020/v1'\n",
       "  ],\n",
       "  id: 'claimId:i2wgld5x7b',\n",
       "  type: [ 'VerifiableCredential', 'ContentLike' ],\n",
       "  holder: {\n",
       "    id: 'did:elem:EiAs9VqvNcEMkm9OfMdseWR0jMIltWHuUd5tCK_f17M6jA;elem:initial-state=eyJwcm90ZWN0ZWQiOiJleUp2Y0dWeVlYUnBiMjRpT2lKamNtVmhkR1VpTENKcmFXUWlPaUlqY0hKcGJXRnllU0lzSW1Gc1p5STZJa1ZUTWpVMlN5SjkiLCJwYXlsb2FkIjoiZXlKQVkyOXVkR1Y0ZENJNkltaDBkSEJ6T2k4dmR6TnBaQzV2Y21jdmMyVmpkWEpwZEhrdmRqSWlMQ0p3ZFdKc2FXTkxaWGtpT2x0N0ltbGtJam9pSTNCeWFXMWhjbmtpTENKMWMyRm5aU0k2SW5OcFoyNXBibWNpTENKMGVYQmxJam9pVTJWamNESTFObXN4Vm1WeWFXWnBZMkYwYVc5dVMyVjVNakF4T0NJc0luQjFZbXhwWTB0bGVVaGxlQ0k2SWpBek5UUXhZMk01T1RabU56VmxaR1U1WkRnd00yVXlOVE5oTm1FNU5UWXdOekF5TWprMk1EaGhNemM0WVRWbE56RmlaV1V4WldGaE1EQXpObU0zTkdJME1DSjlMSHNpYVdRaU9pSWpjbVZqYjNabGNua2lMQ0oxYzJGblpTSTZJbkpsWTI5MlpYSjVJaXdpZEhsd1pTSTZJbE5sWTNBeU5UWnJNVlpsY21sbWFXTmhkR2x2Ymt0bGVUSXdNVGdpTENKd2RXSnNhV05MWlhsSVpYZ2lPaUl3TTJOaU1qZzFPVGRrWkRjM016bG1OREl3WTJaaVpEUXdOekZtTUdNNU5Ua3dPRFZtWVRBNVlqSXlOR1l4Tm1ZeE1UbGlOelV6WVRZeVpXVTJaalJqT1RRaWZWMHNJbUYxZEdobGJuUnBZMkYwYVc5dUlqcGJJaU53Y21sdFlYSjVJbDBzSW1GemMyVnlkR2x2YmsxbGRHaHZaQ0k2V3lJamNISnBiV0Z5ZVNKZGZRIiwic2lnbmF0dXJlIjoiOXg1UVpYS0h4OEFCSmd2cmhqVFhhR2NGUC1TSVdoYVJCeW1Vbm9vOGk2dGdMaDhWSnlWWGxnbS0xaTZqSXROTW1NZXEwX2t1SUZRZnVNelVNdVNMbXcifQ'\n",
       "  },\n",
       "  credentialSubject: {\n",
       "    data: {\n",
       "      '@type': [Array],\n",
       "      url: 'https://www.youtube.com/watch?v=owbkzvLhblk',\n",
       "      date: '2022-09-09T13:22:20.668Z',\n",
       "      like: true,\n",
       "      score: 10\n",
       "    }\n",
       "  },\n",
       "  credentialSchema: {\n",
       "    id: 'https://schema.affinidi.com/ContentLikeV1-0.json',\n",
       "    type: 'JsonSchemaValidator2018'\n",
       "  },\n",
       "  issuanceDate: '2022-09-09T13:22:20.668Z',\n",
       "  expirationDate: '2065-09-10T00:00:00.000Z',\n",
       "  credentialStatus: {\n",
       "    id: 'https://revocation-api.prod.affinity-project.org/api/v1/revocation/revocation-list-2020-credentials/did:elem:EiBIkVawTQOfOCYp2xSITNKKePuELFTj3oc1ITnxk2uehw/20551#1',\n",
       "    type: 'RevocationList2020Status',\n",
       "    revocationListIndex: '1',\n",
       "    revocationListCredential: 'https://revocation-api.prod.affinity-project.org/api/v1/revocation/revocation-list-2020-credentials/did:elem:EiBIkVawTQOfOCYp2xSITNKKePuELFTj3oc1ITnxk2uehw/20551'\n",
       "  },\n",
       "  issuer: 'did:elem:EiBIkVawTQOfOCYp2xSITNKKePuELFTj3oc1ITnxk2uehw;elem:initial-state=eyJwcm90ZWN0ZWQiOiJleUp2Y0dWeVlYUnBiMjRpT2lKamNtVmhkR1VpTENKcmFXUWlPaUlqY0hKcGJXRnllU0lzSW1Gc1p5STZJa1ZUTWpVMlN5SjkiLCJwYXlsb2FkIjoiZXlKQVkyOXVkR1Y0ZENJNkltaDBkSEJ6T2k4dmR6TnBaQzV2Y21jdmMyVmpkWEpwZEhrdmRqSWlMQ0p3ZFdKc2FXTkxaWGtpT2x0N0ltbGtJam9pSTNCeWFXMWhjbmtpTENKMWMyRm5aU0k2SW5OcFoyNXBibWNpTENKMGVYQmxJam9pVTJWamNESTFObXN4Vm1WeWFXWnBZMkYwYVc5dVMyVjVNakF4T0NJc0luQjFZbXhwWTB0bGVVaGxlQ0k2SWpBek1HTXdOMlZtTnpFeU1ETTVaamhtWkdOa1ltVmtPR0V3WldJNFpqaG1ZbU5qTlRaak0ySmpOREEwTVRSak1HRTRaR1F6TVRjeFpHTm1NR1k0TW1KaE1TSjlMSHNpYVdRaU9pSWpjbVZqYjNabGNua2lMQ0oxYzJGblpTSTZJbkpsWTI5MlpYSjVJaXdpZEhsd1pTSTZJbE5sWTNBeU5UWnJNVlpsY21sbWFXTmhkR2x2Ymt0bGVUSXdNVGdpTENKd2RXSnNhV05MWlhsSVpYZ2lPaUl3TWpSaFpEa3hNR1E1WVRSa1lXWTRPV1V5WW1ZNE9USTFPVEEyWlRobU4ySmtaRGhtTVdVM01EWTROMlF6T0RJMVptRmhZems0Tm1ObE5HUmhZVFZqTVdZaWZWMHNJbUYxZEdobGJuUnBZMkYwYVc5dUlqcGJJaU53Y21sdFlYSjVJbDBzSW1GemMyVnlkR2x2YmsxbGRHaHZaQ0k2V3lJamNISnBiV0Z5ZVNKZGZRIiwic2lnbmF0dXJlIjoiVC1fc0drTmdMX294cHM1cEFYRDZWLVJCdmtjQzlKOFZJQnN3aGxYazA4TjQwXzBQQWpzbmRTb0FrbFQ5bmZxUWZRYlpLem9jek5QMVd3Z1M3bkVHMGcifQ',\n",
       "  proof: {\n",
       "    type: 'EcdsaSecp256k1Signature2019',\n",
       "    created: '2022-09-09T13:23:18Z',\n",
       "    verificationMethod: 'did:elem:EiBIkVawTQOfOCYp2xSITNKKePuELFTj3oc1ITnxk2uehw#primary',\n",
       "    proofPurpose: 'assertionMethod',\n",
       "    jws: 'eyJhbGciOiJFUzI1NksiLCJiNjQiOmZhbHNlLCJjcml0IjpbImI2NCJdfQ..egv-RIoJfND0Ga-NiqCcPXe7lA2uggrgoAm1yp2dLLVk7mEy_r2RCzVKxzNwPGoma10ZZ7JgL9MY4rrC1z-BpA'\n",
       "  }\n",
       "}"
      ]
     },
     "execution_count": 27,
     "metadata": {},
     "output_type": "execute_result"
    }
   ],
   "source": [
    "signedRevocableVC"
   ]
  },
  {
   "cell_type": "code",
   "execution_count": 28,
   "metadata": {
    "jupyter": {
     "source_hidden": true
    },
    "kernel": "Markdown"
   },
   "outputs": [
    {
     "data": {
      "text/markdown": [
       "## Verification\n",
       "Main idea of VC is verifiable data\n",
       "We could do a verification on edge with our common library\n"
      ]
     },
     "metadata": {},
     "output_type": "display_data"
    }
   ],
   "source": [
    "## Verification\n",
    "Main idea of VC is verifiable data\n",
    "We could do a verification on edge with our common library\n"
   ]
  },
  {
   "cell_type": "code",
   "execution_count": 37,
   "metadata": {
    "kernel": "JavaScript"
   },
   "outputs": [],
   "source": [
    "const { Affinity: Verifier } = require('@affinidi/common')\n",
    "const platformCryptographyTools = require ('@affinidi/wallet-node-sdk/dist/PlatformCryptographyTools')"
   ]
  },
  {
   "cell_type": "code",
   "execution_count": 39,
   "metadata": {
    "kernel": "JavaScript"
   },
   "outputs": [],
   "source": [
    "const verifier = new Verifier({\n",
    " registryUrl: `https://affinity-registry.${options.env}.affinity-project.org`,\n",
    " apiKey: accessApiKey\n",
    "}, platformCryptographyTools)"
   ]
  },
  {
   "cell_type": "code",
   "execution_count": 40,
   "metadata": {
    "jupyter": {
     "source_hidden": true
    },
    "kernel": "Markdown"
   },
   "outputs": [
    {
     "data": {
      "text/markdown": [
       "Lets verify \n"
      ]
     },
     "metadata": {},
     "output_type": "display_data"
    }
   ],
   "source": [
    "Lets verify "
   ]
  },
  {
   "cell_type": "code",
   "execution_count": 48,
   "metadata": {
    "kernel": "JavaScript"
   },
   "outputs": [],
   "source": [
    "const verificationResult = await verifier.validateCredential(signedRevocableVC)"
   ]
  },
  {
   "cell_type": "code",
   "execution_count": 59,
   "metadata": {
    "jupyter": {
     "source_hidden": true
    },
    "kernel": "Markdown"
   },
   "outputs": [
    {
     "data": {
      "text/markdown": [
       "{ result: true, error: '' }\n",
       "## Revocation \n",
       "Now we could change our mind \n"
      ]
     },
     "metadata": {},
     "output_type": "display_data"
    }
   ],
   "source": [
    "{ result: true, error: '' }\n",
    "## Revocation \n",
    "Now we could change our mind "
   ]
  },
  {
   "cell_type": "code",
   "execution_count": 57,
   "metadata": {
    "kernel": "JavaScript"
   },
   "outputs": [],
   "source": [
    "  await walletIssuer.revokeCredential(id , ' dont like any more ')"
   ]
  },
  {
   "cell_type": "code",
   "execution_count": 58,
   "metadata": {
    "jupyter": {
     "source_hidden": true
    },
    "kernel": "Markdown"
   },
   "outputs": [
    {
     "data": {
      "text/markdown": [
       "Now credential is invalid \n"
      ]
     },
     "metadata": {},
     "output_type": "display_data"
    }
   ],
   "source": [
    "Now credential is invalid "
   ]
  },
  {
   "cell_type": "code",
   "execution_count": 60,
   "metadata": {
    "kernel": "JavaScript",
    "tags": []
   },
   "outputs": [
    {
     "data": {
      "text/markdown": [
       "(async () => {\n",
       "  verificationRevokedResult = await verifier4.validateCredential(signedRevocableVC)\n",
       "})().catch(console.error)\n"
      ]
     },
     "metadata": {},
     "output_type": "display_data"
    }
   ],
   "source": [
    "\n",
    "const  verificationRevokedResult = await verifier4.validateCredential(signedRevocableVC)\n"
   ]
  },
  {
   "cell_type": "code",
   "execution_count": 61,
   "metadata": {
    "kernel": "Markdown",
    "tags": []
   },
   "outputs": [
    {
     "data": {
      "text/markdown": [
       "{\n",
       "  result: false,\n",
       "  error: 'claimId:gacultz6iz: Credential revocation status check result is negative.'\n",
       "}\n"
      ]
     },
     "metadata": {},
     "output_type": "display_data"
    }
   ],
   "source": [
    "{\n",
    "  result: false,\n",
    "  error: 'claimId:gacultz6iz: Credential revocation status check result is negative.'\n",
    "}"
   ]
  },
  {
   "cell_type": "code",
   "execution_count": 69,
   "metadata": {
    "jupyter": {
     "source_hidden": true
    },
    "kernel": "Markdown"
   },
   "outputs": [
    {
     "data": {
      "text/markdown": [
       "## Revocation API internals\n",
       "[Affinidi Revocation Service](http://revocation-api.prod.affinity-project.org/api-docs) Do all managment of revocation list.\n",
       "Service use did auth to reensure that issuer could have access only to his revocation lists and could revoke only his credentials \n"
      ]
     },
     "metadata": {},
     "output_type": "display_data"
    }
   ],
   "source": [
    "## Revocation API internals\n",
    "[Affinidi Revocation Service](http://revocation-api.prod.affinity-project.org/api-docs) Do all managment of revocation list.\n",
    "Service use did auth to reensure that issuer could have access only to his revocation lists and could revoke only his credentials \n"
   ]
  },
  {
   "cell_type": "code",
   "execution_count": 5,
   "metadata": {
    "kernel": "Python3",
    "tags": []
   },
   "outputs": [
    {
     "data": {
      "text/html": [
       "<img src=\"http://www.plantuml.com/plantuml/svg/jLPDZzis4BthLmosXxKNbkHiRaOto3Pf0AD1MwpJzh3mWIP75hkqoFB3pZReVy-GqbgITmqqGEkJ998pR-QzUNJsrdbcVTYfp4kl46whIZPIo0Ny_WuixZLdNke69eDd9Ps7w_drV0hBu1nQS59WnhZN5k1YwLoWRrn9R3pCm8c72s2k-v0PoYUvD8mMB-xwg2kqUyaHxkzhxurRbEMM4B5DmVMkP1siijAX4Ua0KsMFAMT64boZr-jP5u42ZDSBOxKesaZ-CQUtFv7xGjjjIQkvqDoLG4_hTO9h7MGtDt0RV0qtDrbNJlw65XR0BJAF8AG05ZTO_2kWynaTeXtTtaMxvlK3DYVd1mUTqGsL7NEbpdLTtn0PH05bRZHbOjngHmS_MBq3NoFKSbk3mZqgC6YTeLBa7e47QsEUIka3LDAdlNrB3wzvplcseDRMOLD8NUvvJXBmmULMvP7KyhijDcYfl9ofhRQqSmUdxAVwPRE5uvRrkiXWM2ILlmbIYPxYZtHobN9DliG8WlPAffOYYgsGWgGIDf6JzxBzrBt2FzDX4x9RFyJZMjqiibS5BAjlhPLhYpcF31WFBsbylGQXqG410FmSlpwYdm4fNVfB1rLGYlgi50h8-xQy50bO8zgMV2l8FbeC5h_rtHkaYlrzTrmWu9EbTuD6mw6Ml0PiE3CkA6BOFGCQCRfQ1mAvGGYEol8QU8tyOIpC5YEmogCjuDTYLP3Kv2XT7yV9RKEHOd0JDfIeHZ4jiki2Len4IvR0TWucGqqCnK2TZMZ9KqR0Q4Xbsbz9ce28Co9yYF0e-Ei2VlXlcjsLsgDhHHmRp9xwqBQshvW9qRQEjQ1Is_e8X0-f6L7LfvvnFP_3_McksT20npp3zuJqaG1W0mqUMXeFp7KU9TvCrsCB-VcNJpykuEfg-U7gAfqOQE3ZoU54sNZFIVQ-v2EpC15OiQ0yyVutWgwUgOnqyceUVyIoxdJ37AOXSy4OJS_KkvePWusZ21uRQXcZa9UFw2u7Rje-BPB4JdeqFJ7T3k3TcL8chKhFBKz7H2MU8eVHj--UPFVyecWLEKZo1QAv7KUfNo43Z4OtvWh-8DMm1e8HyRvHUYjvAtGkoVi7Cp9BL7K3mCYKPBnC184YaoAtSdftt5v0cYavSeUbw4GSwM_dovztSD8zcZ7MMqDNgh4o0Zqb_40EcUOsrI4A-ArzEA-hoO66z6b_z2nD0vLOFGQpw8EDlfBg8_BIXTHx3BrcpqcxFskOBut9YiAU1qaTQYENg_S_jV-2_fqoeV_zxo9zIogbFtXV0G00\"/>"
      ]
     },
     "metadata": {},
     "output_type": "display_data"
    },
    {
     "name": "stderr",
     "output_type": "stream",
     "text": [
      "unknown msg_type: comm_open\n",
      "unknown msg_type: comm_msg\n",
      "unknown msg_type: comm_open\n",
      "unknown msg_type: comm_msg\n",
      "unknown msg_type: comm_open\n",
      "unknown msg_type: comm_msg\n",
      "unknown msg_type: comm_open\n",
      "unknown msg_type: comm_msg\n",
      "unknown msg_type: comm_open\n",
      "unknown msg_type: comm_msg\n",
      "unknown msg_type: comm_open\n",
      "unknown msg_type: comm_msg\n"
     ]
    }
   ],
   "source": [
    "\n",
    "const plantumlEncoder = require('plantuml-encoder')\n",
    "const tslab = require(\"tslab\");\n",
    "const flow = plantumlEncoder.encode(`\n",
    "@startuml\n",
    "title Affinidi: VC revocation (revocation list 2020) Iusser side\n",
    "actor  \"Issuer client , sdk\" as client\n",
    "participant \"Revocation Service [[https://gitlab.com/affinidi/foundational/revocation-api repo]], [[http://revocation-api.prod.affinity-project.org/api-docs/ api]]\" as rs \n",
    "== Auth ==\n",
    "client -> rs: create did auth request\n",
    "rs -> client : auth token\n",
    "client -> rs: did auth responce \n",
    "== Issue revocable VC ==\n",
    "note across: From the high level perspective current flow fit the [[https://w3c-ccg.github.io/vc-status-rl-2020/#generate-algorithm revocation list creating algorithm]].\n",
    " client -> rs : buildRevocationListStatus({ credentialId: VC.id, subjectDid: VC.subject })\n",
    "note across\n",
    "At revocation service:\n",
    "1. If [[https://w3c-ccg.github.io/vc-status-rl-2020/#core-concept revocation list 2020]] does not exist yet, or it's full filled - creating revocation list 2020 and build [[https://w3c-ccg.github.io/vc-status-rl-2020/#revocationlist2020credential revocationListCredential]] (Its credential which encapsulates revocation list and should be used to check revocable VC status after. P.S. this credential should be signed and published).\n",
    "2. Save params (credentialId, subjectDid - later could be used as identifiers to revoke VC).\n",
    "3. Build [[https://w3c-ccg.github.io/vc-status-rl-2020/#revocationlist2020status credentialStatus]] (a status which should be added to a revokable credential).\n",
    "end note\n",
    "rs -> client : 200 [credentialStatus, (revocationListCredential <only when new list was created>)]\n",
    "note across: NOTE: **IF** new revocation List was created and new revocationListCredential should be published (default size of revocation list is 100000, so this case not suppose to happens often).\n",
    "alt 'yes'\n",
    "client -> client: sign(revocationList)\n",
    "client -> rs: publishRevocationListCredential(signedRevocationListCredential)\n",
    "rs -> client: 200\n",
    "end\n",
    "== Revoke VC ==\n",
    "client -> rs: revokeCredential({ id: revocableCredential.id })\n",
    "\n",
    "note across:  We can update logic to recieve subjectDid, and revoke all issued VCs for some subject. id - its credentialId which was used at buildRevocationListStatus step\n",
    "note across: Appropriate revocation list will be updated. Updated revocationListCredential (with updated encodedList) will be returned for signing and publishing\n",
    "\n",
    "rs -> client: 200[revocationListCredential]\n",
    "note across: NOTE: Sign revocationListCredential at client/SDK side\n",
    "client -> client: sign(revocationList)           \n",
    "client -> rs: publishRevocationListCredential(signedRevocationListCredential)\n",
    "rs -> client: 200\n",
    "@enduml`)\n",
    "const urlflow = 'http://www.plantuml.com/plantuml/svg/' + flow\n",
    "tslab.display.html(`<img src=\"${urlflow}\"/>`)\n"
   ]
  },
  {
   "cell_type": "code",
   "execution_count": null,
   "metadata": {
    "kernel": "Python3"
   },
   "outputs": [],
   "source": []
  }
 ],
 "metadata": {
  "kernelspec": {
   "display_name": "TypeScript",
   "language": "typescript",
   "name": "tslab"
  },
  "language_info": {
   "codemirror_mode": {
    "mode": "typescript",
    "name": "javascript",
    "typescript": true
   },
   "file_extension": ".ts",
   "mimetype": "text/typescript",
   "name": "typescript",
   "version": "3.7.2"
  },
  "sos": {
   "kernels": [
    [
     "JavaScript",
     "javascript",
     "JavaScript",
     "#c8e1ae",
     ""
    ],
    [
     "Markdown",
     "markdown",
     "markdown",
     "",
     "markdown"
    ],
    [
     "Python3",
     "python3",
     "Python3",
     "#FFD91A",
     {
      "name": "ipython",
      "version": 3
     }
    ]
   ],
   "version": "0.21.21"
  }
 },
 "nbformat": 4,
 "nbformat_minor": 4
}
