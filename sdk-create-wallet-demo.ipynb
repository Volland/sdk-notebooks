{
 "cells": [
  {
   "cell_type": "code",
   "execution_count": 46,
   "metadata": {
    "kernel": "Markdown"
   },
   "outputs": [
    {
     "data": {
      "text/markdown": [
       "# Preinstall \n",
       "We use sos notebooks. You could use a docker instalation [guide](https://vatlab.github.io/sos-docs/running.html)\n",
       "This notebook is self contained \n"
      ]
     },
     "metadata": {},
     "output_type": "display_data"
    }
   ],
   "source": [
    "# Preinstall \n",
    "We use sos notebooks. You could use a docker instalation [guide](https://vatlab.github.io/sos-docs/running.html)\n",
    "This notebook is self contained \n"
   ]
  },
  {
   "cell_type": "code",
   "execution_count": 5,
   "metadata": {
    "collapsed": true,
    "jupyter": {
     "outputs_hidden": true
    },
    "kernel": "Python3"
   },
   "outputs": [
    {
     "name": "stdout",
     "output_type": "stream",
     "text": [
      "Collecting iplantuml\n",
      "  Downloading IPlantUML-0.1.1.tar.gz (5.5 kB)\n",
      "Collecting plantweb\n",
      "  Downloading plantweb-1.2.1-py3-none-any.whl (20 kB)\n",
      "Requirement already satisfied: six in /opt/conda/lib/python3.8/site-packages (from plantweb->iplantuml) (1.15.0)\n",
      "Collecting docutils\n",
      "  Downloading docutils-0.19-py3-none-any.whl (570 kB)\n",
      "\u001b[K     |████████████████████████████████| 570 kB 1.1 MB/s eta 0:00:01\n",
      "\u001b[?25hRequirement already satisfied: requests in /opt/conda/lib/python3.8/site-packages (from plantweb->iplantuml) (2.24.0)\n",
      "Requirement already satisfied: idna<3,>=2.5 in /opt/conda/lib/python3.8/site-packages (from requests->plantweb->iplantuml) (2.10)\n",
      "Requirement already satisfied: certifi>=2017.4.17 in /opt/conda/lib/python3.8/site-packages (from requests->plantweb->iplantuml) (2020.6.20)\n",
      "Requirement already satisfied: chardet<4,>=3.0.2 in /opt/conda/lib/python3.8/site-packages (from requests->plantweb->iplantuml) (3.0.4)\n",
      "Requirement already satisfied: urllib3!=1.25.0,!=1.25.1,<1.26,>=1.21.1 in /opt/conda/lib/python3.8/site-packages (from requests->plantweb->iplantuml) (1.25.10)\n",
      "Building wheels for collected packages: iplantuml\n",
      "  Building wheel for iplantuml (setup.py) ... \u001b[?25ldone\n",
      "\u001b[?25h  Created wheel for iplantuml: filename=IPlantUML-0.1.1-py2.py3-none-any.whl size=4896 sha256=52116ad40348d149bd61f9b16406b585e04630b3599a96f19528c0f276f02059\n",
      "  Stored in directory: /home/jovyan/.cache/pip/wheels/b9/d0/f5/e7d5a550ab924f9b6dfcf85359a1b7750e451d0d7611df0fb0\n",
      "Successfully built iplantuml\n",
      "Installing collected packages: docutils, plantweb, iplantuml\n",
      "Successfully installed docutils-0.19 iplantuml-0.1.1 plantweb-1.2.1\n"
     ]
    }
   ],
   "source": [
    "!pip install iplantuml"
   ]
  },
  {
   "cell_type": "code",
   "execution_count": 20,
   "metadata": {
    "collapsed": true,
    "jupyter": {
     "outputs_hidden": true
    },
    "kernel": "Python3"
   },
   "outputs": [
    {
     "name": "stdout",
     "output_type": "stream",
     "text": [
      "\u001b[K\u001b[?25h\u001b[37;40mnpm\u001b[0m \u001b[0m\u001b[30;43mWARN\u001b[0m \u001b[0m\u001b[35mdeprecated\u001b[0m fluent-schema@1.1.0: The package as been renamed as fluent-json-schema. Run: npm install fluent-json-schema\n",
      "\u001b[K\u001b[?25h\u001b[37;40mnpm\u001b[0m \u001b[0m\u001b[30;43mWARN\u001b[0m \u001b[0m\u001b[35mdeprecated\u001b[0m request@2.88.2: request has been deprecated, see https://github.com/request/request/issues/3142\n",
      "\u001b[K\u001b[?25h\u001b[37;40mnpm\u001b[0m \u001b[0m\u001b[30;43mWARN\u001b[0m \u001b[0m\u001b[35mdeprecated\u001b[0m har-validator@5.1.5: this library is no longer supported\n",
      "\u001b[K\u001b[?25h\u001b[37;40mnpm\u001b[0m \u001b[0m\u001b[30;43mWARN\u001b[0m \u001b[0m\u001b[35mdeprecated\u001b[0m multibase@3.1.2: This module has been superseded by the multiformats module\n",
      "\u001b[K\u001b[?25h\u001b[37;40mnpm\u001b[0m \u001b[0m\u001b[30;43mWARN\u001b[0m \u001b[0m\u001b[35mdeprecated\u001b[0m querystring@0.2.0: The querystring API is considered Legacy. new code should use the URLSearchParams API instead.\n",
      "\u001b[K\u001b[?25h\u001b[37;40mnpm\u001b[0m \u001b[0m\u001b[30;43mWARN\u001b[0m \u001b[0m\u001b[35mdeprecated\u001b[0m node-pre-gyp@0.17.0: Please upgrade to @mapbox/node-pre-gyp: the non-scoped node-pre-gyp package is deprecated and only the @mapbox scoped package will recieve updates in the future\n",
      "\u001b[K\u001b[?25h\u001b[37;40mnpm\u001b[0m \u001b[0m\u001b[30;43mWARN\u001b[0m \u001b[0m\u001b[35mdeprecated\u001b[0m xmldom@0.1.19: Deprecated due to CVE-2021-21366 resolved in 0.5.0\n",
      "\u001b[K\u001b[?25h\u001b[37;40mnpm\u001b[0m \u001b[0m\u001b[30;43mWARN\u001b[0m\u001b[35m\u001b[0m blog@1.0.0 No descriptionle\u001b[0m @affinidi/wallet-node-sdk@6.\u001b[0m\u001b[K\u001b[K[0m\u001b[K\n",
      "\u001b[0m\u001b[37;40mnpm\u001b[0m \u001b[0m\u001b[30;43mWARN\u001b[0m\u001b[35m\u001b[0m blog@1.0.0 No repository field.\n",
      "\u001b[0m\n",
      "+ @affinidi/wallet-node-sdk@6.4.4\n",
      "updated 2 packages and audited 630 packages in 148.102s\n",
      "\n",
      "6 packages are looking for funding\n",
      "  run `npm fund` for details\n",
      "\n",
      "found \u001b[91m53\u001b[0m vulnerabilities (18 \u001b[1mlow\u001b[0m, 19 \u001b[93mmoderate\u001b[0m, 16 \u001b[91mhigh\u001b[0m)\n",
      "  run `npm audit fix` to fix them, or `npm audit` for details\n"
     ]
    }
   ],
   "source": [
    "!npm init -y\n",
    "!npm install @affinidi/wallet-node-sdk node-fetch@2 did-uri"
   ]
  },
  {
   "cell_type": "code",
   "execution_count": 55,
   "metadata": {
    "kernel": "Markdown"
   },
   "outputs": [
    {
     "data": {
      "text/markdown": [
       "# Create Affinidi Wallet Demo \n",
       "## What wallet actually is ?\n",
       "Name wallet create a lot of confusion. In real life you keep your kredit cards, money, identity cards in a wallet.\n",
       "Any crypto wallet have one and only one function that really matter - it is manage and give access to your private and public keys.\n",
       "\n",
       "Wallet is more\n",
       "- key manager - manage access to a keys \n",
       "- signer - sign VCs , transactions, JWTs with your private key\n",
       "\n",
       "Majority of crypto Wallets show a state of your account and etc. Affinity Wallet is more focused on VCs \n",
       "   \n",
       "\n",
       "## Create a wallet on edge \n",
       "- get your API key [production](https://apikey.affinidi.com/) or register affinidi account on [register](https://build.affinidi.com/register)\n",
       "- set env to prod \n"
      ]
     },
     "metadata": {},
     "output_type": "display_data"
    }
   ],
   "source": [
    "# Create Affinidi Wallet Demo \n",
    "## What wallet actually is ?\n",
    "Name wallet create a lot of confusion. In real life you keep your kredit cards, money, identity cards in a wallet.\n",
    "Any crypto wallet have one and only one function that really matter - it is manage and give access to your private and public keys.\n",
    "\n",
    "Wallet is more\n",
    "- key manager - manage access to a keys \n",
    "- signer - sign VCs , transactions, JWTs with your private key\n",
    "\n",
    "Majority of crypto Wallets show a state of your account and etc. Affinity Wallet is more focused on VCs \n",
    "   \n",
    "\n",
    "## Create a wallet on edge \n",
    "- get your API key [production](https://apikey.affinidi.com/) or register affinidi account on [register](https://build.affinidi.com/register)\n",
    "- set env to prod \n"
   ]
  },
  {
   "cell_type": "code",
   "execution_count": 39,
   "metadata": {
    "kernel": "JavaScript"
   },
   "outputs": [],
   "source": [
    "const { createWallet } = require('@affinidi/wallet-node-sdk')\n",
    "const walletFactory = createWallet('AffinityCore')"
   ]
  },
  {
   "cell_type": "code",
   "execution_count": 2,
   "metadata": {
    "kernel": "Python3"
   },
   "outputs": [
    {
     "data": {
      "application/vnd.jupyter.widget-view+json": {
       "model_id": "060de76a8fa746c3acc9740fd62cb00a",
       "version_major": 2,
       "version_minor": 0
      },
      "text/plain": [
       "Password(description='API KEY:', placeholder='EnterAPI key')"
      ]
     },
     "metadata": {},
     "output_type": "display_data"
    }
   ],
   "source": [
    "import ipywidgets\n",
    "apikey_widget = ipywidgets.Password(description='API KEY:', placeholder='EnterAPI key')\n",
    "apikey_widget"
   ]
  },
  {
   "cell_type": "code",
   "execution_count": 27,
   "metadata": {
    "collapsed": true,
    "jupyter": {
     "outputs_hidden": true
    },
    "kernel": "Python3"
   },
   "outputs": [],
   "source": [
    "accessApiKey = apikey_widget.value \n",
    "    "
   ]
  },
  {
   "cell_type": "code",
   "execution_count": 28,
   "metadata": {
    "collapsed": true,
    "jupyter": {
     "outputs_hidden": true
    },
    "kernel": "JavaScript"
   },
   "outputs": [
    {
     "data": {
      "text/plain": [
       "1"
      ]
     },
     "execution_count": 28,
     "metadata": {},
     "output_type": "execute_result"
    }
   ],
   "source": [
    "%get accessApiKey --from Python3\n",
    "options = {\n",
    "    env: 'prod',\n",
    "    accessApiKey: accessApiKey\n",
    "}\n",
    "1"
   ]
  },
  {
   "cell_type": "code",
   "execution_count": 29,
   "metadata": {
    "jupyter": {
     "source_hidden": true
    },
    "kernel": "Markdown"
   },
   "outputs": [
    {
     "data": {
      "text/markdown": [
       "All you need on edge is a password \n"
      ]
     },
     "metadata": {},
     "output_type": "display_data"
    }
   ],
   "source": [
    "All you need on edge is a password "
   ]
  },
  {
   "cell_type": "code",
   "execution_count": 3,
   "metadata": {
    "kernel": "Python3"
   },
   "outputs": [
    {
     "data": {
      "application/vnd.jupyter.widget-view+json": {
       "model_id": "2aba030a300442d4965e884367cfd4fd",
       "version_major": 2,
       "version_minor": 0
      },
      "text/plain": [
       "Password(description='Password:', placeholder='Password')"
      ]
     },
     "metadata": {},
     "output_type": "display_data"
    }
   ],
   "source": [
    "password_widget = ipywidgets.Password(description='Password:', placeholder='Password')\n",
    "password_widget"
   ]
  },
  {
   "cell_type": "code",
   "execution_count": 35,
   "metadata": {
    "jupyter": {
     "source_hidden": true
    },
    "kernel": "Python3"
   },
   "outputs": [],
   "source": [
    "password = password_widget.value"
   ]
  },
  {
   "cell_type": "code",
   "execution_count": 36,
   "metadata": {
    "jupyter": {
     "source_hidden": true
    },
    "kernel": "JavaScript"
   },
   "outputs": [],
   "source": [
    "%get password --from Python3"
   ]
  },
  {
   "cell_type": "code",
   "execution_count": 37,
   "metadata": {
    "jupyter": {
     "source_hidden": true
    },
    "kernel": "Markdown"
   },
   "outputs": [
    {
     "data": {
      "text/markdown": [
       "Now we could generate you a wallet\n"
      ]
     },
     "metadata": {},
     "output_type": "display_data"
    }
   ],
   "source": [
    "Now we could generate you a wallet"
   ]
  },
  {
   "cell_type": "code",
   "execution_count": 40,
   "metadata": {
    "kernel": "JavaScript"
   },
   "outputs": [],
   "source": [
    "createWalletForPassword = async () => {\n",
    "\n",
    "  const sdk = await createWallet('test').createWallet(options, password)\n",
    "  seed = sdk.encryptedSeed \n",
    "  did = sdk.did  \n",
    "  \n",
    "}\n",
    "createWalletForPassword().catch(console.error)"
   ]
  },
  {
   "cell_type": "code",
   "execution_count": 41,
   "metadata": {
    "kernel": "JavaScript"
   },
   "outputs": [
    {
     "data": {
      "text/plain": [
       "'did:elem:EiA72Dqzgr25DvukSTsNI2CDOwthB9r6vBxWHbnkp6vkCw;elem:initial-state=eyJwcm90ZWN0ZWQiOiJleUp2Y0dWeVlYUnBiMjRpT2lKamNtVmhkR1VpTENKcmFXUWlPaUlqY0hKcGJXRnllU0lzSW1Gc1p5STZJa1ZUTWpVMlN5SjkiLCJwYXlsb2FkIjoiZXlKQVkyOXVkR1Y0ZENJNkltaDBkSEJ6T2k4dmR6TnBaQzV2Y21jdmMyVmpkWEpwZEhrdmRqSWlMQ0p3ZFdKc2FXTkxaWGtpT2x0N0ltbGtJam9pSTNCeWFXMWhjbmtpTENKMWMyRm5aU0k2SW5OcFoyNXBibWNpTENKMGVYQmxJam9pVTJWamNESTFObXN4Vm1WeWFXWnBZMkYwYVc5dVMyVjVNakF4T0NJc0luQjFZbXhwWTB0bGVVaGxlQ0k2SWpBellUVXhNak0wT0dSbVlURTFZMlUwWlRGaVpqUTRZMlkyTUROaE0yWmhaVFV5WmpRek5tTmlNR1UxTUdZeE9URmhaREk1T1dOa1pEWTBaREl5TldJd05TSjlMSHNpYVdRaU9pSWpjbVZqYjNabGNua2lMQ0oxYzJGblpTSTZJbkpsWTI5MlpYSjVJaXdpZEhsd1pTSTZJbE5sWTNBeU5UWnJNVlpsY21sbWFXTmhkR2x2Ymt0bGVUSXdNVGdpTENKd2RXSnNhV05MWlhsSVpYZ2lPaUl3TWpNMk5tWTVZakUwTmpFd016WXdNbUV4Wm1VeVptRTJabVZoTkdaaE9EWTNPV1EwWWpJek1XRTBNRFZqTWpJeFpUa3pZek0yT0RSbE9EY3laVEU0TXpjaWZWMHNJbUYxZEdobGJuUnBZMkYwYVc5dUlqcGJJaU53Y21sdFlYSjVJbDBzSW1GemMyVnlkR2x2YmsxbGRHaHZaQ0k2V3lJamNISnBiV0Z5ZVNKZGZRIiwic2lnbmF0dXJlIjoiV08tTHIxbDBjeVpMQWJUOWdjcVdmeFVVZlNNUzBYTDVzcDRMZUhUOUNRNV9CaHpOX0x0bUhKSEdwQ096b2QtOU1wVWt0aGk0QWg2RTVjakpLb3Jib1EifQ'"
      ]
     },
     "execution_count": 41,
     "metadata": {},
     "output_type": "execute_result"
    }
   ],
   "source": [
    "did "
   ]
  },
  {
   "cell_type": "code",
   "execution_count": 54,
   "metadata": {
    "jupyter": {
     "source_hidden": true
    },
    "kernel": "Markdown"
   },
   "outputs": [
    {
     "data": {
      "text/markdown": [
       "## Wallet Internals \n",
       "Whats actually happens\n",
       "Our Wallet is clasical hierarchical deterministic wallet [based on BIP-32](https://github.com/bitcoin/bips/blob/master/bip-0032.mediawiki) standard.\n",
       "It is mean that based on seed (32 bit random entropy) we generate all private , public keys and derived addresses etc.\n",
       "\n",
       "All you need is seed. \n",
       "We never expose a seed or private keys ouside of wallet. \n",
       "\n",
       "We use a user pasword to encrypt a seed. \n",
       "As a result user get encrypted seed and password that allow to create an instance of wallet any time \n",
       "All you need is securely store this pair and do not share it on public internet \n"
      ]
     },
     "metadata": {},
     "output_type": "display_data"
    }
   ],
   "source": [
    "## Wallet Internals \n",
    "Whats actually happens\n",
    "Our Wallet is clasical hierarchical deterministic wallet [based on BIP-32](https://github.com/bitcoin/bips/blob/master/bip-0032.mediawiki) standard.\n",
    "It is mean that based on seed (32 bit random entropy) we generate all private , public keys and derived addresses etc.\n",
    "\n",
    "All you need is seed. \n",
    "We never expose a seed or private keys ouside of wallet. \n",
    "\n",
    "We use a user pasword to encrypt a seed. \n",
    "As a result user get encrypted seed and password that allow to create an instance of wallet any time \n",
    "All you need is securely store this pair and do not share it on public internet "
   ]
  },
  {
   "cell_type": "code",
   "execution_count": 7,
   "metadata": {
    "jupyter": {
     "source_hidden": true
    },
    "kernel": "Python3"
   },
   "outputs": [],
   "source": [
    "import iplantuml"
   ]
  },
  {
   "cell_type": "code",
   "execution_count": 8,
   "metadata": {
    "jupyter": {
     "source_hidden": true
    },
    "kernel": "Python3"
   },
   "outputs": [
    {
     "data": {
      "image/svg+xml": [
       "<svg xmlns=\"http://www.w3.org/2000/svg\" xmlns:xlink=\"http://www.w3.org/1999/xlink\" width=\"881pt\" height=\"388pt\" viewBox=\"0.00 0.00 881.00 388.00\">\n",
       "<g id=\"graph0\" class=\"graph\" transform=\"scale(1 1) rotate(0) translate(4 384)\">\n",
       "<title>G</title>\n",
       "<polygon fill=\"white\" stroke=\"none\" points=\"-4,4 -4,-384 877,-384 877,4 -4,4\"/>\n",
       "<!-- User -->\n",
       "<g id=\"node1\" class=\"node\"><title>User</title>\n",
       "<polygon fill=\"none\" stroke=\"black\" points=\"2.5,-91.5 2.5,-379.5 56.5,-379.5 56.5,-91.5 2.5,-91.5\"/>\n",
       "<text text-anchor=\"middle\" x=\"29.5\" y=\"-231.8\" font-family=\"Times,serif\" font-size=\"14.00\">User</text>\n",
       "</g>\n",
       "<!-- encrypt -->\n",
       "<g id=\"node4\" class=\"node\"><title>encrypt</title>\n",
       "<polygon fill=\"none\" stroke=\"black\" points=\"308,-39.5 308,-183.5 365,-183.5 365,-39.5 308,-39.5\"/>\n",
       "<text text-anchor=\"middle\" x=\"336.5\" y=\"-107.8\" font-family=\"Times,serif\" font-size=\"14.00\">encrypt</text>\n",
       "</g>\n",
       "<!-- User&#45;&gt;encrypt -->\n",
       "<g id=\"edge4\" class=\"edge\"><title>User-&gt;encrypt</title>\n",
       "<path fill=\"none\" stroke=\"black\" d=\"M56.7442,-124C56.7442,-124 297.984,-124 297.984,-124\"/>\n",
       "<polygon fill=\"black\" stroke=\"black\" points=\"297.984,-127.5 307.984,-124 297.984,-120.5 297.984,-127.5\"/>\n",
       "<text text-anchor=\"middle\" x=\"198\" y=\"-117.3\" font-family=\"Times,serif\" font-size=\"14.00\">password</text>\n",
       "</g>\n",
       "<!-- seedGenerator -->\n",
       "<g id=\"node5\" class=\"node\"><title>seedGenerator</title>\n",
       "<polygon fill=\"none\" stroke=\"black\" points=\"149,-157.5 149,-229.5 247,-229.5 247,-157.5 149,-157.5\"/>\n",
       "<text text-anchor=\"middle\" x=\"198\" y=\"-189.8\" font-family=\"Times,serif\" font-size=\"14.00\">seed Generator</text>\n",
       "</g>\n",
       "<!-- User&#45;&gt;seedGenerator -->\n",
       "<g id=\"edge2\" class=\"edge\"><title>User-&gt;seedGenerator</title>\n",
       "<path fill=\"none\" stroke=\"black\" d=\"M56.5724,-193.5C56.5724,-193.5 138.904,-193.5 138.904,-193.5\"/>\n",
       "<polygon fill=\"black\" stroke=\"black\" points=\"138.904,-197 148.904,-193.5 138.904,-190 138.904,-197\"/>\n",
       "<text text-anchor=\"middle\" x=\"104\" y=\"-215.3\" font-family=\"Times,serif\" font-size=\"14.00\">meta data</text>\n",
       "</g>\n",
       "<!-- bip32 -->\n",
       "<g id=\"node6\" class=\"node\"><title>bip32</title>\n",
       "<polygon fill=\"none\" stroke=\"black\" points=\"309.5,-202.5 309.5,-346.5 363.5,-346.5 363.5,-202.5 309.5,-202.5\"/>\n",
       "<text text-anchor=\"middle\" x=\"336.5\" y=\"-270.8\" font-family=\"Times,serif\" font-size=\"14.00\">bip32</text>\n",
       "</g>\n",
       "<!-- User&#45;&gt;bip32 -->\n",
       "<g id=\"edge6\" class=\"edge\"><title>User-&gt;bip32</title>\n",
       "<path fill=\"none\" stroke=\"black\" d=\"M56.7442,-288.5C56.7442,-288.5 299.317,-288.5 299.317,-288.5\"/>\n",
       "<polygon fill=\"black\" stroke=\"black\" points=\"299.317,-292 309.317,-288.5 299.317,-285 299.317,-292\"/>\n",
       "<text text-anchor=\"middle\" x=\"198\" y=\"-275.3\" font-family=\"Times,serif\" font-size=\"14.00\">meta data</text>\n",
       "</g>\n",
       "<!-- User2 -->\n",
       "<g id=\"node2\" class=\"node\"><title>User2</title>\n",
       "<polygon fill=\"none\" stroke=\"black\" points=\"819,-12.5 819,-300.5 873,-300.5 873,-12.5 819,-12.5\"/>\n",
       "<text text-anchor=\"middle\" x=\"846\" y=\"-152.8\" font-family=\"Times,serif\" font-size=\"14.00\">User</text>\n",
       "</g>\n",
       "<!-- random -->\n",
       "<g id=\"node3\" class=\"node\"><title>random</title>\n",
       "<polygon fill=\"none\" stroke=\"black\" points=\"0,-0.5 0,-72.5 59,-72.5 59,-0.5 0,-0.5\"/>\n",
       "<text text-anchor=\"middle\" x=\"29.5\" y=\"-32.8\" font-family=\"Times,serif\" font-size=\"14.00\">random</text>\n",
       "</g>\n",
       "<!-- random&#45;&gt;seedGenerator -->\n",
       "<g id=\"edge1\" class=\"edge\"><title>random-&gt;seedGenerator</title>\n",
       "<path fill=\"none\" stroke=\"black\" d=\"M59.2365,-56C107.61,-56 198,-56 198,-56 198,-56 198,-147.373 198,-147.373\"/>\n",
       "<polygon fill=\"black\" stroke=\"black\" points=\"194.5,-147.373 198,-157.373 201.5,-147.374 194.5,-147.373\"/>\n",
       "<text text-anchor=\"middle\" x=\"104\" y=\"-40.3\" font-family=\"Times,serif\" font-size=\"14.00\">32 bit</text>\n",
       "</g>\n",
       "<!-- encrypt&#45;&gt;User2 -->\n",
       "<g id=\"edge5\" class=\"edge\"><title>encrypt-&gt;User2</title>\n",
       "<path fill=\"none\" stroke=\"black\" d=\"M365.353,-106C365.353,-106 808.708,-106 808.708,-106\"/>\n",
       "<polygon fill=\"black\" stroke=\"black\" points=\"808.708,-109.5 818.708,-106 808.708,-102.5 808.708,-109.5\"/>\n",
       "<text text-anchor=\"middle\" x=\"644\" y=\"-132.3\" font-family=\"Times,serif\" font-size=\"14.00\">encrypted seed</text>\n",
       "</g>\n",
       "<!-- seedGenerator&#45;&gt;encrypt -->\n",
       "<g id=\"edge3\" class=\"edge\"><title>seedGenerator-&gt;encrypt</title>\n",
       "<path fill=\"none\" stroke=\"black\" d=\"M247.22,-170.5C247.22,-170.5 297.999,-170.5 297.999,-170.5\"/>\n",
       "<polygon fill=\"black\" stroke=\"black\" points=\"298,-174 307.999,-170.5 297.999,-167 298,-174\"/>\n",
       "<text text-anchor=\"middle\" x=\"277.5\" y=\"-174.3\" font-family=\"Times,serif\" font-size=\"14.00\">seed</text>\n",
       "</g>\n",
       "<!-- seedGenerator&#45;&gt;bip32 -->\n",
       "<g id=\"edge7\" class=\"edge\"><title>seedGenerator-&gt;bip32</title>\n",
       "<path fill=\"none\" stroke=\"black\" d=\"M247.22,-216C247.22,-216 299.194,-216 299.194,-216\"/>\n",
       "<polygon fill=\"black\" stroke=\"black\" points=\"299.194,-219.5 309.194,-216 299.194,-212.5 299.194,-219.5\"/>\n",
       "<text text-anchor=\"middle\" x=\"277.5\" y=\"-229.3\" font-family=\"Times,serif\" font-size=\"14.00\">seed</text>\n",
       "</g>\n",
       "<!-- didDocGenerator -->\n",
       "<g id=\"node7\" class=\"node\"><title>didDocGenerator</title>\n",
       "<polygon fill=\"none\" stroke=\"black\" points=\"468,-243.5 468,-315.5 585,-315.5 585,-243.5 468,-243.5\"/>\n",
       "<text text-anchor=\"middle\" x=\"526.5\" y=\"-275.8\" font-family=\"Times,serif\" font-size=\"14.00\">DidDoc Generator</text>\n",
       "</g>\n",
       "<!-- bip32&#45;&gt;didDocGenerator -->\n",
       "<g id=\"edge8\" class=\"edge\"><title>bip32-&gt;didDocGenerator</title>\n",
       "<path fill=\"none\" stroke=\"black\" d=\"M363.722,-267.333C363.722,-267.333 457.992,-267.333 457.992,-267.333\"/>\n",
       "<polygon fill=\"black\" stroke=\"black\" points=\"457.992,-270.833 467.992,-267.333 457.992,-263.833 457.992,-270.833\"/>\n",
       "<text text-anchor=\"middle\" x=\"416.5\" y=\"-297.3\" font-family=\"Times,serif\" font-size=\"14.00\">public keys</text>\n",
       "</g>\n",
       "<!-- bip32&#45;&gt;didDocGenerator -->\n",
       "<g id=\"edge9\" class=\"edge\"><title>bip32-&gt;didDocGenerator</title>\n",
       "<path fill=\"none\" stroke=\"black\" d=\"M363.722,-291.667C363.722,-291.667 457.992,-291.667 457.992,-291.667\"/>\n",
       "<polygon fill=\"black\" stroke=\"black\" points=\"457.992,-295.167 467.992,-291.667 457.992,-288.167 457.992,-295.167\"/>\n",
       "<text text-anchor=\"middle\" x=\"416.5\" y=\"-259.3\" font-family=\"Times,serif\" font-size=\"14.00\">private keys</text>\n",
       "</g>\n",
       "<!-- registry -->\n",
       "<g id=\"node8\" class=\"node\"><title>registry</title>\n",
       "<polygon fill=\"none\" stroke=\"black\" points=\"703,-173.5 703,-245.5 765,-245.5 765,-173.5 703,-173.5\"/>\n",
       "<text text-anchor=\"middle\" x=\"734\" y=\"-205.8\" font-family=\"Times,serif\" font-size=\"14.00\">Registry</text>\n",
       "</g>\n",
       "<!-- bip32&#45;&gt;registry -->\n",
       "<g id=\"edge10\" class=\"edge\"><title>bip32-&gt;registry</title>\n",
       "<path fill=\"none\" stroke=\"black\" d=\"M363.509,-222.5C363.509,-222.5 692.898,-222.5 692.898,-222.5\"/>\n",
       "<polygon fill=\"black\" stroke=\"black\" points=\"692.898,-226 702.898,-222.5 692.898,-219 692.898,-226\"/>\n",
       "<text text-anchor=\"middle\" x=\"526.5\" y=\"-213.3\" font-family=\"Times,serif\" font-size=\"14.00\">private keys</text>\n",
       "</g>\n",
       "<!-- didDocGenerator&#45;&gt;registry -->\n",
       "<g id=\"edge11\" class=\"edge\"><title>didDocGenerator-&gt;registry</title>\n",
       "<path fill=\"none\" stroke=\"black\" d=\"M585.129,-273.5C646.489,-273.5 734,-273.5 734,-273.5 734,-273.5 734,-255.615 734,-255.615\"/>\n",
       "<polygon fill=\"black\" stroke=\"black\" points=\"737.5,-255.615 734,-245.615 730.5,-255.615 737.5,-255.615\"/>\n",
       "<text text-anchor=\"middle\" x=\"644\" y=\"-264.3\" font-family=\"Times,serif\" font-size=\"14.00\">document</text>\n",
       "</g>\n",
       "<!-- registry&#45;&gt;User2 -->\n",
       "<g id=\"edge12\" class=\"edge\"><title>registry-&gt;User2</title>\n",
       "<path fill=\"none\" stroke=\"black\" d=\"M765.198,-209.5C765.198,-209.5 808.776,-209.5 808.776,-209.5\"/>\n",
       "<polygon fill=\"black\" stroke=\"black\" points=\"808.776,-213 818.776,-209.5 808.776,-206 808.776,-213\"/>\n",
       "<text text-anchor=\"middle\" x=\"792\" y=\"-189.3\" font-family=\"Times,serif\" font-size=\"14.00\">did</text>\n",
       "</g>\n",
       "</g>\n",
       "</svg>"
      ],
      "text/plain": [
       "<IPython.core.display.SVG object>"
      ]
     },
     "execution_count": 8,
     "metadata": {},
     "output_type": "execute_result"
    }
   ],
   "source": [
    "\n",
    "%%plantuml\n",
    "@startuml\n",
    "digraph G {\n",
    "    graph [rankdir = LR, splines=ortho];\n",
    "\n",
    "    node[shape=record];\n",
    "    User[label=\"User\", height=4];\n",
    "    User2[label=\"User\", height=4];\n",
    "    subgraph SDK {\n",
    "      graph [rankdir = LR, splines=ortho];\n",
    "      node[shape=record];\n",
    "      label = \"SDK\";\n",
    "      random[label=\"random\", height=1];\n",
    "      encrypt[label=\"encrypt\", height=2];\n",
    "      seedGenerator[label=\"seed Generator\", height=1];\n",
    "      bip32[label=\"bip32\", height=2];\n",
    "      didDocGenerator[label=\"DidDoc Generator\", height=1];\n",
    "      registry[label=\"Registry\", height=1];\n",
    "    }\n",
    "    random -> seedGenerator [label=\"32 bit\"]\n",
    "    User -> seedGenerator [label=\"meta data\"]\n",
    "    seedGenerator -> encrypt [label=\"seed\"]\n",
    "    User -> encrypt [label=\"password\"]\n",
    "    encrypt -> User2  [label=\"encrypted seed\"]\n",
    "    User -> bip32 [label=\"meta data\"]\n",
    "    seedGenerator -> bip32 [label=\"seed\"]\n",
    "    bip32 -> didDocGenerator  [label=\"public keys\"]\n",
    "    bip32 -> didDocGenerator  [label=\"private keys\"]\n",
    "    bip32 -> registry [label=\"private keys\"]\n",
    "    didDocGenerator -> registry [label=\"document\"]\n",
    "    registry -> User2 [label=\"did\"]\n",
    "}\n",
    "@enduml\n",
    "\n",
    "    "
   ]
  },
  {
   "cell_type": "code",
   "execution_count": 51,
   "metadata": {
    "jupyter": {
     "source_hidden": true
    },
    "kernel": "Markdown"
   },
   "outputs": [
    {
     "data": {
      "text/markdown": [
       "## Unlock wallet with seed and password \n",
       "Now you could unlock your wallet with seed and password \n"
      ]
     },
     "metadata": {},
     "output_type": "display_data"
    }
   ],
   "source": [
    "## Unlock wallet with seed and password \n",
    "Now you could unlock your wallet with seed and password "
   ]
  },
  {
   "cell_type": "code",
   "execution_count": 57,
   "metadata": {
    "kernel": "JavaScript"
   },
   "outputs": [],
   "source": [
    "openWallet = async () => {\n",
    "const sdk = await createWallet('test').openWalletByEncryptedSeed(options, seed , password)\n",
    "didFromSDK = sdk.did\n",
    "}\n",
    "openWallet().catch(console.error)\n"
   ]
  },
  {
   "cell_type": "code",
   "execution_count": 58,
   "metadata": {
    "kernel": "JavaScript"
   },
   "outputs": [
    {
     "data": {
      "text/plain": [
       "true"
      ]
     },
     "execution_count": 58,
     "metadata": {},
     "output_type": "execute_result"
    }
   ],
   "source": [
    "didFromSDK === did"
   ]
  },
  {
   "cell_type": "code",
   "execution_count": 56,
   "metadata": {
    "jupyter": {
     "source_hidden": true
    },
    "kernel": "Markdown"
   },
   "outputs": [
    {
     "data": {
      "text/markdown": [
       "## DID magic . lets resolve it \n",
       "Dids follow a URI schema and could be parsed \n",
       "Every did have a\n",
       "- schema . always equal to did \n",
       "- method \n",
       "- identifier \n",
       "Some did methods like **element** could have a initial parameters \n",
       "\n"
      ]
     },
     "metadata": {},
     "output_type": "display_data"
    }
   ],
   "source": [
    "## DID magic . lets resolve it \n",
    "Dids follow a URI schema and could be parsed \n",
    "Every did have a\n",
    "- schema . always equal to did \n",
    "- method \n",
    "- identifier \n",
    "Some did methods like **element** could have a initial parameters \n",
    "\n"
   ]
  },
  {
   "cell_type": "code",
   "execution_count": 44,
   "metadata": {
    "kernel": "JavaScript"
   },
   "outputs": [
    {
     "data": {
      "text/plain": [
       "{\n",
       "  reference: 'did:elem:EiA72Dqzgr25DvukSTsNI2CDOwthB9r6vBxWHbnkp6vkCw;elem:initial-state=eyJwcm90ZWN0ZWQiOiJleUp2Y0dWeVlYUnBiMjRpT2lKamNtVmhkR1VpTENKcmFXUWlPaUlqY0hKcGJXRnllU0lzSW1Gc1p5STZJa1ZUTWpVMlN5SjkiLCJwYXlsb2FkIjoiZXlKQVkyOXVkR1Y0ZENJNkltaDBkSEJ6T2k4dmR6TnBaQzV2Y21jdmMyVmpkWEpwZEhrdmRqSWlMQ0p3ZFdKc2FXTkxaWGtpT2x0N0ltbGtJam9pSTNCeWFXMWhjbmtpTENKMWMyRm5aU0k2SW5OcFoyNXBibWNpTENKMGVYQmxJam9pVTJWamNESTFObXN4Vm1WeWFXWnBZMkYwYVc5dVMyVjVNakF4T0NJc0luQjFZbXhwWTB0bGVVaGxlQ0k2SWpBellUVXhNak0wT0dSbVlURTFZMlUwWlRGaVpqUTRZMlkyTUROaE0yWmhaVFV5WmpRek5tTmlNR1UxTUdZeE9URmhaREk1T1dOa1pEWTBaREl5TldJd05TSjlMSHNpYVdRaU9pSWpjbVZqYjNabGNua2lMQ0oxYzJGblpTSTZJbkpsWTI5MlpYSjVJaXdpZEhsd1pTSTZJbE5sWTNBeU5UWnJNVlpsY21sbWFXTmhkR2x2Ymt0bGVUSXdNVGdpTENKd2RXSnNhV05MWlhsSVpYZ2lPaUl3TWpNMk5tWTVZakUwTmpFd016WXdNbUV4Wm1VeVptRTJabVZoTkdaaE9EWTNPV1EwWWpJek1XRTBNRFZqTWpJeFpUa3pZek0yT0RSbE9EY3laVEU0TXpjaWZWMHNJbUYxZEdobGJuUnBZMkYwYVc5dUlqcGJJaU53Y21sdFlYSjVJbDBzSW1GemMyVnlkR2x2YmsxbGRHaHZaQ0k2V3lJamNISnBiV0Z5ZVNKZGZRIiwic2lnbmF0dXJlIjoiV08tTHIxbDBjeVpMQWJUOWdjcVdmeFVVZlNNUzBYTDVzcDRMZUhUOUNRNV9CaHpOX0x0bUhKSEdwQ096b2QtOU1wVWt0aGk0QWg2RTVjakpLb3Jib1EifQ',\n",
       "  did: 'did:elem:EiA72Dqzgr25DvukSTsNI2CDOwthB9r6vBxWHbnkp6vkCw',\n",
       "  method: 'elem',\n",
       "  identifier: 'EiA72Dqzgr25DvukSTsNI2CDOwthB9r6vBxWHbnkp6vkCw',\n",
       "  path: '',\n",
       "  fragment: '',\n",
       "  query: '',\n",
       "  param: ';elem:initial-state=eyJwcm90ZWN0ZWQiOiJleUp2Y0dWeVlYUnBiMjRpT2lKamNtVmhkR1VpTENKcmFXUWlPaUlqY0hKcGJXRnllU0lzSW1Gc1p5STZJa1ZUTWpVMlN5SjkiLCJwYXlsb2FkIjoiZXlKQVkyOXVkR1Y0ZENJNkltaDBkSEJ6T2k4dmR6TnBaQzV2Y21jdmMyVmpkWEpwZEhrdmRqSWlMQ0p3ZFdKc2FXTkxaWGtpT2x0N0ltbGtJam9pSTNCeWFXMWhjbmtpTENKMWMyRm5aU0k2SW5OcFoyNXBibWNpTENKMGVYQmxJam9pVTJWamNESTFObXN4Vm1WeWFXWnBZMkYwYVc5dVMyVjVNakF4T0NJc0luQjFZbXhwWTB0bGVVaGxlQ0k2SWpBellUVXhNak0wT0dSbVlURTFZMlUwWlRGaVpqUTRZMlkyTUROaE0yWmhaVFV5WmpRek5tTmlNR1UxTUdZeE9URmhaREk1T1dOa1pEWTBaREl5TldJd05TSjlMSHNpYVdRaU9pSWpjbVZqYjNabGNua2lMQ0oxYzJGblpTSTZJbkpsWTI5MlpYSjVJaXdpZEhsd1pTSTZJbE5sWTNBeU5UWnJNVlpsY21sbWFXTmhkR2x2Ymt0bGVUSXdNVGdpTENKd2RXSnNhV05MWlhsSVpYZ2lPaUl3TWpNMk5tWTVZakUwTmpFd016WXdNbUV4Wm1VeVptRTJabVZoTkdaaE9EWTNPV1EwWWpJek1XRTBNRFZqTWpJeFpUa3pZek0yT0RSbE9EY3laVEU0TXpjaWZWMHNJbUYxZEdobGJuUnBZMkYwYVc5dUlqcGJJaU53Y21sdFlYSjVJbDBzSW1GemMyVnlkR2x2YmsxbGRHaHZaQ0k2V3lJamNISnBiV0Z5ZVNKZGZRIiwic2lnbmF0dXJlIjoiV08tTHIxbDBjeVpMQWJUOWdjcVdmeFVVZlNNUzBYTDVzcDRMZUhUOUNRNV9CaHpOX0x0bUhKSEdwQ096b2QtOU1wVWt0aGk0QWg2RTVjakpLb3Jib1EifQ'\n",
       "}"
      ]
     },
     "execution_count": 44,
     "metadata": {},
     "output_type": "execute_result"
    }
   ],
   "source": [
    "const didParser = require('did-uri')\n",
    "const parsedDid = didParser.parse(did)\n",
    "parsedDid"
   ]
  },
  {
   "cell_type": "code",
   "execution_count": 45,
   "metadata": {
    "jupyter": {
     "source_hidden": true
    },
    "kernel": "Markdown"
   },
   "outputs": [
    {
     "data": {
      "text/markdown": [
       "Key operation for every did is a resolution of a diddocument \n",
       "Our affinidi-registry service do this job quite well\n"
      ]
     },
     "metadata": {},
     "output_type": "display_data"
    }
   ],
   "source": [
    "Key operation for every did is a resolution of a diddocument \n",
    "Our affinidi-registry service do this job quite well"
   ]
  },
  {
   "cell_type": "code",
   "execution_count": 42,
   "metadata": {
    "kernel": "JavaScript"
   },
   "outputs": [],
   "source": [
    "const fetch = require('node-fetch')\n",
    "resolveDid = async () => {\n",
    "\n",
    "const resolverUrl = `https://affinity-registry.${options.env}.affinity-project.org/api/v1/did/resolve-did`\n",
    "const response = await fetch(resolverUrl, {\n",
    "    method: 'post',\n",
    "    body: JSON.stringify({did: did}),\n",
    "    headers: {\n",
    "        'Content-Type': 'application/json',\n",
    "        'Api-Key': options.accessApiKey\n",
    "             }\n",
    "});\n",
    "didDoc = await response.json()     \n",
    "  \n",
    "}\n",
    "resolveDid().catch(console.error)"
   ]
  },
  {
   "cell_type": "code",
   "execution_count": 43,
   "metadata": {
    "kernel": "JavaScript"
   },
   "outputs": [
    {
     "data": {
      "text/plain": [
       "'{\\n' +\n",
       "  '  \"didDocument\": {\\n' +\n",
       "  '    \"@context\": \"https://w3id.org/security/v2\",\\n' +\n",
       "  '    \"publicKey\": [\\n' +\n",
       "  '      {\\n' +\n",
       "  '        \"id\": \"did:elem:EiA72Dqzgr25DvukSTsNI2CDOwthB9r6vBxWHbnkp6vkCw#primary\",\\n' +\n",
       "  '        \"usage\": \"signing\",\\n' +\n",
       "  '        \"type\": \"Secp256k1VerificationKey2018\",\\n' +\n",
       "  '        \"publicKeyHex\": \"03a512348dfa15ce4e1bf48cf603a3fae52f436cb0e50f191ad299cdd64d225b05\"\\n' +\n",
       "  '      },\\n' +\n",
       "  '      {\\n' +\n",
       "  '        \"id\": \"did:elem:EiA72Dqzgr25DvukSTsNI2CDOwthB9r6vBxWHbnkp6vkCw#recovery\",\\n' +\n",
       "  '        \"usage\": \"recovery\",\\n' +\n",
       "  '        \"type\": \"Secp256k1VerificationKey2018\",\\n' +\n",
       "  '        \"publicKeyHex\": \"02366f9b146103602a1fe2fa6fea4fa8679d4b231a405c221e93c3684e872e1837\"\\n' +\n",
       "  '      }\\n' +\n",
       "  '    ],\\n' +\n",
       "  '    \"authentication\": [\\n' +\n",
       "  '      \"did:elem:EiA72Dqzgr25DvukSTsNI2CDOwthB9r6vBxWHbnkp6vkCw#primary\"\\n' +\n",
       "  '    ],\\n' +\n",
       "  '    \"assertionMethod\": [\\n' +\n",
       "  '      \"did:elem:EiA72Dqzgr25DvukSTsNI2CDOwthB9r6vBxWHbnkp6vkCw#primary\"\\n' +\n",
       "  '    ],\\n' +\n",
       "  '    \"id\": \"did:elem:EiA72Dqzgr25DvukSTsNI2CDOwthB9r6vBxWHbnkp6vkCw\"\\n' +\n",
       "  '  }\\n' +\n",
       "  '}'"
      ]
     },
     "execution_count": 43,
     "metadata": {},
     "output_type": "execute_result"
    }
   ],
   "source": [
    "JSON.stringify(didDoc, null , 2)"
   ]
  },
  {
   "cell_type": "code",
   "execution_count": 19,
   "metadata": {
    "jupyter": {
     "source_hidden": true
    },
    "kernel": "Markdown"
   },
   "outputs": [
    {
     "data": {
      "text/markdown": [
       "As you can see we have two public keys as a part of document \n",
       "- **signing** used for sign operations \n",
       "- **recovery** could be used for key rotation and did document operations \n"
      ]
     },
     "metadata": {},
     "output_type": "display_data"
    }
   ],
   "source": [
    "As you can see we have two public keys as a part of document \n",
    "- **signing** used for sign operations \n",
    "- **recovery** could be used for key rotation and did document operations "
   ]
  }
 ],
 "metadata": {
  "kernelspec": {
   "display_name": "Python 3 (ipykernel)",
   "language": "python",
   "name": "python3"
  },
  "language_info": {
   "codemirror_mode": {
    "name": "ipython",
    "version": 3
   },
   "file_extension": ".py",
   "mimetype": "text/x-python",
   "name": "python",
   "nbconvert_exporter": "python",
   "pygments_lexer": "ipython3",
   "version": "3.9.12"
  },
  "sos": {
   "kernels": [
    [
     "JavaScript",
     "javascript",
     "JavaScript",
     "#c8e1ae",
     ""
    ],
    [
     "Markdown",
     "markdown",
     "markdown",
     "",
     "markdown"
    ],
    [
     "Python3",
     "python3",
     "Python3",
     "#FFD91A",
     {
      "name": "ipython",
      "version": 3
     }
    ]
   ],
   "version": "0.21.21"
  },
  "vscode": {
   "interpreter": {
    "hash": "949777d72b0d2535278d3dc13498b2535136f6dfe0678499012e853ee9abcab1"
   }
  }
 },
 "nbformat": 4,
 "nbformat_minor": 4
}
